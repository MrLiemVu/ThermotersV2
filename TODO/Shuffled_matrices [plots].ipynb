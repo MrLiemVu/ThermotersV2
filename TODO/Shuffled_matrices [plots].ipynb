{
 "cells": [
  {
   "cell_type": "markdown",
   "metadata": {},
   "source": [
    "# Imports and definitions"
   ]
  },
  {
   "cell_type": "code",
   "execution_count": 15,
   "metadata": {
    "ExecuteTime": {
     "end_time": "2020-04-20T12:38:44.373975Z",
     "start_time": "2020-04-20T12:38:41.099449Z"
    }
   },
   "outputs": [],
   "source": [
    "import numpy as np\n",
    "import pandas as pd\n",
    "import matplotlib.pyplot as plt\n",
    "%config InlineBackend.figure_format = 'retina'\n",
    "from sys import path as syspath\n",
    "from collections.abc import Mapping\n",
    "from scipy.special import logsumexp\n",
    "from collections import OrderedDict\n",
    "from Bio import SeqIO\n",
    "import os\n",
    "from scipy.stats import distributions as dst\n",
    "\n",
    "genome = SeqIO.read(\"Ecoli/NC_000913.gbk\", \"genbank\")"
   ]
  },
  {
   "cell_type": "code",
   "execution_count": 3,
   "metadata": {
    "ExecuteTime": {
     "end_time": "2020-04-20T12:38:45.614768Z",
     "start_time": "2020-04-20T12:38:44.375512Z"
    },
    "code_folding": [
     0
    ]
   },
   "outputs": [
    {
     "ename": "AttributeError",
     "evalue": "'SimpleLocation' object has no attribute 'nofuzzy_start'",
     "output_type": "error",
     "traceback": [
      "\u001b[1;31m---------------------------------------------------------------------------\u001b[0m",
      "\u001b[1;31mAttributeError\u001b[0m                            Traceback (most recent call last)",
      "Cell \u001b[1;32mIn[3], line 17\u001b[0m\n\u001b[0;32m     15\u001b[0m \u001b[38;5;28;01mfor\u001b[39;00m il, lc \u001b[38;5;129;01min\u001b[39;00m \u001b[38;5;28menumerate\u001b[39m(locs):\n\u001b[0;32m     16\u001b[0m     k \u001b[38;5;241m=\u001b[39m \u001b[38;5;28mint\u001b[39m(lc\u001b[38;5;241m.\u001b[39mstrand\u001b[38;5;241m<\u001b[39m\u001b[38;5;241m0\u001b[39m)\n\u001b[1;32m---> 17\u001b[0m     \u001b[38;5;28;01massert\u001b[39;00m lc\u001b[38;5;241m.\u001b[39mstart \u001b[38;5;241m==\u001b[39m \u001b[43mlc\u001b[49m\u001b[38;5;241;43m.\u001b[39;49m\u001b[43mnofuzzy_start\u001b[49m\n\u001b[0;32m     18\u001b[0m     \u001b[38;5;28;01massert\u001b[39;00m lc\u001b[38;5;241m.\u001b[39mend   \u001b[38;5;241m==\u001b[39m lc\u001b[38;5;241m.\u001b[39mnofuzzy_end\n\u001b[0;32m     19\u001b[0m     x[k,lc\u001b[38;5;241m.\u001b[39mstart:lc\u001b[38;5;241m.\u001b[39mend] \u001b[38;5;241m=\u001b[39m \u001b[38;5;241m1\u001b[39m\n",
      "\u001b[1;31mAttributeError\u001b[0m: 'SimpleLocation' object has no attribute 'nofuzzy_start'"
     ]
    }
   ],
   "source": [
    "# assign position identities (inside == intragenic, outside == intergenic)\n",
    "fttypes = set([ft.type for ft in genome.features])\n",
    "genomeFlags = OrderedDict([])\n",
    "take = OrderedDict([])\n",
    "for fttype in fttypes:\n",
    "    \n",
    "    # print (fttype)\n",
    "    take[fttype] = [ft for ft in genome.features if ft.type==fttype]\n",
    "    nparts = [len(ft.location.parts) for ft in take[fttype]]\n",
    "    \n",
    "    # assert all parts within features are on the same strand\n",
    "    for ft in take[fttype]:\n",
    "        pts = ft.location.parts\n",
    "        assert np.all([pt.strand==pts[0].strand for pt in pts])\n",
    "    locs = [pt for ft in take[fttype] for pt in ft.location.parts]\n",
    "    x = np.zeros((2,len(genome)))\n",
    "    for il, lc in enumerate(locs):\n",
    "        k = int(lc.strand<0)\n",
    "        assert lc.start == lc.nofuzzy_start\n",
    "        assert lc.end   == lc.nofuzzy_end\n",
    "        x[k,lc.start:lc.end] = 1\n",
    "    genomeFlags[fttype] = x\n",
    "\n",
    "\n",
    "genFilter = OrderedDict([\n",
    "    (\"within\", np.vstack([genomeFlags[k] for k in [\n",
    "                        \"misc_feature\",\n",
    "                        # \"mobile_element\",\n",
    "                        # \"repeat_region\",\n",
    "                        # \"rep_origin\",\n",
    "                        # \"tRNA\",\n",
    "                        # \"STS\",\n",
    "                        # \"tmRNA\",\n",
    "                        # \"source\"\n",
    "                        # \"rRNA\",\n",
    "                        # \"ncRNA\",\n",
    "                        \"CDS\",\n",
    "                        \"gene\",\n",
    "                    ]]).sum(axis=0)>0),\n",
    "    (\"outside\", np.vstack([genomeFlags[k] for k in [\n",
    "                        \"misc_feature\",\n",
    "                        \"mobile_element\",\n",
    "                        \"repeat_region\",\n",
    "                        # \"rep_origin\",\n",
    "                        \"tRNA\",\n",
    "                        \"STS\",\n",
    "                        \"tmRNA\",\n",
    "                        # \"source\"\n",
    "                        \"rRNA\",\n",
    "                        \"CDS\",\n",
    "                        \"gene\",\n",
    "                        \"ncRNA\",\n",
    "                    ]]).sum(axis=0)==0),\n",
    "    ])\n"
   ]
  },
  {
   "cell_type": "markdown",
   "metadata": {},
   "source": [
    "# Import histograms"
   ]
  },
  {
   "cell_type": "markdown",
   "metadata": {},
   "source": [
    "## real histograms\n",
    "\n",
    "freeE_[5]_with_pwi.npy NOT EXIST"
   ]
  },
  {
   "cell_type": "code",
   "execution_count": 4,
   "metadata": {
    "ExecuteTime": {
     "end_time": "2020-04-20T12:39:10.271639Z",
     "start_time": "2020-04-20T12:39:09.659633Z"
    }
   },
   "outputs": [
    {
     "ename": "FileNotFoundError",
     "evalue": "[Errno 2] No such file or directory: 'Ecoli/freeE_[5]_with_pwi.npy'",
     "output_type": "error",
     "traceback": [
      "\u001b[1;31m---------------------------------------------------------------------------\u001b[0m",
      "\u001b[1;31mFileNotFoundError\u001b[0m                         Traceback (most recent call last)",
      "Cell \u001b[1;32mIn[4], line 4\u001b[0m\n\u001b[0;32m      2\u001b[0m minimalValue \u001b[38;5;241m=\u001b[39m {}\n\u001b[0;32m      3\u001b[0m \u001b[38;5;66;03m# with pairwise interactions\u001b[39;00m\n\u001b[1;32m----> 4\u001b[0m freeEs \u001b[38;5;241m=\u001b[39m \u001b[43mnp\u001b[49m\u001b[38;5;241;43m.\u001b[39;49m\u001b[43mload\u001b[49m\u001b[43m(\u001b[49m\u001b[38;5;124;43m\"\u001b[39;49m\u001b[38;5;124;43mEcoli/freeE_[5]_with_pwi.npy\u001b[39;49m\u001b[38;5;124;43m\"\u001b[39;49m\u001b[43m)\u001b[49m\n\u001b[0;32m      5\u001b[0m minimalValue[\u001b[38;5;124m\"\u001b[39m\u001b[38;5;124mwith_pwi\u001b[39m\u001b[38;5;124m\"\u001b[39m] \u001b[38;5;241m=\u001b[39m freeEs\u001b[38;5;241m.\u001b[39mmin()\n\u001b[0;32m      6\u001b[0m FreeEnergy[\u001b[38;5;124m\"\u001b[39m\u001b[38;5;124mwith_pwi\u001b[39m\u001b[38;5;124m\"\u001b[39m] \u001b[38;5;241m=\u001b[39m { fl: freeEs[:,genFilter[fl]]\u001b[38;5;241m.\u001b[39mflatten() \u001b[38;5;28;01mfor\u001b[39;00m fl \u001b[38;5;129;01min\u001b[39;00m genFilter }\n",
      "File \u001b[1;32mc:\\Python312\\Lib\\site-packages\\numpy\\lib\\npyio.py:427\u001b[0m, in \u001b[0;36mload\u001b[1;34m(file, mmap_mode, allow_pickle, fix_imports, encoding, max_header_size)\u001b[0m\n\u001b[0;32m    425\u001b[0m     own_fid \u001b[38;5;241m=\u001b[39m \u001b[38;5;28;01mFalse\u001b[39;00m\n\u001b[0;32m    426\u001b[0m \u001b[38;5;28;01melse\u001b[39;00m:\n\u001b[1;32m--> 427\u001b[0m     fid \u001b[38;5;241m=\u001b[39m stack\u001b[38;5;241m.\u001b[39menter_context(\u001b[38;5;28;43mopen\u001b[39;49m\u001b[43m(\u001b[49m\u001b[43mos_fspath\u001b[49m\u001b[43m(\u001b[49m\u001b[43mfile\u001b[49m\u001b[43m)\u001b[49m\u001b[43m,\u001b[49m\u001b[43m \u001b[49m\u001b[38;5;124;43m\"\u001b[39;49m\u001b[38;5;124;43mrb\u001b[39;49m\u001b[38;5;124;43m\"\u001b[39;49m\u001b[43m)\u001b[49m)\n\u001b[0;32m    428\u001b[0m     own_fid \u001b[38;5;241m=\u001b[39m \u001b[38;5;28;01mTrue\u001b[39;00m\n\u001b[0;32m    430\u001b[0m \u001b[38;5;66;03m# Code to distinguish from NumPy binary files and pickles.\u001b[39;00m\n",
      "\u001b[1;31mFileNotFoundError\u001b[0m: [Errno 2] No such file or directory: 'Ecoli/freeE_[5]_with_pwi.npy'"
     ]
    }
   ],
   "source": [
    "FreeEnergy = {}\n",
    "minimalValue = {}\n",
    "# with pairwise interactions\n",
    "freeEs = np.load(\"Ecoli/freeE_[5]_with_pwi.npy\")\n",
    "minimalValue[\"with_pwi\"] = freeEs.min()\n",
    "FreeEnergy[\"with_pwi\"] = { fl: freeEs[:,genFilter[fl]].flatten() for fl in genFilter }\n",
    "\n",
    "# without pairwise interactions\n",
    "freeEs = np.load(\"Ecoli/freeE_[5]_without_pwi.npy\")\n",
    "minimalValue[\"without_pwi\"] = freeEs.min()\n",
    "FreeEnergy[\"without_pwi\"] = { fl: freeEs[:,genFilter[fl]].flatten() for fl in genFilter }\n",
    "del freeEs"
   ]
  },
  {
   "cell_type": "code",
   "execution_count": 5,
   "metadata": {
    "ExecuteTime": {
     "end_time": "2020-04-20T12:39:21.059787Z",
     "start_time": "2020-04-20T12:39:14.673629Z"
    }
   },
   "outputs": [],
   "source": [
    "db = .2\n",
    "binCenters = {}\n",
    "realCumulHist = {}\n",
    "for k in FreeEnergy:\n",
    "    bbs = np.arange(minimalValue[k]-5, minimalValue[k]+30, db)\n",
    "    bbs -= db/2\n",
    "    binCenters[k] = (bbs[:-1]+bbs[1:])/2\n",
    "    realCumulHist[k] = {fl: np.array([(FreeEnergy[k][fl]<l).sum() for l in bbs[1:]]) for fl in genFilter}"
   ]
  },
  {
   "cell_type": "code",
   "execution_count": 9,
   "metadata": {
    "ExecuteTime": {
     "end_time": "2020-04-20T12:39:26.084812Z",
     "start_time": "2020-04-20T12:39:25.191791Z"
    }
   },
   "outputs": [
    {
     "ename": "NameError",
     "evalue": "name 'genFilter' is not defined",
     "output_type": "error",
     "traceback": [
      "\u001b[1;31m---------------------------------------------------------------------------\u001b[0m",
      "\u001b[1;31mNameError\u001b[0m                                 Traceback (most recent call last)",
      "Cell \u001b[1;32mIn[9], line 2\u001b[0m\n\u001b[0;32m      1\u001b[0m fig, axs \u001b[38;5;241m=\u001b[39m plt\u001b[38;5;241m.\u001b[39msubplots(\u001b[38;5;241m1\u001b[39m,\u001b[38;5;241m2\u001b[39m,figsize\u001b[38;5;241m=\u001b[39m(\u001b[38;5;241m10\u001b[39m,\u001b[38;5;241m3.7\u001b[39m), sharex\u001b[38;5;241m=\u001b[39m\u001b[38;5;28;01mTrue\u001b[39;00m, sharey\u001b[38;5;241m=\u001b[39m\u001b[38;5;28;01mTrue\u001b[39;00m)\n\u001b[1;32m----> 2\u001b[0m \u001b[38;5;28;01mfor\u001b[39;00m fl, ax \u001b[38;5;129;01min\u001b[39;00m \u001b[38;5;28mzip\u001b[39m(\u001b[43mgenFilter\u001b[49m, axs):\n\u001b[0;32m      3\u001b[0m     ax\u001b[38;5;241m.\u001b[39mset_title(fl)\n\u001b[0;32m      4\u001b[0m     \u001b[38;5;28;01mfor\u001b[39;00m k \u001b[38;5;129;01min\u001b[39;00m realCumulHist:\n",
      "\u001b[1;31mNameError\u001b[0m: name 'genFilter' is not defined"
     ]
    },
    {
     "data": {
      "image/png": "[encoded data removed]",
      "text/plain": [
       "<Figure size 1000x370 with 2 Axes>"
      ]
     },
     "metadata": {
      "image/png": {
       "height": 334,
       "width": 837
      }
     },
     "output_type": "display_data"
    }
   ],
   "source": [
    "fig, axs = plt.subplots(1,2,figsize=(10,3.7), sharex=True, sharey=True)\n",
    "for fl, ax in zip(genFilter, axs):\n",
    "    ax.set_title(fl)\n",
    "    for k in realCumulHist:\n",
    "        ax.plot(binCenters[k], realCumulHist[k][fl], label=k)\n",
    "ax.set_yscale(\"log\")\n",
    "ax.set_xlim(-5,13)\n",
    "ax.set_ylim(.5,8e5)\n",
    "axs[0].legend(loc=2)"
   ]
  },
  {
   "cell_type": "markdown",
   "metadata": {},
   "source": [
    "## histograms from shuffled matrices"
   ]
  },
  {
   "cell_type": "code",
   "execution_count": 10,
   "metadata": {
    "ExecuteTime": {
     "end_time": "2020-04-20T12:40:08.104770Z",
     "start_time": "2020-04-20T12:40:08.097255Z"
    }
   },
   "outputs": [
    {
     "name": "stdout",
     "output_type": "stream",
     "text": [
      "! not found: nbdumps/shuffled_matrix_genome_free_energies_without_pwi.dmp\n",
      "! not found: nbdumps/shuffled_matrix_genome_free_energies_with_pwi.dmp\n",
      "! not found: nbdumps/shuffled_matrix_genome_free_energies_with_pwi_reindexed.dmp\n"
     ]
    }
   ],
   "source": [
    "rndCumulHist = {}\n",
    "for k in [\"without_pwi\", \"with_pwi\", \"with_pwi_reindexed\"]:\n",
    "    picklename = f\"nbdumps/shuffled_matrix_genome_free_energies_{k}.dmp\"\n",
    "    if os.path.isfile(picklename):\n",
    "        with open(picklename,\"rb\") as f: rndCumulHist[k] = pickle.load(f)\n",
    "        print (\"imported\", picklename)\n",
    "    else:\n",
    "        print (\"! not found:\", picklename)"
   ]
  },
  {
   "cell_type": "code",
   "execution_count": 14,
   "metadata": {
    "ExecuteTime": {
     "end_time": "2020-04-20T12:44:15.107299Z",
     "start_time": "2020-04-20T12:44:07.390276Z"
    }
   },
   "outputs": [],
   "source": [
    "for k in rndCumulHist:\n",
    "    yrnd  = rndCumulHist[k]\n",
    "    try:\n",
    "        x = binCenters[k]-minimalValue[k]\n",
    "        yreal = realCumulHist[k]\n",
    "    except:\n",
    "        x = binCenters[k.replace(\"_reindexed\",\"\")]-minimalValue[k.replace(\"_reindexed\",\"\")]\n",
    "        yreal = realCumulHist[k.replace(\"_reindexed\",\"\")]\n",
    "        \n",
    "    fig,axs = plt.subplots(2,2,figsize=(9,5.5), gridspec_kw={\"height_ratios\":[3,1.8]}, sharex=True, sharey=\"row\")\n",
    "    fig.suptitle(k)\n",
    "    for ax,axl,fl in zip(axs[0], axs[1], sorted(genFilter)):\n",
    "        y = yrnd[fl]\n",
    "        ax.set_title(\"intergenic\" if fl==\"outside\" else \"intragenic\")\n",
    "        ax.step(x, yreal[fl], where=\"mid\", color=\"darkcyan\")\n",
    "        ax.plot(x, y.mean(0), color=\"k\")\n",
    "#         ax.plot(x, np.percentile(y,  2.5,axis=0), color=\"darkgrey\")\n",
    "#         ax.plot(x, np.percentile(y, 97.5,axis=0), color=\"darkgrey\")\n",
    "        ax.fill_between(x,\n",
    "                       np.percentile(y, 97.5,axis=0),\n",
    "                       np.percentile(y,  2.5,axis=0), color=\"darkgrey\", alpha = .3)\n",
    "\n",
    "        pv = dst.norm.cdf(\n",
    "                yreal[fl],\n",
    "                loc=y.mean(0),\n",
    "                scale=y.std(0)+.1,\n",
    "                )\n",
    "        axl.plot(x, pv,color=\"darkcyan\")\n",
    "        axl.axhline(0.05, ls=\"--\", color=\"k\",lw=.7)\n",
    "        axl.set_xlabel(r\"free Energy $\\Delta E$\")\n",
    "    ax.set_yscale(\"log\")\n",
    "    ax.set_xlim(-.2,16)\n",
    "    ax.set_ylim(.8,2e6)\n",
    "    axl.set_yscale(\"log\")\n",
    "    axs[1,0].set_ylabel(\"p-value\")\n",
    "    axs[0,0].set_ylabel(\"Cumulative histogram\")\n",
    "\n",
    "    plt.subplots_adjust(hspace=0.01,wspace=0.1)\n",
    "    plt.savefig(f\"Ecoli/shuffled_matrix_{k}.pdf\")\n",
    "    plt.savefig(f\"Ecoli/shuffled_matrix_{k}.png\", dpi = 300)"
   ]
  },
  {
   "cell_type": "code",
   "execution_count": null,
   "metadata": {
    "hidden": true
   },
   "outputs": [],
   "source": []
  }
 ],
 "metadata": {
  "kernelspec": {
   "display_name": "Python 3",
   "language": "python",
   "name": "python3"
  },
  "language_info": {
   "codemirror_mode": {
    "name": "ipython",
    "version": 3
   },
   "file_extension": ".py",
   "mimetype": "text/x-python",
   "name": "python",
   "nbconvert_exporter": "python",
   "pygments_lexer": "ipython3",
   "version": "3.12.3"
  },
  "toc": {
   "base_numbering": 1,
   "nav_menu": {},
   "number_sections": true,
   "sideBar": true,
   "skip_h1_title": false,
   "title_cell": "Table of Contents",
   "title_sidebar": "Contents",
   "toc_cell": false,
   "toc_position": {},
   "toc_section_display": true,
   "toc_window_display": true
  }
 },
 "nbformat": 4,
 "nbformat_minor": 4
}
