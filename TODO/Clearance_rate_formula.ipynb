{
 "cells": [
  {
   "cell_type": "markdown",
   "metadata": {},
   "source": [
    "Let us consider three states: ON $\\rightleftharpoons$ OFF $\\rightleftharpoons$ BLOCKED, with transitions rates among them as follows: \n",
    "\n",
    "\n",
    "|   |  |\n",
    "| --- | --- |\n",
    "| $c k^+$ | OFF $\\rightarrow$ ON, and OFF $\\rightarrow$ BLOCK; independent of the sequence ($c$ is concentration of RNAp)|\n",
    "| $r{+}k^{{}^-}_B$ | BLOCK $\\rightarrow$ OFF, depends on the BLOCK sequence as $k^{{}^-}_B \\propto \\exp(E_B)$ |\n",
    "| $r{+}k^{{}^-}_{ON}$ | ON $\\rightarrow$ OFF, depends on the ON sequence as $k^{{}^-}_B \\propto \\exp(E_{ON})$; $r$ is the clearance rate|\n",
    "\n",
    "In stationarity we have\n",
    "$$(r+k^{{}^-}_{ON}) P_{ON} = c\\;k^+ P_{OFF} = (r+k^{{}^-}_{B}) P_{B}.$$ \n",
    "\n",
    "Define binding energies $E_{ON(B)} = \\log \\frac{k^{{}^-}_{ON(B)}}{k^+}$ and relative clearance rate $\\;R=\\frac{r}{ck^+}$ (relative to the RNAp recruitment rate).\n",
    "\n",
    "We also have $P_{ON}+P_{B}+P_{OFF} = 1$. \n",
    "\n",
    "Solving this for $P_{ON}$ gives \n",
    "\n",
    "$$ P_{ON} = \\frac{\n",
    "    c\\left( cR + e^{E_{ON}} \\right)^{-1}\n",
    "    }{\n",
    "    1+ c\\left( cR + e^{E_{ON}} \\right)^{-1} + c\\left( cR + e^{E_{B}} \\right)^{-1}\n",
    "    }$$\n",
    "\n",
    "Note that with $R=0$, we reobtain the typical TD formula\n",
    "\n",
    "$$ P_{ON; R=0} = \\frac{c e^{-E_{ON}} }{1+ c e^{-E_{ON}} + c e^{-E_{B}}  }$$\n",
    "\n",
    "#### Discussion on fitting\n",
    "\n",
    "Let us define an arbitraty ground energy level E_0 and measure all energies from it $\\Delta E = E-E_0$. Also, we have assumed natural units for energy (kT). When fitting, the energy magnitude is not well constrained, for which it is convenient to introduce a separate parameter $\\alpha$, s.t. $E\\rightarrow \\alpha E$.\n",
    "\n",
    "Is is worth point out that in a typical experiment we cannot distinguish both $\\alpha E_0$ and RNAp concentration $c$, but only their particular combination $\\ln c + \\alpha E_0$. For convenience, we define \"chemical potential\" as  $\\mu = E_0 + \\frac{\\ln c}\\alpha$, so that the formula for $P_{ON}$ becomes\n",
    "\n",
    "$$ P_{ON} = \\frac{\n",
    "    \\left( R + e^{\\alpha(\\Delta E_{ON} -\\mu)} \\right)^{-1}\n",
    "    }{\n",
    "    1+ \\left( R + e^{\\alpha(\\Delta E_{ON} -\\mu)} \\right)^{-1} + \\left( R + e^{\\alpha(\\Delta E_{B} -\\mu)} \\right)^{-1}\n",
    "    },$$"
   ]
  },
  {
   "cell_type": "markdown",
   "metadata": {},
   "source": [
    "Finally, let us note that in the two-state case (ON and OFF only, no BLOCK), the above formula reduces to:\n",
    "$$ P_{ON;\\; R} = \\frac{1}{1+R+ e^{\\alpha(\\Delta E_{ON}-\\mu)} } =\n",
    " \\frac{1}{1+R} \\times \\frac{1}{1+ \\frac{1}{1{+}R}e^{\\alpha(\\Delta E_{ON}-\\mu)} }.$$\n",
    "\n",
    "A simple shift $\\mu \\rightarrow \\mu_R := \\mu_{(0)}-\\log(1{+}R)/\\alpha$, resulting in $P_{ON;\\; R} = P_{ON;\\; 0}/(1{+}R)$, would yield the same performance as the model without clearance rate.\n",
    "\n",
    "In all our datasets, the number od sequences with the blocked states is a clear minority, so the optimal chemical potential needs to be close to $\\mu_R$ (yet not equal)."
   ]
  },
  {
   "cell_type": "markdown",
   "metadata": {},
   "source": [
    "So, if we were to scan over clearance rate, while refitting chemical potentials for each $R$, and find that $\\mu+\\frac{\\ln(1+R)}\\alpha$ does not change, this would indicate that there is no blocked state.\n",
    "\n",
    "__for what it's worth:__ In the model with clearance rate, gene expression rate is proportional to $r\\;P_{ON}$. However, taking the limit $R\\rightarrow 0$ only makes sense for $P_{ON}$..."
   ]
  },
  {
   "cell_type": "markdown",
   "metadata": {},
   "source": [
    "#### More notes on the influence of blocking state\n",
    "$P_{ON;\\;\\mu = \\mu_R +\\delta \\mu}(R)$ can be massaged into (dropping \"$ON$\" subscript, also $P_0:=P_{R=0;\\;\\mu=\\mu_0}$)\n",
    "$$\n",
    "P_{R;\\mu} = \\frac {P_0}{1+R} \\frac{1}{P_0+(1-P_0)e^{-\\alpha\\;\\delta\\mu}+{A} },\n",
    "$$\n",
    "where $A$ is the ratio of the Botzmann weights of the _blocked_ and _on_ state:\n",
    "$$A = \\frac{R+ e^{\\alpha(\\Delta E_{ON}-\\mu)}}{R+ e^{\\alpha(\\Delta E_{B}-\\mu)}}.$$\n",
    "From the last formula we can now explain the \"gap\":\n",
    "$$\n",
    "\\lim_{P_0\\to 0} \\frac {P_{R;\\mu}(1{+}R)}{P_0} = \\alpha\\;\\delta\\mu\\;\\log_{10}e\n",
    "$$"
   ]
  }
 ],
 "metadata": {
  "kernelspec": {
   "display_name": "Physio",
   "language": "python",
   "name": "physio"
  },
  "language_info": {
   "codemirror_mode": {
    "name": "ipython",
    "version": 3
   },
   "file_extension": ".py",
   "mimetype": "text/x-python",
   "name": "python",
   "nbconvert_exporter": "python",
   "pygments_lexer": "ipython3",
   "version": "3.7.0"
  },
  "toc": {
   "base_numbering": 1,
   "nav_menu": {},
   "number_sections": true,
   "sideBar": true,
   "skip_h1_title": false,
   "title_cell": "Table of Contents",
   "title_sidebar": "Contents",
   "toc_cell": false,
   "toc_position": {},
   "toc_section_display": true,
   "toc_window_display": false
  },
  "varInspector": {
   "cols": {
    "lenName": 16,
    "lenType": 16,
    "lenVar": 40
   },
   "kernels_config": {
    "python": {
     "delete_cmd_postfix": "",
     "delete_cmd_prefix": "del ",
     "library": "var_list.py",
     "varRefreshCmd": "print(var_dic_list())"
    },
    "r": {
     "delete_cmd_postfix": ") ",
     "delete_cmd_prefix": "rm(",
     "library": "var_list.r",
     "varRefreshCmd": "cat(var_dic_list()) "
    }
   },
   "types_to_exclude": [
    "module",
    "function",
    "builtin_function_or_method",
    "instance",
    "_Feature"
   ],
   "window_display": false
  }
 },
 "nbformat": 4,
 "nbformat_minor": 2
}
