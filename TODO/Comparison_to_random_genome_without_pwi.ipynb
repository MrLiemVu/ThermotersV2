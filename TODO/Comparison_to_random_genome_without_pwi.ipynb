{
 "cells": [
  {
   "cell_type": "markdown",
   "metadata": {},
   "source": [
    "#### setting up"
   ]
  },
  {
   "cell_type": "code",
   "execution_count": 1,
   "metadata": {
    "ExecuteTime": {
     "end_time": "2020-04-20T12:52:06.833511Z",
     "start_time": "2020-04-20T12:52:06.320793Z"
    }
   },
   "outputs": [],
   "source": [
    "import numpy as np\n",
    "import pandas as pd\n",
    "import matplotlib.pyplot as plt\n",
    "%config InlineBackend.figure_format = 'retina'\n",
    "from sys import path as syspath\n",
    "syspath.append(\"functions/\")\n",
    "\n",
    "%load_ext autoreload\n",
    "%autoreload 1\n",
    "%aimport data_functions, model_functions\n",
    "import os\n",
    "from collections import OrderedDict\n",
    "import pickle\n",
    "# from data_functions import *\n",
    "from model_functions import *\n",
    "from copy import deepcopy\n",
    "from Bio import SeqIO\n",
    "bases = \"acgt\"\n",
    "lett_to_index = dict(zip(bases,range(4)))\n",
    "from scipy.special import logsumexp"
   ]
  },
  {
   "cell_type": "code",
   "execution_count": 2,
   "metadata": {
    "ExecuteTime": {
     "end_time": "2020-04-20T12:52:07.744202Z",
     "start_time": "2020-04-20T12:52:07.741454Z"
    }
   },
   "outputs": [],
   "source": [
    "def tally(x):\n",
    "    return pd.Series(x).value_counts().sort_index()"
   ]
  },
  {
   "cell_type": "code",
   "execution_count": 3,
   "metadata": {
    "ExecuteTime": {
     "end_time": "2020-04-20T12:52:09.897803Z",
     "start_time": "2020-04-20T12:52:07.922044Z"
    }
   },
   "outputs": [],
   "source": [
    "genome = SeqIO.read(\"Ecoli/NC_000913.gbk\", \"genbank\")"
   ]
  },
  {
   "cell_type": "code",
   "execution_count": 4,
   "metadata": {
    "ExecuteTime": {
     "end_time": "2020-04-20T12:52:10.978988Z",
     "start_time": "2020-04-20T12:52:09.899572Z"
    }
   },
   "outputs": [],
   "source": [
    "fttypes = set([ft.type for ft in genome.features])\n",
    "genomeFlags = OrderedDict([])\n",
    "take = OrderedDict([])\n",
    "for fttype in fttypes:\n",
    "    # print (fttype)\n",
    "    take[fttype] = [ft for ft in genome.features if ft.type==fttype]\n",
    "    nparts = [len(ft.location.parts) for ft in take[fttype]]\n",
    "    # assert all parts within features are on the same strand\n",
    "    for ft in take[fttype]:\n",
    "        pts = ft.location.parts\n",
    "        assert np.all([pt.strand==pts[0].strand for pt in pts])\n",
    "    locs = [pt for ft in take[fttype] for pt in ft.location.parts]\n",
    "    x = np.zeros((2,len(genome)))\n",
    "    for il,lc in enumerate(locs):\n",
    "        k = int(lc.strand<0)\n",
    "        assert lc.start == lc.nofuzzy_start\n",
    "        assert lc.end   == lc.nofuzzy_end\n",
    "        x[k,lc.start:lc.end] = 1\n",
    "    genomeFlags[fttype] = x\n",
    "\n",
    "\n",
    "genFilter = OrderedDict([\n",
    "    ################ intra-genic ################\n",
    "    (\"within\", np.vstack([genomeFlags[k] for k in [\n",
    "                        \"misc_feature\",\n",
    "                        # \"mobile_element\",\n",
    "                        # \"repeat_region\",\n",
    "                        # \"rep_origin\",\n",
    "                        # \"tRNA\",\n",
    "                        # \"STS\",\n",
    "                        # \"tmRNA\",\n",
    "                        # \"source\"\n",
    "                        # \"rRNA\",\n",
    "                        # \"ncRNA\",\n",
    "                        \"CDS\",\n",
    "                        \"gene\",\n",
    "                    ]]).sum(axis=0)>0),\n",
    "    ################ inter-genic ################\n",
    "    (\"outside\", np.vstack([genomeFlags[k] for k in [\n",
    "                        \"misc_feature\",\n",
    "                        \"mobile_element\",\n",
    "                        \"repeat_region\",\n",
    "                        # \"rep_origin\",\n",
    "                        \"tRNA\",\n",
    "                        \"STS\",\n",
    "                        \"tmRNA\",\n",
    "                        # \"source\"\n",
    "                        \"rRNA\",\n",
    "                        \"CDS\",\n",
    "                        \"gene\",\n",
    "                        \"ncRNA\",\n",
    "                    ]]).sum(axis=0)==0),\n",
    "    ])"
   ]
  },
  {
   "cell_type": "code",
   "execution_count": 5,
   "metadata": {
    "ExecuteTime": {
     "end_time": "2020-04-20T12:52:12.599136Z",
     "start_time": "2020-04-20T12:52:11.312784Z"
    }
   },
   "outputs": [],
   "source": [
    "numGen = np.array([lett_to_index[l] for l in genome.seq.lower()],dtype=np.int8)"
   ]
  },
  {
   "cell_type": "code",
   "execution_count": 6,
   "metadata": {
    "ExecuteTime": {
     "end_time": "2020-04-20T12:52:12.659285Z",
     "start_time": "2020-04-20T12:52:12.600670Z"
    }
   },
   "outputs": [],
   "source": [
    "baseFrac = {}\n",
    "for fl in genFilter:\n",
    "    a = np.array(tally(numGen[genFilter[fl]]))\n",
    "    baseFrac[fl] = a/a.sum()"
   ]
  },
  {
   "cell_type": "code",
   "execution_count": 7,
   "metadata": {
    "ExecuteTime": {
     "end_time": "2020-04-20T12:52:13.650612Z",
     "start_time": "2020-04-20T12:52:13.645450Z"
    }
   },
   "outputs": [
    {
     "data": {
      "text/plain": [
       "{'within': array([0.24113055, 0.25934596, 0.25857065, 0.24095284]),\n",
       " 'outside': array([0.29509327, 0.20487764, 0.2063366 , 0.29369249])}"
      ]
     },
     "execution_count": 7,
     "metadata": {},
     "output_type": "execute_result"
    }
   ],
   "source": [
    "baseFrac"
   ]
  },
  {
   "cell_type": "code",
   "execution_count": 8,
   "metadata": {
    "ExecuteTime": {
     "end_time": "2020-04-20T12:52:23.504023Z",
     "start_time": "2020-04-20T12:52:23.326209Z"
    }
   },
   "outputs": [],
   "source": [
    "with open(\"models/fitted_on_Pr.Pl.36N/model_[5]_extended\", \"rb\") as f:\n",
    "    theModel = pickle.load(f)"
   ]
  },
  {
   "cell_type": "code",
   "execution_count": 9,
   "metadata": {
    "ExecuteTime": {
     "end_time": "2020-04-20T12:52:24.805765Z",
     "start_time": "2020-04-20T12:52:24.803142Z"
    }
   },
   "outputs": [],
   "source": [
    "# treat sequences as if they come from 36N library\n",
    "# (essentially, only affects which chemical potential is used)\n",
    "treatAs = \"36N\""
   ]
  },
  {
   "cell_type": "code",
   "execution_count": 10,
   "metadata": {
    "ExecuteTime": {
     "end_time": "2020-04-20T12:52:24.999886Z",
     "start_time": "2020-04-20T12:52:24.997502Z"
    }
   },
   "outputs": [],
   "source": [
    "# we are not interested to model how rc binding interferes with frw.\n",
    "# but are using the rc strand as an independent strand.\n",
    "# so, we can turn off the rc flag in the model\n",
    "theModel[\"includeRC\"] = False"
   ]
  },
  {
   "cell_type": "code",
   "execution_count": 11,
   "metadata": {
    "ExecuteTime": {
     "end_time": "2020-04-20T12:52:26.216599Z",
     "start_time": "2020-04-20T12:52:26.194095Z"
    }
   },
   "outputs": [],
   "source": [
    "genOffset = sum(theModel[\"Layout\"]) + theModel[\"spFlex\"] # depends on the Layout and spFlex\n",
    "numSeqs = np.array([\n",
    "    np.hstack([numGen[-genOffset:],numGen      ]),\n",
    "  3-np.hstack([numGen      ,numGen[: genOffset]])[::-1],\n",
    "    \n",
    "], dtype=np.int8)\n",
    "\n",
    "assert np.all(numSeqs>=0)"
   ]
  },
  {
   "cell_type": "code",
   "execution_count": 12,
   "metadata": {
    "ExecuteTime": {
     "end_time": "2020-04-20T12:53:18.479242Z",
     "start_time": "2020-04-20T12:52:32.581533Z"
    }
   },
   "outputs": [],
   "source": [
    "bricks = getBrickDict({treatAs: numSeqs}, theModel)[treatAs]\n",
    "freeEs = -logsumexp(-bricks, axis=-1)"
   ]
  },
  {
   "cell_type": "code",
   "execution_count": 13,
   "metadata": {
    "ExecuteTime": {
     "end_time": "2020-04-20T12:53:18.596771Z",
     "start_time": "2020-04-20T12:53:18.480817Z"
    }
   },
   "outputs": [],
   "source": [
    "FreeEnergy = { fl: freeEs[:,genFilter[fl]].flatten() for fl in genFilter }"
   ]
  },
  {
   "cell_type": "code",
   "execution_count": 23,
   "metadata": {
    "ExecuteTime": {
     "end_time": "2020-04-20T12:56:11.300390Z",
     "start_time": "2020-04-20T12:56:11.297727Z"
    }
   },
   "outputs": [],
   "source": [
    "# %%time  # 1h 10mins\n",
    "# NrndGenome = int(1e8)\n",
    "\n",
    "# rndFreeEs = OrderedDict()\n",
    "# for fl in baseFrac:\n",
    "#     np.random.seed(0)\n",
    "#     rndGenome = np.random.choice(range(4), size=NrndGenome, p=baseFrac[fl])\n",
    "#     rndSeq = np.array([\n",
    "#             np.hstack([rndGenome[-genOffset:],rndGenome      ]),\n",
    "#           3-np.hstack([rndGenome,rndGenome[: genOffset]])[::-1],\n",
    "#         ], dtype=np.int8)\n",
    "#     bricks = getBrickDict({treatAs: rndSeq}, theModel)[treatAs]\n",
    "#     rndFreeEs[fl] = -logsumexp(-bricks, axis=-1).flatten()"
   ]
  },
  {
   "cell_type": "code",
   "execution_count": 36,
   "metadata": {
    "ExecuteTime": {
     "end_time": "2020-04-20T13:06:04.111422Z",
     "start_time": "2020-04-20T13:06:04.106925Z"
    }
   },
   "outputs": [
    {
     "data": {
      "text/plain": [
       "{'within': 24.04800559068034, 'outside': 223.76570835272636}"
      ]
     },
     "execution_count": 36,
     "metadata": {},
     "output_type": "execute_result"
    }
   ],
   "source": [
    "{fl:rndFreeEs[fl].size/FreeEnergy[fl].size for fl in genFilter}"
   ]
  },
  {
   "cell_type": "code",
   "execution_count": 124,
   "metadata": {
    "ExecuteTime": {
     "end_time": "2020-04-16T16:28:05.467198Z",
     "start_time": "2020-04-16T16:28:05.464767Z"
    }
   },
   "outputs": [],
   "source": [
    "# with open(\"nbdumps/random_genome_free_energies.dmp\",\"wb\") as f:\n",
    "#     pickle.dump(rndFreeEs,f)"
   ]
  },
  {
   "cell_type": "code",
   "execution_count": 24,
   "metadata": {
    "ExecuteTime": {
     "end_time": "2020-04-20T12:57:16.473518Z",
     "start_time": "2020-04-20T12:57:14.391795Z"
    }
   },
   "outputs": [],
   "source": [
    "with open(\"nbdumps/random_genome_free_energies.dmp\",\"rb\") as f:\n",
    "    rndFreeEs = pickle.load(f)"
   ]
  },
  {
   "cell_type": "code",
   "execution_count": 25,
   "metadata": {
    "ExecuteTime": {
     "end_time": "2020-04-20T12:57:17.276537Z",
     "start_time": "2020-04-20T12:57:17.251827Z"
    }
   },
   "outputs": [],
   "source": [
    "db = .2\n",
    "bbs = np.arange(freeEs.min()-1, freeEs.min()+20, db)\n",
    "bbs -= db/2"
   ]
  },
  {
   "cell_type": "code",
   "execution_count": 26,
   "metadata": {
    "ExecuteTime": {
     "end_time": "2020-04-20T12:57:17.902972Z",
     "start_time": "2020-04-20T12:57:17.900180Z"
    }
   },
   "outputs": [],
   "source": [
    "binCenters = (bbs[:-1]+bbs[1:])/2"
   ]
  },
  {
   "cell_type": "code",
   "execution_count": 27,
   "metadata": {
    "ExecuteTime": {
     "end_time": "2020-04-20T12:58:38.802975Z",
     "start_time": "2020-04-20T12:57:18.098508Z"
    }
   },
   "outputs": [],
   "source": [
    "rndCdf = {fl: [(rndFreeEs[fl]<l).sum()/rndFreeEs[fl].size for l in bbs[1:]] for fl in genFilter}"
   ]
  },
  {
   "cell_type": "code",
   "execution_count": 28,
   "metadata": {
    "ExecuteTime": {
     "end_time": "2020-04-20T12:58:40.580651Z",
     "start_time": "2020-04-20T12:58:38.804780Z"
    }
   },
   "outputs": [],
   "source": [
    "realCumulHist = {fl: np.array([(FreeEnergy[fl]<l).sum() for l in bbs[1:]]) for fl in genFilter}"
   ]
  },
  {
   "cell_type": "code",
   "execution_count": 29,
   "metadata": {
    "ExecuteTime": {
     "end_time": "2020-04-20T12:58:40.585122Z",
     "start_time": "2020-04-20T12:58:40.582236Z"
    }
   },
   "outputs": [],
   "source": [
    "rndCumulHist = {fl: np.array(rndCdf[fl])*FreeEnergy[fl].size for fl in genFilter}"
   ]
  },
  {
   "cell_type": "code",
   "execution_count": 30,
   "metadata": {
    "ExecuteTime": {
     "end_time": "2020-04-20T13:04:41.697874Z",
     "start_time": "2020-04-20T13:04:41.688842Z"
    }
   },
   "outputs": [],
   "source": [
    "offset = freeEs.min()"
   ]
  },
  {
   "cell_type": "code",
   "execution_count": 31,
   "metadata": {
    "ExecuteTime": {
     "end_time": "2020-04-20T13:04:44.185568Z",
     "start_time": "2020-04-20T13:04:44.182933Z"
    }
   },
   "outputs": [],
   "source": [
    "x = binCenters-offset"
   ]
  },
  {
   "cell_type": "code",
   "execution_count": 32,
   "metadata": {
    "ExecuteTime": {
     "end_time": "2020-04-20T13:04:51.881330Z",
     "start_time": "2020-04-20T13:04:51.877941Z"
    }
   },
   "outputs": [],
   "source": [
    "from scipy.stats import distributions as dst"
   ]
  },
  {
   "cell_type": "code",
   "execution_count": 33,
   "metadata": {
    "ExecuteTime": {
     "end_time": "2020-04-20T13:04:52.124110Z",
     "start_time": "2020-04-20T13:04:52.121673Z"
    }
   },
   "outputs": [],
   "source": [
    "CI = .95"
   ]
  },
  {
   "cell_type": "code",
   "execution_count": 34,
   "metadata": {
    "ExecuteTime": {
     "end_time": "2020-04-20T13:04:58.425964Z",
     "start_time": "2020-04-20T13:04:57.706579Z"
    }
   },
   "outputs": [
    {
     "data": {
      "text/plain": [
       "(0.3, 3849464.132914298)"
      ]
     },
     "execution_count": 34,
     "metadata": {},
     "output_type": "execute_result"
    },
    {
     "data": {
      "image/png": "[encoded data removed]",
      "text/plain": [
       "<Figure size 720x288 with 2 Axes>"
      ]
     },
     "metadata": {
      "image/png": {
       "height": 263,
       "width": 597
      },
      "needs_background": "light"
     },
     "output_type": "display_data"
    }
   ],
   "source": [
    "fig, axs = plt.subplots(1,2,figsize=(10,4), sharey=True)\n",
    "for ax,fl in zip(axs, genFilter):\n",
    "    ax.text(.02,.9, f\"{fl}, [gc]={baseFrac[fl][1:3].sum():.2f}\", transform=ax.transAxes)\n",
    "    ax.set_title(\"intergenic\" if fl==\"outside\" else \"intragenic\")\n",
    "    ax.step(x, realCumulHist[fl], where=\"mid\", color=\"darkred\")\n",
    "#     ax.step(x, rndCumulHist[fl], where=\"mid\")\n",
    "    ax.plot(x, rndCumulHist[fl], color=\"k\")\n",
    "#     ax.plot(x, )\n",
    "    \n",
    "    \n",
    "    ax.fill_between(x,\n",
    "                    dst.poisson.ppf(1-(1-CI)/2,mu=rndCumulHist[fl]),\n",
    "                    dst.poisson.ppf((1-CI)/2,mu=rndCumulHist[fl]), \n",
    "                    color=\"lightgrey\"\n",
    "                   )\n",
    "    ax.set_yscale(\"log\")\n",
    "    ax.set_xlim(-.1,)\n",
    "plt.ylim(.3,)"
   ]
  },
  {
   "cell_type": "code",
   "execution_count": null,
   "metadata": {},
   "outputs": [],
   "source": []
  },
  {
   "cell_type": "code",
   "execution_count": null,
   "metadata": {},
   "outputs": [],
   "source": []
  },
  {
   "cell_type": "code",
   "execution_count": null,
   "metadata": {},
   "outputs": [],
   "source": []
  },
  {
   "cell_type": "code",
   "execution_count": null,
   "metadata": {},
   "outputs": [],
   "source": []
  },
  {
   "cell_type": "code",
   "execution_count": null,
   "metadata": {},
   "outputs": [],
   "source": []
  },
  {
   "cell_type": "code",
   "execution_count": null,
   "metadata": {
    "code_folding": [
     0
    ]
   },
   "outputs": [],
   "source": [
    "# full_dn panel with cumm p-value\n",
    "NreBin = 1\n",
    "Nsigma = 2\n",
    "fig,axs = plt.subplots(2,2,figsize=(7,4.5), gridspec_kw={\"height_ratios\":[3,1.8]}, sharex=True, sharey=\"row\")\n",
    "fitID = 'full'#'full-CR-rc'\n",
    "dinu = 1\n",
    "x = freeEbinCenters[:len(freeEbinCenters)//NreBin*NreBin].reshape((-1,NreBin)).mean(1)\n",
    "dx = x[1]-x[0]\n",
    "ixmax = np.where(x>=freeE[fitID].min())[0][0]\n",
    "xoffset = x[ixmax]\n",
    "x = x-xoffset+dx/2\n",
    "for axx,fl in zip([axs.T[0],axs.T[1]],[\"outside\", \"within\"]):\n",
    "    Yshow = pd.DataFrame({\"x\":x})\n",
    "    for yht in [\"YH\", \"YHreal\"]:\n",
    "        Yshow[(\"real\" if \"real\" in yht else \"rnd\")] = eval(yht+\"['\"+fitID+\"_\"+fl+\"_dn\"*dinu+\"']\")\n",
    "    for k in [\"real\",\"rnd\"]:\n",
    "        Yshow[k+\"_p\"] = np.cumsum(Yshow[k])/Yshow[k].sum()\n",
    "        Yshow[k+\"_p_err\"] = (Yshow[k+\"_p\"]*(1-Yshow[k+\"_p\"])/Yshow[k].sum())**.5\n",
    "    yexp = Yshow[\"rnd_p\"]*Yshow[\"real\"].sum()\n",
    "    axx[0].set_title(\"intergenic\" if fl==\"outside\" else \"intragenic\")\n",
    "    axx[0].step(Yshow[\"x\"],yexp.values,where=\"mid\",c=\"k\",\n",
    "                    label=r\"expected ($\\pm %i\\sigma$)\"%Nsigma)\n",
    "    axx[0].fill_between(\n",
    "        np.array([Yshow[\"x\"]-dx/2,Yshow[\"x\"]+dx/2]).T.flatten(),\n",
    "        np.array([yexp.values+Nsigma*yexp**.5]*2).T.flatten(),\n",
    "        np.array([yexp.values-Nsigma*yexp**.5]*2).T.flatten(),\n",
    "        alpha = .3,color=\"grey\"\n",
    "                       )\n",
    "    axx[0].step(Yshow[\"x\"],np.cumsum(Yshow[\"real\"]),where=\"mid\",c=\"darkred\",label=\"observed\")\n",
    "    yexpErr = yexp**.5\n",
    "    zscore = (np.cumsum(Yshow[\"real\"])-yexp)/yexpErr\n",
    "    log10pvs = np.maximum(dst.norm.logcdf(zscore)/np.log(10),-1000)\n",
    "    axx[1].step(Yshow[\"x\"],log10pvs,where=\"mid\",color=c)\n",
    "    for resc in [1]:\n",
    "        tmp = Yshow.query(\"x>%f\"%((measurableFreeE-xoffset)*resc)).iloc[0]\n",
    "        twoNS = np.log(tmp[\"real_p\"]/tmp[\"rnd_p\"])\n",
    "        twoNSerr = np.sqrt(tmp[\"real_p_err\"]**2/tmp[\"real_p\"]**2 + tmp[\"rnd_p_err\"]**2/tmp[\"rnd_p\"]**2)\n",
    "        twoNSz = twoNS/twoNSerr\n",
    "        pv = np.maximum(dst.norm.logcdf(twoNSz)/np.log(10),-100)\n",
    "        print (\"%20s \\t %.5f %.5f %3.1e\"%(fl, twoNS, twoNSerr,10**pv))\n",
    "    print ('='*30)\n",
    "\n",
    "for ax in axs.flat: ax.axvline(measurableFreeE-xoffset,color=\"grey\",ls=\"--\",lw=.7)\n",
    "for ax in axs[0]:\n",
    "    ax.set_yscale(\"log\")\n",
    "    ax.set_xlim(-.02,16)\n",
    "    ax.set_ylim(.8,3e5)\n",
    "for ax in axs[1]:\n",
    "    ax.set_yscale(\"symlog\")\n",
    "    ax.set_ylim(-110,-.2)\n",
    "\n",
    "axs[0,0].set_ylabel(\"number of bindings $\\leq \\Delta E$\")\n",
    "axs[0,0].legend(loc=4)\n",
    "for ax in axs[1]:\n",
    "    ax.set_xlabel(\"b.s. free energy $\\Delta E$\")\n",
    "    ax.yaxis.set_minor_locator(MinorSymLogLocator(1))\n",
    "    ax.grid(which=\"both\",lw=.4,axis=\"y\")\n",
    "ax = plt.subplot(axs[1,0])\n",
    "yt = list(plt.yticks()[0].astype(int))[:-1]\n",
    "plt.yticks(yt,yt)\n",
    "ax.set_ylabel(r\"$\\log _{10}$ p-value\"+\"\\nfor \"+r\"$s<0$\")\n",
    "# ax.set_ylabel(r\"$p$-value\"+\"\\nfor \"+r\"$s<0$\")\n",
    "plt.subplots_adjust(hspace=0.01,wspace=0.1)\n",
    "# fig.tight_layout()\n",
    "# fig.savefig(\"figures/CDF_free_energy.pdf\")\n",
    "# fig.savefig(\"figures/CDF_free_energy.eps\")"
   ]
  },
  {
   "cell_type": "code",
   "execution_count": null,
   "metadata": {},
   "outputs": [],
   "source": []
  },
  {
   "cell_type": "code",
   "execution_count": null,
   "metadata": {},
   "outputs": [],
   "source": []
  },
  {
   "cell_type": "code",
   "execution_count": null,
   "metadata": {},
   "outputs": [],
   "source": []
  },
  {
   "cell_type": "code",
   "execution_count": null,
   "metadata": {},
   "outputs": [],
   "source": []
  }
 ],
 "metadata": {
  "kernelspec": {
   "display_name": "Python [conda env:Py_38]",
   "language": "python",
   "name": "conda-env-Py_38-py"
  },
  "language_info": {
   "codemirror_mode": {
    "name": "ipython",
    "version": 3
   },
   "file_extension": ".py",
   "mimetype": "text/x-python",
   "name": "python",
   "nbconvert_exporter": "python",
   "pygments_lexer": "ipython3",
   "version": "3.8.0"
  },
  "toc": {
   "base_numbering": 1,
   "nav_menu": {},
   "number_sections": true,
   "sideBar": true,
   "skip_h1_title": false,
   "title_cell": "Table of Contents",
   "title_sidebar": "Contents",
   "toc_cell": false,
   "toc_position": {},
   "toc_section_display": true,
   "toc_window_display": false
  }
 },
 "nbformat": 4,
 "nbformat_minor": 4
}
