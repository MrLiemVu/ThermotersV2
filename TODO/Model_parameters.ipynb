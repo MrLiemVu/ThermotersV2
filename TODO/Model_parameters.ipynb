{
 "cells": [
  {
   "cell_type": "markdown",
   "metadata": {},
   "source": [
    "### setting up"
   ]
  },
  {
   "cell_type": "code",
   "execution_count": 3,
   "metadata": {
    "ExecuteTime": {
     "end_time": "2020-04-21T12:37:52.993777Z",
     "start_time": "2020-04-21T12:37:52.524047Z"
    }
   },
   "outputs": [
    {
     "name": "stdout",
     "output_type": "stream",
     "text": [
      "The autoreload extension is already loaded. To reload it, use:\n",
      "  %reload_ext autoreload\n"
     ]
    },
    {
     "ename": "ModuleNotFoundError",
     "evalue": "No module named 'general_functions'",
     "output_type": "error",
     "traceback": [
      "\u001b[1;31m---------------------------------------------------------------------------\u001b[0m",
      "\u001b[1;31mModuleNotFoundError\u001b[0m                       Traceback (most recent call last)",
      "Cell \u001b[1;32mIn[3], line 16\u001b[0m\n\u001b[0;32m     14\u001b[0m \u001b[38;5;28;01mimport\u001b[39;00m \u001b[38;5;21;01mpickle\u001b[39;00m\n\u001b[0;32m     15\u001b[0m \u001b[38;5;28;01mfrom\u001b[39;00m \u001b[38;5;21;01mfunctions\u001b[39;00m\u001b[38;5;21;01m.\u001b[39;00m\u001b[38;5;21;01mdata_functions\u001b[39;00m \u001b[38;5;28;01mimport\u001b[39;00m \u001b[38;5;241m*\u001b[39m\n\u001b[1;32m---> 16\u001b[0m \u001b[38;5;28;01mfrom\u001b[39;00m \u001b[38;5;21;01mfunctions\u001b[39;00m\u001b[38;5;21;01m.\u001b[39;00m\u001b[38;5;21;01mmodel_functions\u001b[39;00m \u001b[38;5;28;01mimport\u001b[39;00m \u001b[38;5;241m*\u001b[39m\n\u001b[0;32m     18\u001b[0m \u001b[38;5;28;01mfrom\u001b[39;00m \u001b[38;5;21;01mcopy\u001b[39;00m \u001b[38;5;28;01mimport\u001b[39;00m deepcopy\n",
      "File \u001b[1;32mc:\\Users\\drago\\Documents\\GitHub\\ThermotersV2\\TODO\\..\\functions\\model_functions.py:4\u001b[0m\n\u001b[0;32m      2\u001b[0m \u001b[38;5;28;01mfrom\u001b[39;00m \u001b[38;5;21;01mcollections\u001b[39;00m \u001b[38;5;28;01mimport\u001b[39;00m OrderedDict\n\u001b[0;32m      3\u001b[0m \u001b[38;5;28;01mimport\u001b[39;00m \u001b[38;5;21;01mnumpy\u001b[39;00m \u001b[38;5;28;01mas\u001b[39;00m \u001b[38;5;21;01mnp\u001b[39;00m\n\u001b[1;32m----> 4\u001b[0m \u001b[38;5;28;01mfrom\u001b[39;00m \u001b[38;5;21;01mgeneral_functions\u001b[39;00m \u001b[38;5;28;01mimport\u001b[39;00m multi_map\n\u001b[0;32m      5\u001b[0m \u001b[38;5;66;03m# from scipy.special import logsumexp\u001b[39;00m\n\u001b[0;32m      6\u001b[0m \u001b[38;5;28;01mfrom\u001b[39;00m \u001b[38;5;21;01mscipy\u001b[39;00m\u001b[38;5;21;01m.\u001b[39;00m\u001b[38;5;21;01mmisc\u001b[39;00m \u001b[38;5;28;01mimport\u001b[39;00m logsumexp\n",
      "\u001b[1;31mModuleNotFoundError\u001b[0m: No module named 'general_functions'"
     ]
    },
    {
     "ename": "",
     "evalue": "",
     "output_type": "error",
     "traceback": [
      "\u001b[1;31mThe Kernel crashed while executing code in the current cell or a previous cell. \n",
      "\u001b[1;31mPlease review the code in the cell(s) to identify a possible cause of the failure. \n",
      "\u001b[1;31mClick <a href='https://aka.ms/vscodeJupyterKernelCrash'>here</a> for more info. \n",
      "\u001b[1;31mView Jupyter <a href='command:jupyter.viewOutput'>log</a> for further details."
     ]
    }
   ],
   "source": [
    "import numpy as np\n",
    "import pandas as pd\n",
    "import matplotlib.pyplot as plt\n",
    "%config InlineBackend.figure_format = 'retina'\n",
    "from sys import path as syspath\n",
    "syspath.append(\"../\")\n",
    "\n",
    "%load_ext autoreload\n",
    "%autoreload 1\n",
    "\n",
    "import os\n",
    "from collections import OrderedDict\n",
    "# from sklearn.linear_model import LogisticRegression, LinearRegression\n",
    "import pickle\n",
    "from functions.data_functions import *\n",
    "from functions.model_functions import *\n",
    "\n",
    "from copy import deepcopy"
   ]
  },
  {
   "cell_type": "code",
   "execution_count": 2,
   "metadata": {
    "ExecuteTime": {
     "end_time": "2020-04-21T12:37:52.997514Z",
     "start_time": "2020-04-21T12:37:52.995178Z"
    }
   },
   "outputs": [],
   "source": [
    "def showdf(a_):\n",
    "    from IPython.display import display\n",
    "    display(a_.applymap(\"{0:0.1f}\".format))"
   ]
  },
  {
   "cell_type": "code",
   "execution_count": 3,
   "metadata": {
    "ExecuteTime": {
     "end_time": "2020-04-21T12:37:53.226685Z",
     "start_time": "2020-04-21T12:37:52.998819Z"
    }
   },
   "outputs": [],
   "source": [
    "with open(\"models/fitted_on_Pr.Pl.36N/model_[5]_extended\", \"rb\") as f:\n",
    "    model = pickle.load(f)"
   ]
  },
  {
   "cell_type": "code",
   "execution_count": 4,
   "metadata": {
    "ExecuteTime": {
     "end_time": "2020-04-21T12:37:53.234531Z",
     "start_time": "2020-04-21T12:37:53.232398Z"
    }
   },
   "outputs": [],
   "source": [
    "saveFolder = \"models/fitted_on_Pr.Pl.36N/extended_parameters/\""
   ]
  },
  {
   "cell_type": "code",
   "execution_count": 5,
   "metadata": {
    "ExecuteTime": {
     "end_time": "2020-04-21T12:37:54.100978Z",
     "start_time": "2020-04-21T12:37:53.820870Z"
    }
   },
   "outputs": [],
   "source": [
    "DataDict = {\n",
    "    \"Pr\": pd.read_csv(\"Pr_Pl_sequences/Pr_constitutive.csv\", usecols=[0,1]),\n",
    "#     \"Pl\": pd.read_csv(\"Pr_Pl_sequences/Pl_constitutive.csv\", usecols=[0,1]),\n",
    "#     \"36N\": pd.read_csv(\"36N_seqences/36N_constitutive.csv\", usecols=[0,1])\n",
    "}\n",
    "\n",
    "RBSPos = {lib:getRBSpositions(DataDict[lib]) for lib in DataDict}\n",
    "\n",
    "numData = createNumData(DataDict,tts=[\"all\"])\n",
    "\n"
   ]
  },
  {
   "cell_type": "markdown",
   "metadata": {
    "heading_collapsed": true
   },
   "source": [
    "### Unproductive transcript due to proximity to RBS"
   ]
  },
  {
   "cell_type": "code",
   "execution_count": 4,
   "metadata": {
    "ExecuteTime": {
     "end_time": "2020-04-21T12:23:28.986945Z",
     "start_time": "2020-04-21T12:23:28.740966Z"
    },
    "hidden": true
   },
   "outputs": [],
   "source": [
    "\n",
    "numAncestor = numData['all'][\"Pr\"][\"seqs\"][0]\n",
    "\n",
    "wtPr_cropped = \"\".join([bases[i] for i in numAncestor])\n",
    "\n",
    "wtPr_full = DataDict[\"Pr\"][\"sequence\"][0]"
   ]
  },
  {
   "cell_type": "code",
   "execution_count": 5,
   "metadata": {
    "ExecuteTime": {
     "end_time": "2020-04-21T12:23:30.522884Z",
     "start_time": "2020-04-21T12:23:30.518035Z"
    },
    "hidden": true
   },
   "outputs": [
    {
     "data": {
      "text/plain": [
       "(-1, 124)"
      ]
     },
     "execution_count": 5,
     "metadata": {},
     "output_type": "execute_result"
    }
   ],
   "source": [
    "# cropped sequences do not have the rbs any more\n",
    "wtPr_cropped.find(\"aggagaag\"), wtPr_full.find(\"aggagaag\")"
   ]
  },
  {
   "cell_type": "code",
   "execution_count": 6,
   "metadata": {
    "ExecuteTime": {
     "end_time": "2020-04-21T12:23:33.011611Z",
     "start_time": "2020-04-21T12:23:33.008071Z"
    },
    "hidden": true
   },
   "outputs": [
    {
     "data": {
      "text/plain": [
       "0"
      ]
     },
     "execution_count": 6,
     "metadata": {},
     "output_type": "execute_result"
    }
   ],
   "source": [
    "# cropped sequences have the same first part\n",
    "wtPr_full.find(wtPr_cropped)"
   ]
  },
  {
   "cell_type": "markdown",
   "metadata": {
    "hidden": true
   },
   "source": [
    "The brickwall for a single sequence has 5 rows for each of the spacer options, where the number of positions within each layer is different. In the consensus layer, there should be $L-l+1$ energies, where $l=32$ is the RNAp footprint with consenus spacer. The rows with larger spacer values have less configurations, and vice versa. In the code, we right-flush the energies, and truncate rows to that with lowest number of configurations (larges spacer) -1 . In pracice this is $L-34$"
   ]
  },
  {
   "cell_type": "code",
   "execution_count": 7,
   "metadata": {
    "ExecuteTime": {
     "end_time": "2020-04-21T12:23:34.474098Z",
     "start_time": "2020-04-21T12:23:34.471192Z"
    },
    "hidden": true
   },
   "outputs": [],
   "source": [
    "genOffset = sum(model[\"Layout\"])+model[\"spFlex\"]"
   ]
  },
  {
   "cell_type": "code",
   "execution_count": 8,
   "metadata": {
    "ExecuteTime": {
     "end_time": "2020-04-21T12:23:35.707230Z",
     "start_time": "2020-04-21T12:23:35.702480Z"
    },
    "hidden": true
   },
   "outputs": [],
   "source": [
    "prBrickwall = getBrickDict({\"Pr\": numAncestor.reshape((1,-1))}, model)[\"Pr\"][0]"
   ]
  },
  {
   "cell_type": "code",
   "execution_count": 9,
   "metadata": {
    "ExecuteTime": {
     "end_time": "2020-04-21T12:23:36.023836Z",
     "start_time": "2020-04-21T12:23:35.906985Z"
    },
    "hidden": true
   },
   "outputs": [
    {
     "data": {
      "text/plain": [
       "<matplotlib.image.AxesImage at 0x7fb6f411b370>"
      ]
     },
     "execution_count": 9,
     "metadata": {},
     "output_type": "execute_result"
    },
    {
     "data": {
      "image/png": "[encoded data removed]",
      "text/plain": [
       "<Figure size 432x288 with 1 Axes>"
      ]
     },
     "metadata": {
      "image/png": {
       "height": 53,
       "width": 376
      },
      "needs_background": "light"
     },
     "output_type": "display_data"
    }
   ],
   "source": [
    "plt.imshow(np.exp(-prBrickwall.T*.04))"
   ]
  },
  {
   "cell_type": "code",
   "execution_count": 10,
   "metadata": {
    "ExecuteTime": {
     "end_time": "2020-04-21T12:23:37.196744Z",
     "start_time": "2020-04-21T12:23:37.192807Z"
    },
    "hidden": true
   },
   "outputs": [
    {
     "data": {
      "text/plain": [
       "(81, 81)"
      ]
     },
     "execution_count": 10,
     "metadata": {},
     "output_type": "execute_result"
    }
   ],
   "source": [
    "prBrickwall.shape[0], len(numAncestor)-genOffset"
   ]
  },
  {
   "cell_type": "markdown",
   "metadata": {
    "ExecuteTime": {
     "end_time": "2020-04-21T11:46:52.716573Z",
     "start_time": "2020-04-21T11:46:52.713940Z"
    },
    "hidden": true
   },
   "source": [
    "The threshold position in the model (55) refers to the index of the free energy up to which the binding is considered productive. Therefore, to get the position in the sequence, we need to add the offset:"
   ]
  },
  {
   "cell_type": "code",
   "execution_count": 11,
   "metadata": {
    "ExecuteTime": {
     "end_time": "2020-04-21T12:23:37.847875Z",
     "start_time": "2020-04-21T12:23:37.845361Z"
    },
    "hidden": true
   },
   "outputs": [],
   "source": [
    "seqTh = model[\"ThDict\"][\"Pr.Pl\"]+genOffset"
   ]
  },
  {
   "cell_type": "code",
   "execution_count": 12,
   "metadata": {
    "ExecuteTime": {
     "end_time": "2020-04-21T12:23:39.032746Z",
     "start_time": "2020-04-21T12:23:39.028793Z"
    },
    "hidden": true
   },
   "outputs": [
    {
     "data": {
      "text/plain": [
       "'cctcgaggataaatatctaacaccgtgcgtgttgactattttacctctggcggtgataatggttgcatgtacta | gaattcattaaagaggagaaaggtac'"
      ]
     },
     "execution_count": 12,
     "metadata": {},
     "output_type": "execute_result"
    }
   ],
   "source": [
    "wtPr_cropped[15:seqTh]+ \" | \" +wtPr_cropped[seqTh:]"
   ]
  },
  {
   "cell_type": "code",
   "execution_count": 13,
   "metadata": {
    "ExecuteTime": {
     "end_time": "2020-04-21T12:23:39.200907Z",
     "start_time": "2020-04-21T12:23:39.197635Z"
    },
    "hidden": true
   },
   "outputs": [
    {
     "data": {
      "text/plain": [
       "'cctcgaggataaatatctaacaccgtgcgtgttgactattttacctctggcggtgataatggttgcatgtacta | gaattcattaaagaggagaaaggtaccatgagtaaaggagaagaactttt'"
      ]
     },
     "execution_count": 13,
     "metadata": {},
     "output_type": "execute_result"
    }
   ],
   "source": [
    "wtPr_full[15:seqTh]+ \" | \" +wtPr_full[seqTh:]"
   ]
  },
  {
   "cell_type": "code",
   "execution_count": 14,
   "metadata": {
    "ExecuteTime": {
     "end_time": "2020-04-21T12:23:39.495798Z",
     "start_time": "2020-04-21T12:23:39.492690Z"
    },
    "hidden": true
   },
   "outputs": [
    {
     "data": {
      "text/plain": [
       "35"
      ]
     },
     "execution_count": 14,
     "metadata": {},
     "output_type": "execute_result"
    }
   ],
   "source": [
    "RBSPos[\"Pr\"]-seqTh"
   ]
  },
  {
   "cell_type": "markdown",
   "metadata": {
    "ExecuteTime": {
     "end_time": "2020-04-21T12:20:02.205690Z",
     "start_time": "2020-04-21T12:20:02.202022Z"
    },
    "hidden": true
   },
   "source": [
    "Therefore, we determine the closest promotor needs to finish 35 positions before the appropriate ribosomal binding site."
   ]
  },
  {
   "cell_type": "code",
   "execution_count": null,
   "metadata": {
    "hidden": true
   },
   "outputs": [],
   "source": []
  },
  {
   "cell_type": "markdown",
   "metadata": {},
   "source": [
    "### Matrices and chemical potentials"
   ]
  },
  {
   "cell_type": "code",
   "execution_count": 6,
   "metadata": {
    "ExecuteTime": {
     "end_time": "2020-04-21T12:37:58.976733Z",
     "start_time": "2020-04-21T12:37:58.973139Z"
    }
   },
   "outputs": [],
   "source": [
    "m = np.vstack(model[\"matrices\"])\n",
    "chempots = pd.Series(model[\"chem.pot\"])"
   ]
  },
  {
   "cell_type": "code",
   "execution_count": 7,
   "metadata": {
    "ExecuteTime": {
     "end_time": "2020-04-21T12:37:59.351486Z",
     "start_time": "2020-04-21T12:37:59.233543Z"
    }
   },
   "outputs": [
    {
     "data": {
      "text/plain": [
       "<matplotlib.image.AxesImage at 0x7f078d4ad190>"
      ]
     },
     "execution_count": 7,
     "metadata": {},
     "output_type": "execute_result"
    },
    {
     "data": {
      "image/png": "[encoded data removed]",
      "text/plain": [
       "<Figure size 432x288 with 1 Axes>"
      ]
     },
     "metadata": {
      "image/png": {
       "height": 86,
       "width": 362
      },
      "needs_background": "light"
     },
     "output_type": "display_data"
    }
   ],
   "source": [
    "plt.imshow(m.T)"
   ]
  },
  {
   "cell_type": "code",
   "execution_count": 8,
   "metadata": {
    "ExecuteTime": {
     "end_time": "2020-04-21T12:38:00.600312Z",
     "start_time": "2020-04-21T12:38:00.597366Z"
    }
   },
   "outputs": [],
   "source": [
    "bEoffset = m.min(axis=1)"
   ]
  },
  {
   "cell_type": "code",
   "execution_count": 9,
   "metadata": {
    "ExecuteTime": {
     "end_time": "2020-04-21T12:38:00.811269Z",
     "start_time": "2020-04-21T12:38:00.807913Z"
    }
   },
   "outputs": [],
   "source": [
    "m-=np.repeat([bEoffset], 4, axis=0).T\n",
    "chempots -= bEoffset.sum()"
   ]
  },
  {
   "cell_type": "code",
   "execution_count": 10,
   "metadata": {
    "ExecuteTime": {
     "end_time": "2020-04-21T12:38:01.121982Z",
     "start_time": "2020-04-21T12:38:00.968634Z"
    }
   },
   "outputs": [
    {
     "data": {
      "text/plain": [
       "<matplotlib.image.AxesImage at 0x7f078d46f9a0>"
      ]
     },
     "execution_count": 10,
     "metadata": {},
     "output_type": "execute_result"
    },
    {
     "data": {
      "image/png": "[encoded data removed]",
      "text/plain": [
       "<Figure size 432x288 with 1 Axes>"
      ]
     },
     "metadata": {
      "image/png": {
       "height": 86,
       "width": 362
      },
      "needs_background": "light"
     },
     "output_type": "display_data"
    }
   ],
   "source": [
    "plt.imshow(m.T)"
   ]
  },
  {
   "cell_type": "code",
   "execution_count": 11,
   "metadata": {
    "ExecuteTime": {
     "end_time": "2020-04-21T12:38:02.326773Z",
     "start_time": "2020-04-21T12:38:02.322032Z"
    }
   },
   "outputs": [
    {
     "data": {
      "text/plain": [
       "Pr.Pl    11.128164\n",
       "36N      10.531435\n",
       "dtype: float64"
      ]
     },
     "execution_count": 11,
     "metadata": {},
     "output_type": "execute_result"
    }
   ],
   "source": [
    "chempots"
   ]
  },
  {
   "cell_type": "code",
   "execution_count": 12,
   "metadata": {
    "ExecuteTime": {
     "end_time": "2020-04-21T12:38:03.181339Z",
     "start_time": "2020-04-21T12:38:02.754862Z"
    }
   },
   "outputs": [
    {
     "data": {
      "text/plain": [
       "{'Pr': 9663.548461321703}"
      ]
     },
     "execution_count": 12,
     "metadata": {},
     "output_type": "execute_result"
    }
   ],
   "source": [
    "lps2eval(model, \"mlogL\", fit=False, tt=\"all\", numData=numData, DataIDs_=[\"Pr\"])"
   ]
  },
  {
   "cell_type": "code",
   "execution_count": 13,
   "metadata": {
    "ExecuteTime": {
     "end_time": "2020-04-21T12:38:05.376335Z",
     "start_time": "2020-04-21T12:38:05.372548Z"
    }
   },
   "outputs": [],
   "source": [
    "tmpmodel = deepcopy(model)\n",
    "tmpmodel[\"chem.pot\"] = chempots.to_dict()\n",
    "n1 = model[\"Layout\"][0]\n",
    "tmpmodel[\"matrices\"] = m[:n1], m[n1:]"
   ]
  },
  {
   "cell_type": "code",
   "execution_count": 14,
   "metadata": {
    "ExecuteTime": {
     "end_time": "2020-04-21T12:38:08.502690Z",
     "start_time": "2020-04-21T12:38:08.085651Z"
    }
   },
   "outputs": [
    {
     "data": {
      "text/plain": [
       "{'Pr': 9663.548461321705}"
      ]
     },
     "execution_count": 14,
     "metadata": {},
     "output_type": "execute_result"
    }
   ],
   "source": [
    "lps2eval(tmpmodel, \"mlogL\", fit=False, tt=\"all\", numData=numData, DataIDs_=[\"Pr\"])"
   ]
  },
  {
   "cell_type": "code",
   "execution_count": 21,
   "metadata": {
    "ExecuteTime": {
     "end_time": "2020-04-21T12:41:34.834927Z",
     "start_time": "2020-04-21T12:41:34.831222Z"
    }
   },
   "outputs": [],
   "source": [
    "np.savetxt(saveFolder+\"matrix-35.txt\", m[:n1], fmt=\"%.4f\", header=\"A C G T\")"
   ]
  },
  {
   "cell_type": "code",
   "execution_count": 22,
   "metadata": {
    "ExecuteTime": {
     "end_time": "2020-04-21T12:41:35.024285Z",
     "start_time": "2020-04-21T12:41:35.020912Z"
    }
   },
   "outputs": [],
   "source": [
    "np.savetxt(saveFolder+\"matrix-10.txt\", m[n1:], fmt=\"%.4f\", header=\"A C G T\")"
   ]
  },
  {
   "cell_type": "code",
   "execution_count": 25,
   "metadata": {
    "ExecuteTime": {
     "end_time": "2020-04-21T12:43:02.792032Z",
     "start_time": "2020-04-21T12:43:02.773989Z"
    }
   },
   "outputs": [],
   "source": [
    "chempots.to_csv(saveFolder+\"chem_pots.txt\")"
   ]
  },
  {
   "cell_type": "code",
   "execution_count": 29,
   "metadata": {
    "ExecuteTime": {
     "end_time": "2020-04-21T12:44:42.065865Z",
     "start_time": "2020-04-21T12:44:42.061993Z"
    }
   },
   "outputs": [],
   "source": [
    "np.savetxt(saveFolder+\"chem_pots.txt\", chempots.values.reshape(1,-1), fmt=\"%.3f\", header=\" \".join(chempots.keys()))"
   ]
  },
  {
   "cell_type": "markdown",
   "metadata": {
    "ExecuteTime": {
     "end_time": "2020-04-21T12:49:04.863481Z",
     "start_time": "2020-04-21T12:49:04.859909Z"
    }
   },
   "source": [
    "### Clearance Rate and spacer penalties"
   ]
  },
  {
   "cell_type": "code",
   "execution_count": 36,
   "metadata": {
    "ExecuteTime": {
     "end_time": "2020-04-21T12:49:10.305278Z",
     "start_time": "2020-04-21T12:49:10.301836Z"
    }
   },
   "outputs": [],
   "source": [
    "with open(saveFolder+\"clearance_rate.txt\",\"w\") as f:\n",
    "    f.write(\"%.3f\"%np.exp(model[\"logClearanceRate\"]))"
   ]
  },
  {
   "cell_type": "code",
   "execution_count": 38,
   "metadata": {
    "ExecuteTime": {
     "end_time": "2020-04-21T12:50:21.473982Z",
     "start_time": "2020-04-21T12:50:21.469732Z"
    }
   },
   "outputs": [],
   "source": [
    "np.savetxt(saveFolder+\"spacer_penalties.txt\", model[\"sp.penalties\"].reshape(1,-1), fmt=\"%.3f\", header=\" \".join([str(i) for i in range(-2,3)]))"
   ]
  },
  {
   "cell_type": "code",
   "execution_count": null,
   "metadata": {},
   "outputs": [],
   "source": []
  }
 ],
 "metadata": {
  "kernelspec": {
   "display_name": "Python 3",
   "language": "python",
   "name": "python3"
  },
  "language_info": {
   "codemirror_mode": {
    "name": "ipython",
    "version": 3
   },
   "file_extension": ".py",
   "mimetype": "text/x-python",
   "name": "python",
   "nbconvert_exporter": "python",
   "pygments_lexer": "ipython3",
   "version": "3.12.3"
  },
  "toc": {
   "base_numbering": 1,
   "nav_menu": {},
   "number_sections": true,
   "sideBar": true,
   "skip_h1_title": false,
   "title_cell": "Table of Contents",
   "title_sidebar": "Contents",
   "toc_cell": false,
   "toc_position": {},
   "toc_section_display": true,
   "toc_window_display": true
  }
 },
 "nbformat": 4,
 "nbformat_minor": 4
}
