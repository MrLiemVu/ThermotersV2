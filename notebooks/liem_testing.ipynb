{
 "cells": [
  {
   "cell_type": "code",
   "execution_count": 2,
   "metadata": {},
   "outputs": [
    {
     "name": "stdout",
     "output_type": "stream",
     "text": [
      "GGGGGGATGTCTAACTAGAATTAGACGACAGAGTGCCGCCCTTCACAAGTATCATAACAGCAGGCTCGCCTCTCTCTTCTCTCAGCATAAACCCTAGAACCGTAAATTTTATGCAAACCTAACGCCTGAGTTAAGCCGGCCCGCCCGATGCGGCTCCGGTCGGTCCGAGACCGCAAAGCGGGCTCGGCTTGAACGAATTGTTAGCTATCGATGATAAGCTGTCAAACATGAGCAGATCCTCTACGCCGGACGCATCGTGGCCGGCATCACCGGCGCCACAGGTGCGGTTGCTGGCGGGGGGGGGGGGGGGGGGGGGGGGGGGGGGGGGGGGGGGGGG\n"
     ]
    }
   ],
   "source": [
    "dna_sequence = \"\"\"\n",
    "ggggggatgtctaactagaat tagacgacagagtgccgccct tcacaagtatcataacagcaggctcgcctctctct tctctcagcataaaccctagaaccgtaaat t t tatgcaaacctaacgcctgagt taagccggcccgcccgatgcggctccggtcggtccgagaccgcaaagcgggctcggct tgaacgaat tgt tagctatcgatgataagctgtcaaacatgagcagatcctctacgccggacgcatcgtggccggcatcaccggcgccacaggtgcggt tgctggcgggggggggggggggggggggggggggggggggggggggggg\n",
    "\"\"\"\n",
    "\n",
    "# Remove spaces and newline characters, then convert to uppercase\n",
    "processed_sequence = dna_sequence.replace(\" \", \"\").replace(\"\\n\", \"\").upper()\n",
    "\n",
    "# Print the processed DNA sequence\n",
    "print(processed_sequence)\n"
   ]
  },
  {
   "cell_type": "code",
   "execution_count": null,
   "metadata": {},
   "outputs": [],
   "source": [
    "import requests\n",
    "\n",
    "url = \"https://get-brickplot-763423607043.europe-west4.run.app\"\n",
    "data = {\"key\": \"value\"}  # Replace with your payload\n",
    "\n",
    "response = requests.post(url, json=data)\n",
    "print(f\"Status Code: {response.status_code}\")\n",
    "print(f\"Response: {response.json()}\")"
   ]
  }
 ],
 "metadata": {
  "kernelspec": {
   "display_name": "Python 3",
   "language": "python",
   "name": "python3"
  },
  "language_info": {
   "codemirror_mode": {
    "name": "ipython",
    "version": 3
   },
   "file_extension": ".py",
   "mimetype": "text/x-python",
   "name": "python",
   "nbconvert_exporter": "python",
   "pygments_lexer": "ipython3",
   "version": "3.12.7"
  }
 },
 "nbformat": 4,
 "nbformat_minor": 2
}
