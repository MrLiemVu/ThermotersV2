{
 "cells": [
  {
   "cell_type": "markdown",
   "metadata": {
    "heading_collapsed": true
   },
   "source": [
    "### setting up"
   ]
  },
  {
   "cell_type": "code",
   "execution_count": 6,
   "metadata": {
    "ExecuteTime": {
     "end_time": "2020-04-19T17:35:19.914005Z",
     "start_time": "2020-04-19T17:35:19.457401Z"
    },
    "hidden": true
   },
   "outputs": [
    {
     "name": "stdout",
     "output_type": "stream",
     "text": [
      "The autoreload extension is already loaded. To reload it, use:\n",
      "  %reload_ext autoreload\n"
     ]
    },
    {
     "ename": "ModuleNotFoundError",
     "evalue": "No module named 'functions.fastFunctions'",
     "output_type": "error",
     "traceback": [
      "\u001b[1;31m---------------------------------------------------------------------------\u001b[0m",
      "\u001b[1;31mModuleNotFoundError\u001b[0m                       Traceback (most recent call last)",
      "Cell \u001b[1;32mIn[6], line 16\u001b[0m\n\u001b[0;32m     14\u001b[0m \u001b[38;5;28;01mimport\u001b[39;00m \u001b[38;5;21;01mpickle\u001b[39;00m\n\u001b[0;32m     15\u001b[0m \u001b[38;5;28;01mfrom\u001b[39;00m \u001b[38;5;21;01mfunctions\u001b[39;00m\u001b[38;5;21;01m.\u001b[39;00m\u001b[38;5;21;01mdata_functions\u001b[39;00m \u001b[38;5;28;01mimport\u001b[39;00m \u001b[38;5;241m*\u001b[39m\n\u001b[1;32m---> 16\u001b[0m \u001b[38;5;28;01mfrom\u001b[39;00m \u001b[38;5;21;01mfunctions\u001b[39;00m\u001b[38;5;21;01m.\u001b[39;00m\u001b[38;5;21;01mmodel_functions\u001b[39;00m \u001b[38;5;28;01mimport\u001b[39;00m \u001b[38;5;241m*\u001b[39m\n\u001b[0;32m     18\u001b[0m \u001b[38;5;28;01mfrom\u001b[39;00m \u001b[38;5;21;01mcopy\u001b[39;00m \u001b[38;5;28;01mimport\u001b[39;00m deepcopy\n",
      "File \u001b[1;32mc:\\Users\\drago\\Documents\\GitHub\\ThermotersV2\\TODO\\..\\functions\\model_functions.py:10\u001b[0m\n\u001b[0;32m      7\u001b[0m \u001b[38;5;28;01mfrom\u001b[39;00m \u001b[38;5;21;01mscipy\u001b[39;00m\u001b[38;5;21;01m.\u001b[39;00m\u001b[38;5;21;01mspecial\u001b[39;00m \u001b[38;5;28;01mimport\u001b[39;00m logsumexp\n\u001b[0;32m      8\u001b[0m \u001b[38;5;66;03m# from scipy.misc import logsumexp\u001b[39;00m\n\u001b[1;32m---> 10\u001b[0m \u001b[38;5;28;01mfrom\u001b[39;00m \u001b[38;5;21;01mfunctions\u001b[39;00m\u001b[38;5;21;01m.\u001b[39;00m\u001b[38;5;21;01mfastFunctions\u001b[39;00m \u001b[38;5;28;01mimport\u001b[39;00m tensum, bindingEnergies, getDiNu\n\u001b[0;32m     12\u001b[0m \u001b[38;5;28;01mdef\u001b[39;00m \u001b[38;5;21mslideSingleMatrix\u001b[39m(m, seqs):\n\u001b[0;32m     13\u001b[0m \u001b[38;5;250m    \u001b[39m\u001b[38;5;124;03m'''\u001b[39;00m\n\u001b[0;32m     14\u001b[0m \u001b[38;5;124;03m    Calculate the energy of binding for each sequence in a matrix.\u001b[39;00m\n\u001b[0;32m     15\u001b[0m \u001b[38;5;124;03m    \u001b[39;00m\n\u001b[1;32m   (...)\u001b[0m\n\u001b[0;32m     21\u001b[0m \u001b[38;5;124;03m        np.array([bindingEnergies(m,seqs[:,offset:offset+m.shape[0]]) for offset in range(Lout)]).T: numpy array\u001b[39;00m\n\u001b[0;32m     22\u001b[0m \u001b[38;5;124;03m    '''\u001b[39;00m\n",
      "\u001b[1;31mModuleNotFoundError\u001b[0m: No module named 'functions.fastFunctions'"
     ]
    },
    {
     "ename": "",
     "evalue": "",
     "output_type": "error",
     "traceback": [
      "\u001b[1;31mThe Kernel crashed while executing code in the current cell or a previous cell. \n",
      "\u001b[1;31mPlease review the code in the cell(s) to identify a possible cause of the failure. \n",
      "\u001b[1;31mClick <a href='https://aka.ms/vscodeJupyterKernelCrash'>here</a> for more info. \n",
      "\u001b[1;31mView Jupyter <a href='command:jupyter.viewOutput'>log</a> for further details."
     ]
    }
   ],
   "source": [
    "import numpy as np\n",
    "import pandas as pd\n",
    "import matplotlib.pyplot as plt\n",
    "%config InlineBackend.figure_format = 'retina'\n",
    "from sys import path as syspath\n",
    "syspath.append(\"../\")\n",
    "\n",
    "%load_ext autoreload\n",
    "%autoreload 1\n",
    "\n",
    "import os\n",
    "from collections import OrderedDict\n",
    "# from sklearn.linear_model import LogisticRegression, LinearRegression\n",
    "import pickle\n",
    "from util.data_functions import *\n",
    "from util.model_functions import *\n",
    "\n",
    "from copy import deepcopy"
   ]
  },
  {
   "cell_type": "code",
   "execution_count": 2,
   "metadata": {
    "ExecuteTime": {
     "end_time": "2020-04-19T17:35:20.257159Z",
     "start_time": "2020-04-19T17:35:20.254679Z"
    },
    "hidden": true
   },
   "outputs": [],
   "source": [
    "def showdf(a_):\n",
    "    from IPython.display import display\n",
    "    display(a_.applymap(\"{0:0.1f}\".format))"
   ]
  },
  {
   "cell_type": "code",
   "execution_count": 3,
   "metadata": {
    "ExecuteTime": {
     "end_time": "2020-04-19T17:35:21.567096Z",
     "start_time": "2020-04-19T17:35:21.504152Z"
    },
    "hidden": true
   },
   "outputs": [],
   "source": [
    "DataDict = {\n",
    "    \"Pr\": pd.read_csv(\"Pr_Pl_sequences/Pr_constitutive.csv\", usecols=[0,1]),\n",
    "    \"Pl\": pd.read_csv(\"Pr_Pl_sequences/Pl_constitutive.csv\", usecols=[0,1]),\n",
    "    \"36N\": pd.read_csv(\"36N_seqences/36N_constitutive.csv\", usecols=[0,1])\n",
    "}"
   ]
  },
  {
   "cell_type": "code",
   "execution_count": 4,
   "metadata": {
    "ExecuteTime": {
     "end_time": "2020-04-19T17:35:21.809080Z",
     "start_time": "2020-04-19T17:35:21.693265Z"
    },
    "hidden": true
   },
   "outputs": [],
   "source": [
    "# first perform the same splits as previously\n",
    "DataDict = {lib:splitDataset(DataDict[lib]) for lib in DataDict}\n",
    "# then merge Pr and Pl\n",
    "DataDict[\"Pr.Pl\"] = pd.concat([DataDict[\"Pr\"],DataDict[\"Pl\"]], ignore_index=True)\n",
    "# del DataDict[\"Pl\"], DataDict[\"Pr\"]"
   ]
  },
  {
   "cell_type": "code",
   "execution_count": 5,
   "metadata": {
    "ExecuteTime": {
     "end_time": "2020-04-19T08:31:50.881596Z",
     "start_time": "2020-04-19T08:31:50.879587Z"
    },
    "hidden": true
   },
   "outputs": [],
   "source": [
    "# RBSPos = {lib:getRBSpositions(DataDict[lib]) for lib in DataDict}"
   ]
  },
  {
   "cell_type": "code",
   "execution_count": 5,
   "metadata": {
    "ExecuteTime": {
     "end_time": "2020-04-19T17:35:34.276033Z",
     "start_time": "2020-04-19T17:35:32.706004Z"
    },
    "hidden": true
   },
   "outputs": [
    {
     "name": "stdout",
     "output_type": "stream",
     "text": [
      "training\n",
      "     Pr ['seqs', 'lums', 'digiLums', 'weights'] (7485, 115)\n",
      "     Pl ['seqs', 'lums', 'digiLums', 'weights'] (1790, 115)\n",
      "    36N ['seqs', 'lums', 'digiLums', 'weights'] (7921, 115)\n",
      "  Pr.Pl ['seqs', 'lums', 'digiLums', 'weights'] (9275, 115)\n",
      "validation\n",
      "     Pr ['seqs', 'lums', 'digiLums', 'weights'] (2495, 115)\n",
      "     Pl ['seqs', 'lums', 'digiLums', 'weights'] (597, 115)\n",
      "    36N ['seqs', 'lums', 'digiLums', 'weights'] (2641, 115)\n",
      "  Pr.Pl ['seqs', 'lums', 'digiLums', 'weights'] (3092, 115)\n",
      "evaluation\n",
      "     Pr ['seqs', 'lums', 'digiLums', 'weights'] (2496, 115)\n",
      "     Pl ['seqs', 'lums', 'digiLums', 'weights'] (597, 115)\n",
      "    36N ['seqs', 'lums', 'digiLums', 'weights'] (2641, 115)\n",
      "  Pr.Pl ['seqs', 'lums', 'digiLums', 'weights'] (3093, 115)\n",
      "all\n",
      "     Pr ['seqs', 'lums', 'digiLums', 'weights'] (12476, 115)\n",
      "     Pl ['seqs', 'lums', 'digiLums', 'weights'] (2984, 115)\n",
      "    36N ['seqs', 'lums', 'digiLums', 'weights'] (13203, 115)\n",
      "  Pr.Pl ['seqs', 'lums', 'digiLums', 'weights'] (15460, 115)\n"
     ]
    }
   ],
   "source": [
    "numData = createNumData(DataDict,tts=[\"training\",\"validation\",\"evaluation\",\"all\"])\n",
    "\n",
    "for lib in numData:\n",
    "    print (lib)\n",
    "    for split in numData[lib]:\n",
    "        print (\"%7s\"%split, list(numData[lib][split].keys()), numData[lib][split][\"seqs\"].shape)"
   ]
  },
  {
   "cell_type": "code",
   "execution_count": 6,
   "metadata": {
    "ExecuteTime": {
     "end_time": "2020-04-19T17:35:35.679730Z",
     "start_time": "2020-04-19T17:35:34.277422Z"
    },
    "hidden": true
   },
   "outputs": [
    {
     "data": {
      "image/png": "[encoded data removed]",
      "text/plain": [
       "<Figure size 720x144 with 2 Axes>"
      ]
     },
     "metadata": {
      "image/png": {
       "height": 125,
       "width": 595
      },
      "needs_background": "light"
     },
     "output_type": "display_data"
    },
    {
     "data": {
      "image/png": "[encoded data removed]",
      "text/plain": [
       "<Figure size 720x144 with 2 Axes>"
      ]
     },
     "metadata": {
      "image/png": {
       "height": 125,
       "width": 601
      },
      "needs_background": "light"
     },
     "output_type": "display_data"
    },
    {
     "data": {
      "image/png": "[encoded data removed]",
      "text/plain": [
       "<Figure size 720x144 with 2 Axes>"
      ]
     },
     "metadata": {
      "image/png": {
       "height": 125,
       "width": 595
      },
      "needs_background": "light"
     },
     "output_type": "display_data"
    },
    {
     "data": {
      "image/png": "[encoded data removed]",
      "text/plain": [
       "<Figure size 720x144 with 2 Axes>"
      ]
     },
     "metadata": {
      "image/png": {
       "height": 125,
       "width": 595
      },
      "needs_background": "light"
     },
     "output_type": "display_data"
    }
   ],
   "source": [
    "for dataID in DataDict:\n",
    "    seqs = numData[\"all\"][dataID][\"seqs\"]\n",
    "    df = pd.DataFrame([pd.Series(seqs.T[i]).value_counts() for i in range(seqs.shape[1])]).T\n",
    "    fig, axs = plt.subplots(2,1,figsize=(10,2), sharex=True)\n",
    "    axs[0].imshow(df)\n",
    "    axs[1].plot(1-df.max(axis=0)/df.max().max())\n",
    "#     break"
   ]
  },
  {
   "cell_type": "markdown",
   "metadata": {
    "heading_collapsed": true
   },
   "source": [
    "### Import models"
   ]
  },
  {
   "cell_type": "code",
   "execution_count": 8,
   "metadata": {
    "ExecuteTime": {
     "end_time": "2020-04-19T18:03:05.317650Z",
     "start_time": "2020-04-19T18:03:05.108969Z"
    },
    "hidden": true
   },
   "outputs": [],
   "source": [
    "models = OrderedDict()\n",
    "for fitID in [\"Pr\",\"Pr.Pl.36N\"]:\n",
    "    folder = f\"models/fitted_on_{fitID}/\"\n",
    "    for modelFile in sorted(os.listdir(folder)):\n",
    "        if \"model\" not in modelFile: continue\n",
    "        with open(folder+modelFile, \"rb\") as f:\n",
    "            modelName = modelFile.split(\".\")[0].lstrip(\"model_\")+f\"[{fitID}]\"\n",
    "            models[modelName] = pickle.load(f)\n",
    "            models[modelName][\"folder\"] = folder"
   ]
  },
  {
   "cell_type": "code",
   "execution_count": 9,
   "metadata": {
    "ExecuteTime": {
     "end_time": "2020-04-19T18:03:06.506911Z",
     "start_time": "2020-04-19T18:03:06.408298Z"
    },
    "hidden": true
   },
   "outputs": [
    {
     "data": {
      "text/html": [
       "<div>\n",
       "<style scoped>\n",
       "    .dataframe tbody tr th:only-of-type {\n",
       "        vertical-align: middle;\n",
       "    }\n",
       "\n",
       "    .dataframe tbody tr th {\n",
       "        vertical-align: top;\n",
       "    }\n",
       "\n",
       "    .dataframe thead th {\n",
       "        text-align: right;\n",
       "    }\n",
       "</style>\n",
       "<table border=\"1\" class=\"dataframe\">\n",
       "  <thead>\n",
       "    <tr style=\"text-align: right;\">\n",
       "      <th></th>\n",
       "      <th>DataIDs</th>\n",
       "      <th>spFlex</th>\n",
       "      <th>bindMode</th>\n",
       "      <th>includeRC</th>\n",
       "      <th>Layout</th>\n",
       "      <th>ThDict</th>\n",
       "      <th>chem.pot</th>\n",
       "      <th>sp.penalties</th>\n",
       "      <th>matrices</th>\n",
       "      <th>en.scale</th>\n",
       "      <th>min.spacer</th>\n",
       "      <th>logisticRegression</th>\n",
       "      <th>folder</th>\n",
       "      <th>logClearanceRate</th>\n",
       "    </tr>\n",
       "  </thead>\n",
       "  <tbody>\n",
       "    <tr>\n",
       "      <th>[0]_stm[Pr]</th>\n",
       "      <td>[Pr.Pl, 36N]</td>\n",
       "      <td>0</td>\n",
       "      <td>max</td>\n",
       "      <td>0</td>\n",
       "      <td>[12, 8, 12]</td>\n",
       "      <td>{'Pr.Pl': 77, '36N': -1}</td>\n",
       "      <td>{'Pr.Pl': -18.84561179825073, '36N': -22.32183...</td>\n",
       "      <td>[0]</td>\n",
       "      <td>[[[0.0, 0.7040774227405244, -0.092120720116618...</td>\n",
       "      <td>1</td>\n",
       "      <td>8</td>\n",
       "      <td>{'Pr.Pl': LogisticRegression(C=100000000000000...</td>\n",
       "      <td>models/fitted_on_Pr/</td>\n",
       "      <td>NaN</td>\n",
       "    </tr>\n",
       "    <tr>\n",
       "      <th>[1]_stm+flex[Pr]</th>\n",
       "      <td>[Pr.Pl, 36N]</td>\n",
       "      <td>2</td>\n",
       "      <td>max</td>\n",
       "      <td>0</td>\n",
       "      <td>[12, 8, 12]</td>\n",
       "      <td>{'Pr.Pl': 75, '36N': -1}</td>\n",
       "      <td>{'Pr.Pl': -17.610896702945773, '36N': -19.590712}</td>\n",
       "      <td>[1.8049884895346935, 1.76418583090379, 0.0, 1....</td>\n",
       "      <td>[[[0.0, 1.0370464081632649, 0.1297438367346933...</td>\n",
       "      <td>1</td>\n",
       "      <td>6</td>\n",
       "      <td>{'Pr.Pl': LogisticRegression(C=100000000000000...</td>\n",
       "      <td>models/fitted_on_Pr/</td>\n",
       "      <td>NaN</td>\n",
       "    </tr>\n",
       "    <tr>\n",
       "      <th>[2]_stm+flex+cumul[Pr]</th>\n",
       "      <td>[Pr.Pl, 36N]</td>\n",
       "      <td>2</td>\n",
       "      <td>add</td>\n",
       "      <td>0</td>\n",
       "      <td>[12, 8, 12]</td>\n",
       "      <td>{'Pr.Pl': 75, '36N': -1}</td>\n",
       "      <td>{'Pr.Pl': -17.56085014317901, '36N': -19.470752}</td>\n",
       "      <td>[1.7452471475218656, 1.9335519941690962, 0.0, ...</td>\n",
       "      <td>[[[0.0, 0.9620704227405252, 0.0382514285714282...</td>\n",
       "      <td>1</td>\n",
       "      <td>6</td>\n",
       "      <td>{'Pr.Pl': LogisticRegression(C=100000000000000...</td>\n",
       "      <td>models/fitted_on_Pr/</td>\n",
       "      <td>NaN</td>\n",
       "    </tr>\n",
       "    <tr>\n",
       "      <th>[3]_stm+flex+cumul+rbs[Pr]</th>\n",
       "      <td>[Pr.Pl, 36N]</td>\n",
       "      <td>2</td>\n",
       "      <td>add</td>\n",
       "      <td>0</td>\n",
       "      <td>[12, 8, 12]</td>\n",
       "      <td>{'Pr.Pl': 55, '36N': -1}</td>\n",
       "      <td>{'Pr.Pl': -18.28291645481049, '36N': -19.5282704}</td>\n",
       "      <td>[1.860088117470787, 1.9345812769679307, 0.0, 1...</td>\n",
       "      <td>[[[0.0, 1.0000781486880466, 0.0353590204081630...</td>\n",
       "      <td>1</td>\n",
       "      <td>6</td>\n",
       "      <td>{'Pr.Pl': LogisticRegression(C=100000000000000...</td>\n",
       "      <td>models/fitted_on_Pr/</td>\n",
       "      <td>NaN</td>\n",
       "    </tr>\n",
       "    <tr>\n",
       "      <th>[4]_stm+flex+cumul+rbs+rc[Pr]</th>\n",
       "      <td>[Pr.Pl, 36N]</td>\n",
       "      <td>2</td>\n",
       "      <td>add</td>\n",
       "      <td>1</td>\n",
       "      <td>[12, 8, 12]</td>\n",
       "      <td>{'Pr.Pl': 55, '36N': -1}</td>\n",
       "      <td>{'Pr.Pl': -18.144299720116617, '36N': -19.8591...</td>\n",
       "      <td>[1.7954461618629036, 1.945897725947522, 0.0, 1...</td>\n",
       "      <td>[[[0.0, 0.926849294460642, -0.0196222448979583...</td>\n",
       "      <td>1</td>\n",
       "      <td>6</td>\n",
       "      <td>{'Pr.Pl': LogisticRegression(C=100000000000000...</td>\n",
       "      <td>models/fitted_on_Pr/</td>\n",
       "      <td>NaN</td>\n",
       "    </tr>\n",
       "    <tr>\n",
       "      <th>[0]_stm[Pr.Pl.36N]</th>\n",
       "      <td>[Pr.Pl, 36N]</td>\n",
       "      <td>0</td>\n",
       "      <td>max</td>\n",
       "      <td>0</td>\n",
       "      <td>[12, 8, 12]</td>\n",
       "      <td>{'Pr.Pl': 0, '36N': 0}</td>\n",
       "      <td>{'Pr.Pl': -17.925556286562, '36N': -18.5105192...</td>\n",
       "      <td>[0]</td>\n",
       "      <td>[[[0.0, 1.1880678892965266, 0.6641001048482882...</td>\n",
       "      <td>1</td>\n",
       "      <td>8</td>\n",
       "      <td>{'Pr.Pl': LogisticRegression(C=100000000000000...</td>\n",
       "      <td>models/fitted_on_Pr.Pl.36N/</td>\n",
       "      <td>NaN</td>\n",
       "    </tr>\n",
       "    <tr>\n",
       "      <th>[1]_stm+flex[Pr.Pl.36N]</th>\n",
       "      <td>[Pr.Pl, 36N]</td>\n",
       "      <td>2</td>\n",
       "      <td>max</td>\n",
       "      <td>0</td>\n",
       "      <td>[12, 8, 12]</td>\n",
       "      <td>{'Pr.Pl': 0, '36N': 0}</td>\n",
       "      <td>{'Pr.Pl': -18.03750400147544, '36N': -18.51051...</td>\n",
       "      <td>[9.214861139368063, 2.2524841750108124, 0.0, 1...</td>\n",
       "      <td>[[[0.0, 0.8920357190588171, 0.5089953645394663...</td>\n",
       "      <td>1</td>\n",
       "      <td>6</td>\n",
       "      <td>{'Pr.Pl': LogisticRegression(C=100000000000000...</td>\n",
       "      <td>models/fitted_on_Pr.Pl.36N/</td>\n",
       "      <td>NaN</td>\n",
       "    </tr>\n",
       "    <tr>\n",
       "      <th>[2]_stm+flex+cumul[Pr.Pl.36N]</th>\n",
       "      <td>[Pr.Pl, 36N]</td>\n",
       "      <td>2</td>\n",
       "      <td>add</td>\n",
       "      <td>0</td>\n",
       "      <td>[12, 8, 12]</td>\n",
       "      <td>{'Pr.Pl': 0, '36N': 0}</td>\n",
       "      <td>{'Pr.Pl': -17.908525893586578, '36N': -18.5105...</td>\n",
       "      <td>[8.179763367905347, 2.2477285735281765, 0.0, 1...</td>\n",
       "      <td>[[[0.0, 0.6707675942519951, 0.269700587671803,...</td>\n",
       "      <td>1</td>\n",
       "      <td>6</td>\n",
       "      <td>{'Pr.Pl': LogisticRegression(C=100000000000000...</td>\n",
       "      <td>models/fitted_on_Pr.Pl.36N/</td>\n",
       "      <td>NaN</td>\n",
       "    </tr>\n",
       "    <tr>\n",
       "      <th>[3]_stm+flex+cumul+rbs[Pr.Pl.36N]</th>\n",
       "      <td>[Pr.Pl, 36N]</td>\n",
       "      <td>2</td>\n",
       "      <td>add</td>\n",
       "      <td>0</td>\n",
       "      <td>[12, 8, 12]</td>\n",
       "      <td>{'Pr.Pl': 55, '36N': 0}</td>\n",
       "      <td>{'Pr.Pl': -18.976465401312268, '36N': -18.5105...</td>\n",
       "      <td>[8.580783027261091, 2.2402695963516, 0.0, 1.29...</td>\n",
       "      <td>[[[0.0, 0.7042573919200334, 0.2901087509371091...</td>\n",
       "      <td>1</td>\n",
       "      <td>6</td>\n",
       "      <td>{'Pr.Pl': LogisticRegression(C=100000000000000...</td>\n",
       "      <td>models/fitted_on_Pr.Pl.36N/</td>\n",
       "      <td>NaN</td>\n",
       "    </tr>\n",
       "    <tr>\n",
       "      <th>[4]_stm+flex+cumul+rbs+rc[Pr.Pl.36N]</th>\n",
       "      <td>[Pr.Pl, 36N]</td>\n",
       "      <td>2</td>\n",
       "      <td>add</td>\n",
       "      <td>1</td>\n",
       "      <td>[12, 8, 12]</td>\n",
       "      <td>{'Pr.Pl': 55, '36N': 0}</td>\n",
       "      <td>{'Pr.Pl': -17.666871259475222, '36N': -18.5105...</td>\n",
       "      <td>[8.513618275205907, 2.1215349854227403, 0.0, 1...</td>\n",
       "      <td>[[[0.0, 0.6782265714285716, 0.2725781404418823...</td>\n",
       "      <td>1</td>\n",
       "      <td>6</td>\n",
       "      <td>{'Pr.Pl': LogisticRegression(C=100000000000000...</td>\n",
       "      <td>models/fitted_on_Pr.Pl.36N/</td>\n",
       "      <td>NaN</td>\n",
       "    </tr>\n",
       "    <tr>\n",
       "      <th>[5]_extended[Pr.Pl.36N]</th>\n",
       "      <td>[Pr.Pl, 36N]</td>\n",
       "      <td>2</td>\n",
       "      <td>add</td>\n",
       "      <td>1</td>\n",
       "      <td>[12, 8, 12]</td>\n",
       "      <td>{'Pr.Pl': 55, '36N': 0}</td>\n",
       "      <td>{'Pr.Pl': -17.978935789786206, '36N': -18.5756...</td>\n",
       "      <td>[8.513618275205907, 2.1215349854227403, 0.0, 1...</td>\n",
       "      <td>[[[0.0, 0.6782265714285716, 0.2725781404418823...</td>\n",
       "      <td>1</td>\n",
       "      <td>6</td>\n",
       "      <td>{'Pr.Pl': LogisticRegression(C=100000000000000...</td>\n",
       "      <td>models/fitted_on_Pr.Pl.36N/</td>\n",
       "      <td>-1.10407</td>\n",
       "    </tr>\n",
       "  </tbody>\n",
       "</table>\n",
       "</div>"
      ],
      "text/plain": [
       "                                           DataIDs spFlex bindMode includeRC  \\\n",
       "[0]_stm[Pr]                           [Pr.Pl, 36N]      0      max         0   \n",
       "[1]_stm+flex[Pr]                      [Pr.Pl, 36N]      2      max         0   \n",
       "[2]_stm+flex+cumul[Pr]                [Pr.Pl, 36N]      2      add         0   \n",
       "[3]_stm+flex+cumul+rbs[Pr]            [Pr.Pl, 36N]      2      add         0   \n",
       "[4]_stm+flex+cumul+rbs+rc[Pr]         [Pr.Pl, 36N]      2      add         1   \n",
       "[0]_stm[Pr.Pl.36N]                    [Pr.Pl, 36N]      0      max         0   \n",
       "[1]_stm+flex[Pr.Pl.36N]               [Pr.Pl, 36N]      2      max         0   \n",
       "[2]_stm+flex+cumul[Pr.Pl.36N]         [Pr.Pl, 36N]      2      add         0   \n",
       "[3]_stm+flex+cumul+rbs[Pr.Pl.36N]     [Pr.Pl, 36N]      2      add         0   \n",
       "[4]_stm+flex+cumul+rbs+rc[Pr.Pl.36N]  [Pr.Pl, 36N]      2      add         1   \n",
       "[5]_extended[Pr.Pl.36N]               [Pr.Pl, 36N]      2      add         1   \n",
       "\n",
       "                                           Layout                    ThDict  \\\n",
       "[0]_stm[Pr]                           [12, 8, 12]  {'Pr.Pl': 77, '36N': -1}   \n",
       "[1]_stm+flex[Pr]                      [12, 8, 12]  {'Pr.Pl': 75, '36N': -1}   \n",
       "[2]_stm+flex+cumul[Pr]                [12, 8, 12]  {'Pr.Pl': 75, '36N': -1}   \n",
       "[3]_stm+flex+cumul+rbs[Pr]            [12, 8, 12]  {'Pr.Pl': 55, '36N': -1}   \n",
       "[4]_stm+flex+cumul+rbs+rc[Pr]         [12, 8, 12]  {'Pr.Pl': 55, '36N': -1}   \n",
       "[0]_stm[Pr.Pl.36N]                    [12, 8, 12]    {'Pr.Pl': 0, '36N': 0}   \n",
       "[1]_stm+flex[Pr.Pl.36N]               [12, 8, 12]    {'Pr.Pl': 0, '36N': 0}   \n",
       "[2]_stm+flex+cumul[Pr.Pl.36N]         [12, 8, 12]    {'Pr.Pl': 0, '36N': 0}   \n",
       "[3]_stm+flex+cumul+rbs[Pr.Pl.36N]     [12, 8, 12]   {'Pr.Pl': 55, '36N': 0}   \n",
       "[4]_stm+flex+cumul+rbs+rc[Pr.Pl.36N]  [12, 8, 12]   {'Pr.Pl': 55, '36N': 0}   \n",
       "[5]_extended[Pr.Pl.36N]               [12, 8, 12]   {'Pr.Pl': 55, '36N': 0}   \n",
       "\n",
       "                                                                               chem.pot  \\\n",
       "[0]_stm[Pr]                           {'Pr.Pl': -18.84561179825073, '36N': -22.32183...   \n",
       "[1]_stm+flex[Pr]                      {'Pr.Pl': -17.610896702945773, '36N': -19.590712}   \n",
       "[2]_stm+flex+cumul[Pr]                 {'Pr.Pl': -17.56085014317901, '36N': -19.470752}   \n",
       "[3]_stm+flex+cumul+rbs[Pr]            {'Pr.Pl': -18.28291645481049, '36N': -19.5282704}   \n",
       "[4]_stm+flex+cumul+rbs+rc[Pr]         {'Pr.Pl': -18.144299720116617, '36N': -19.8591...   \n",
       "[0]_stm[Pr.Pl.36N]                    {'Pr.Pl': -17.925556286562, '36N': -18.5105192...   \n",
       "[1]_stm+flex[Pr.Pl.36N]               {'Pr.Pl': -18.03750400147544, '36N': -18.51051...   \n",
       "[2]_stm+flex+cumul[Pr.Pl.36N]         {'Pr.Pl': -17.908525893586578, '36N': -18.5105...   \n",
       "[3]_stm+flex+cumul+rbs[Pr.Pl.36N]     {'Pr.Pl': -18.976465401312268, '36N': -18.5105...   \n",
       "[4]_stm+flex+cumul+rbs+rc[Pr.Pl.36N]  {'Pr.Pl': -17.666871259475222, '36N': -18.5105...   \n",
       "[5]_extended[Pr.Pl.36N]               {'Pr.Pl': -17.978935789786206, '36N': -18.5756...   \n",
       "\n",
       "                                                                           sp.penalties  \\\n",
       "[0]_stm[Pr]                                                                         [0]   \n",
       "[1]_stm+flex[Pr]                      [1.8049884895346935, 1.76418583090379, 0.0, 1....   \n",
       "[2]_stm+flex+cumul[Pr]                [1.7452471475218656, 1.9335519941690962, 0.0, ...   \n",
       "[3]_stm+flex+cumul+rbs[Pr]            [1.860088117470787, 1.9345812769679307, 0.0, 1...   \n",
       "[4]_stm+flex+cumul+rbs+rc[Pr]         [1.7954461618629036, 1.945897725947522, 0.0, 1...   \n",
       "[0]_stm[Pr.Pl.36N]                                                                  [0]   \n",
       "[1]_stm+flex[Pr.Pl.36N]               [9.214861139368063, 2.2524841750108124, 0.0, 1...   \n",
       "[2]_stm+flex+cumul[Pr.Pl.36N]         [8.179763367905347, 2.2477285735281765, 0.0, 1...   \n",
       "[3]_stm+flex+cumul+rbs[Pr.Pl.36N]     [8.580783027261091, 2.2402695963516, 0.0, 1.29...   \n",
       "[4]_stm+flex+cumul+rbs+rc[Pr.Pl.36N]  [8.513618275205907, 2.1215349854227403, 0.0, 1...   \n",
       "[5]_extended[Pr.Pl.36N]               [8.513618275205907, 2.1215349854227403, 0.0, 1...   \n",
       "\n",
       "                                                                               matrices  \\\n",
       "[0]_stm[Pr]                           [[[0.0, 0.7040774227405244, -0.092120720116618...   \n",
       "[1]_stm+flex[Pr]                      [[[0.0, 1.0370464081632649, 0.1297438367346933...   \n",
       "[2]_stm+flex+cumul[Pr]                [[[0.0, 0.9620704227405252, 0.0382514285714282...   \n",
       "[3]_stm+flex+cumul+rbs[Pr]            [[[0.0, 1.0000781486880466, 0.0353590204081630...   \n",
       "[4]_stm+flex+cumul+rbs+rc[Pr]         [[[0.0, 0.926849294460642, -0.0196222448979583...   \n",
       "[0]_stm[Pr.Pl.36N]                    [[[0.0, 1.1880678892965266, 0.6641001048482882...   \n",
       "[1]_stm+flex[Pr.Pl.36N]               [[[0.0, 0.8920357190588171, 0.5089953645394663...   \n",
       "[2]_stm+flex+cumul[Pr.Pl.36N]         [[[0.0, 0.6707675942519951, 0.269700587671803,...   \n",
       "[3]_stm+flex+cumul+rbs[Pr.Pl.36N]     [[[0.0, 0.7042573919200334, 0.2901087509371091...   \n",
       "[4]_stm+flex+cumul+rbs+rc[Pr.Pl.36N]  [[[0.0, 0.6782265714285716, 0.2725781404418823...   \n",
       "[5]_extended[Pr.Pl.36N]               [[[0.0, 0.6782265714285716, 0.2725781404418823...   \n",
       "\n",
       "                                     en.scale min.spacer  \\\n",
       "[0]_stm[Pr]                                 1          8   \n",
       "[1]_stm+flex[Pr]                            1          6   \n",
       "[2]_stm+flex+cumul[Pr]                      1          6   \n",
       "[3]_stm+flex+cumul+rbs[Pr]                  1          6   \n",
       "[4]_stm+flex+cumul+rbs+rc[Pr]               1          6   \n",
       "[0]_stm[Pr.Pl.36N]                          1          8   \n",
       "[1]_stm+flex[Pr.Pl.36N]                     1          6   \n",
       "[2]_stm+flex+cumul[Pr.Pl.36N]               1          6   \n",
       "[3]_stm+flex+cumul+rbs[Pr.Pl.36N]           1          6   \n",
       "[4]_stm+flex+cumul+rbs+rc[Pr.Pl.36N]        1          6   \n",
       "[5]_extended[Pr.Pl.36N]                     1          6   \n",
       "\n",
       "                                                                     logisticRegression  \\\n",
       "[0]_stm[Pr]                           {'Pr.Pl': LogisticRegression(C=100000000000000...   \n",
       "[1]_stm+flex[Pr]                      {'Pr.Pl': LogisticRegression(C=100000000000000...   \n",
       "[2]_stm+flex+cumul[Pr]                {'Pr.Pl': LogisticRegression(C=100000000000000...   \n",
       "[3]_stm+flex+cumul+rbs[Pr]            {'Pr.Pl': LogisticRegression(C=100000000000000...   \n",
       "[4]_stm+flex+cumul+rbs+rc[Pr]         {'Pr.Pl': LogisticRegression(C=100000000000000...   \n",
       "[0]_stm[Pr.Pl.36N]                    {'Pr.Pl': LogisticRegression(C=100000000000000...   \n",
       "[1]_stm+flex[Pr.Pl.36N]               {'Pr.Pl': LogisticRegression(C=100000000000000...   \n",
       "[2]_stm+flex+cumul[Pr.Pl.36N]         {'Pr.Pl': LogisticRegression(C=100000000000000...   \n",
       "[3]_stm+flex+cumul+rbs[Pr.Pl.36N]     {'Pr.Pl': LogisticRegression(C=100000000000000...   \n",
       "[4]_stm+flex+cumul+rbs+rc[Pr.Pl.36N]  {'Pr.Pl': LogisticRegression(C=100000000000000...   \n",
       "[5]_extended[Pr.Pl.36N]               {'Pr.Pl': LogisticRegression(C=100000000000000...   \n",
       "\n",
       "                                                           folder  \\\n",
       "[0]_stm[Pr]                                  models/fitted_on_Pr/   \n",
       "[1]_stm+flex[Pr]                             models/fitted_on_Pr/   \n",
       "[2]_stm+flex+cumul[Pr]                       models/fitted_on_Pr/   \n",
       "[3]_stm+flex+cumul+rbs[Pr]                   models/fitted_on_Pr/   \n",
       "[4]_stm+flex+cumul+rbs+rc[Pr]                models/fitted_on_Pr/   \n",
       "[0]_stm[Pr.Pl.36N]                    models/fitted_on_Pr.Pl.36N/   \n",
       "[1]_stm+flex[Pr.Pl.36N]               models/fitted_on_Pr.Pl.36N/   \n",
       "[2]_stm+flex+cumul[Pr.Pl.36N]         models/fitted_on_Pr.Pl.36N/   \n",
       "[3]_stm+flex+cumul+rbs[Pr.Pl.36N]     models/fitted_on_Pr.Pl.36N/   \n",
       "[4]_stm+flex+cumul+rbs+rc[Pr.Pl.36N]  models/fitted_on_Pr.Pl.36N/   \n",
       "[5]_extended[Pr.Pl.36N]               models/fitted_on_Pr.Pl.36N/   \n",
       "\n",
       "                                     logClearanceRate  \n",
       "[0]_stm[Pr]                                       NaN  \n",
       "[1]_stm+flex[Pr]                                  NaN  \n",
       "[2]_stm+flex+cumul[Pr]                            NaN  \n",
       "[3]_stm+flex+cumul+rbs[Pr]                        NaN  \n",
       "[4]_stm+flex+cumul+rbs+rc[Pr]                     NaN  \n",
       "[0]_stm[Pr.Pl.36N]                                NaN  \n",
       "[1]_stm+flex[Pr.Pl.36N]                           NaN  \n",
       "[2]_stm+flex+cumul[Pr.Pl.36N]                     NaN  \n",
       "[3]_stm+flex+cumul+rbs[Pr.Pl.36N]                 NaN  \n",
       "[4]_stm+flex+cumul+rbs+rc[Pr.Pl.36N]              NaN  \n",
       "[5]_extended[Pr.Pl.36N]                      -1.10407  "
      ]
     },
     "execution_count": 9,
     "metadata": {},
     "output_type": "execute_result"
    }
   ],
   "source": [
    "pd.DataFrame(models).T"
   ]
  },
  {
   "cell_type": "markdown",
   "metadata": {},
   "source": [
    "### Calculate"
   ]
  },
  {
   "cell_type": "code",
   "execution_count": 10,
   "metadata": {
    "ExecuteTime": {
     "end_time": "2020-04-19T18:14:10.310777Z",
     "start_time": "2020-04-19T18:14:10.293814Z"
    }
   },
   "outputs": [],
   "source": [
    "def refitChemPot(model, objF):\n",
    "    model = deepcopy(model)\n",
    "    objChemPot = {}\n",
    "    for parId in [\"Pr.Pl\",\"36N\"]:\n",
    "        mu0 = model[\"chem.pot\"][parId]\n",
    "        if parId==\"36N\":\n",
    "            dataID = \"36N\"\n",
    "        elif \"Pr.Pl\" in model[\"DataIDs\"]:\n",
    "            dataID = \"Pr.Pl\"\n",
    "        else: \n",
    "            dataID = \"Pr\"\n",
    "        mu0 = model[\"chem.pot\"][parId]\n",
    "        def toMin(x):\n",
    "            try: x = x[0]\n",
    "            except: pass\n",
    "            model[\"chem.pot\"][parId] = x\n",
    "            r = lps2eval(model, objF, numData=numData, fit=False, tt=\"training\", DataIDs_=[dataID])\n",
    "            out = r[dataID] if objF==\"mlogL\" else -r[dataID]\n",
    "            return out\n",
    "        mus = np.arange(-40,-10,.5)\n",
    "        ys = np.array([toMin(mu) for mu in mus])\n",
    "        objChemPot[parId] = mus[np.argmin(ys)]\n",
    "    return objChemPot"
   ]
  },
  {
   "cell_type": "code",
   "execution_count": 11,
   "metadata": {
    "ExecuteTime": {
     "end_time": "2020-04-19T18:29:58.692891Z",
     "start_time": "2020-04-19T18:18:08.631066Z"
    }
   },
   "outputs": [],
   "source": [
    "for objF in [\"mlogL\", \"linR2\"]:\n",
    "    for refit in [False, True]:\n",
    "        if objF==\"mlogL\" and refit: continue\n",
    "        Results = OrderedDict()\n",
    "        for modelName in models:\n",
    "            model = deepcopy(models[modelName])\n",
    "            Results[modelName] = OrderedDict()\n",
    "            if refit:\n",
    "                model[\"chem.pot_%s\"%objF] = refitChemPot(model, objF)\n",
    "            for tt in numData:\n",
    "                res = lps2eval(model, objF, numData=numData, fit=False, DataIDs_=DataDict.keys(), tt=tt)\n",
    "                for dataID in DataDict: \n",
    "                    Results[modelName][dataID+\"_\"+tt] = res[dataID]\n",
    "\n",
    "        Results = pd.DataFrame(Results)\n",
    "        saveName = f\"comparison_{objF}\"\n",
    "        if refit:\n",
    "            saveName += \"_refitted_mu\"\n",
    "        Results.to_csv(f\"models/{saveName}.csv\")"
   ]
  },
  {
   "cell_type": "markdown",
   "metadata": {
    "heading_collapsed": true
   },
   "source": [
    "#### add pairwise interactions"
   ]
  },
  {
   "cell_type": "markdown",
   "metadata": {
    "ExecuteTime": {
     "end_time": "2020-04-19T19:08:50.311457Z",
     "start_time": "2020-04-19T19:08:50.307939Z"
    },
    "hidden": true
   },
   "source": [
    "If the cells are evaluated in order, the current `model` contains the `chem.pot_linR2`, so we calculate the R2 with the pairwise interactions now"
   ]
  },
  {
   "cell_type": "code",
   "execution_count": 61,
   "metadata": {
    "ExecuteTime": {
     "end_time": "2020-04-19T20:15:40.375113Z",
     "start_time": "2020-04-19T20:15:40.371016Z"
    },
    "hidden": true
   },
   "outputs": [],
   "source": [
    "newModelName = \"[6]_extended+pwi[Pr.Pl.36N]\""
   ]
  },
  {
   "cell_type": "code",
   "execution_count": 47,
   "metadata": {
    "ExecuteTime": {
     "end_time": "2020-04-19T19:46:09.601410Z",
     "start_time": "2020-04-19T19:46:09.591038Z"
    },
    "hidden": true
   },
   "outputs": [],
   "source": [
    "dinuDF = pd.read_csv(\"pairwise_interactions.csv\", index_col=0)\n",
    "dinuDF[\"interaction\"] = list(map(eval, dinuDF[\"interaction\"]))"
   ]
  },
  {
   "cell_type": "code",
   "execution_count": 50,
   "metadata": {
    "ExecuteTime": {
     "end_time": "2020-04-19T19:58:50.639841Z",
     "start_time": "2020-04-19T19:50:43.692479Z"
    },
    "hidden": true
   },
   "outputs": [],
   "source": [
    "# refitted linR2\n",
    "dinuRes = OrderedDict()\n",
    "for tt in numData:\n",
    "    res = lps2eval(\n",
    "        model, objF, numData=numData, fit=False, DataIDs_=DataDict.keys(), tt=tt,\n",
    "        dinucl=True,\n",
    "        dinuCoordsAndValues=(dinuDF.interaction.values, dinuDF.value.values)\n",
    "                  )\n",
    "    for dataID in DataDict: \n",
    "        dinuRes[dataID+\"_\"+tt] = res[dataID]\n",
    "\n",
    "Results[newModelName] = pd.Series(dinuRes)\n",
    "\n",
    "Results.to_csv(f\"models/{saveName}.csv\")"
   ]
  },
  {
   "cell_type": "code",
   "execution_count": 63,
   "metadata": {
    "ExecuteTime": {
     "end_time": "2020-04-19T20:37:50.836748Z",
     "start_time": "2020-04-19T20:21:25.506547Z"
    },
    "hidden": true
   },
   "outputs": [],
   "source": [
    "# native mlogL and linR2\n",
    "refit=False\n",
    "model = deepcopy(models[\"[5]_extended[Pr.Pl.36N]\"])\n",
    "for objF in [\"linR2\",\"mlogL\"]:\n",
    "    dinuRes = OrderedDict()\n",
    "    for tt in numData:\n",
    "        res = lps2eval(\n",
    "            model, objF, numData=numData, fit=False, DataIDs_=DataDict.keys(), tt=tt,\n",
    "            dinucl=True,\n",
    "            dinuCoordsAndValues=(dinuDF.interaction.values, dinuDF.value.values)\n",
    "                      )\n",
    "        for dataID in DataDict: \n",
    "            dinuRes[dataID+\"_\"+tt] = res[dataID]\n",
    "\n",
    "    savePath = f\"models/comparison_{objF}.csv\"\n",
    "    Results = pd.read_csv(savePath, index_col=0)\n",
    "    Results[newModelName] = pd.Series(dinuRes)\n",
    "    Results.to_csv(savePath)"
   ]
  },
  {
   "cell_type": "markdown",
   "metadata": {},
   "source": [
    "### See"
   ]
  },
  {
   "cell_type": "markdown",
   "metadata": {
    "heading_collapsed": true,
    "hidden": true
   },
   "source": [
    "#### $-\\log \\mathcal{L}$"
   ]
  },
  {
   "cell_type": "code",
   "execution_count": 64,
   "metadata": {
    "ExecuteTime": {
     "end_time": "2020-04-19T20:44:55.092482Z",
     "start_time": "2020-04-19T20:44:55.084733Z"
    },
    "hidden": true
   },
   "outputs": [],
   "source": [
    "Results = pd.read_csv(\"models/comparison_mlogL.csv\", index_col=0)"
   ]
  },
  {
   "cell_type": "code",
   "execution_count": 65,
   "metadata": {
    "ExecuteTime": {
     "end_time": "2020-04-19T20:44:55.856371Z",
     "start_time": "2020-04-19T20:44:55.794333Z"
    },
    "hidden": true
   },
   "outputs": [
    {
     "name": "stdout",
     "output_type": "stream",
     "text": [
      "\n",
      " ======================================== fitted on Pr\n"
     ]
    },
    {
     "data": {
      "text/html": [
       "<div>\n",
       "<style scoped>\n",
       "    .dataframe tbody tr th:only-of-type {\n",
       "        vertical-align: middle;\n",
       "    }\n",
       "\n",
       "    .dataframe tbody tr th {\n",
       "        vertical-align: top;\n",
       "    }\n",
       "\n",
       "    .dataframe thead th {\n",
       "        text-align: right;\n",
       "    }\n",
       "</style>\n",
       "<table border=\"1\" class=\"dataframe\">\n",
       "  <thead>\n",
       "    <tr style=\"text-align: right;\">\n",
       "      <th></th>\n",
       "      <th>[0]</th>\n",
       "      <th>[1]</th>\n",
       "      <th>[2]</th>\n",
       "      <th>[3]</th>\n",
       "      <th>[4]</th>\n",
       "    </tr>\n",
       "  </thead>\n",
       "  <tbody>\n",
       "    <tr>\n",
       "      <th>Pr_training</th>\n",
       "      <td>nan</td>\n",
       "      <td>-595.6</td>\n",
       "      <td>-29.4</td>\n",
       "      <td>-23.3</td>\n",
       "      <td>-11.3</td>\n",
       "    </tr>\n",
       "    <tr>\n",
       "      <th>Pr_validation</th>\n",
       "      <td>nan</td>\n",
       "      <td>-192.2</td>\n",
       "      <td>-13.6</td>\n",
       "      <td>-12.1</td>\n",
       "      <td>0.4</td>\n",
       "    </tr>\n",
       "    <tr>\n",
       "      <th>Pr_evaluation</th>\n",
       "      <td>nan</td>\n",
       "      <td>-181.4</td>\n",
       "      <td>-15.3</td>\n",
       "      <td>-3.9</td>\n",
       "      <td>-2.4</td>\n",
       "    </tr>\n",
       "    <tr>\n",
       "      <th>Pr_all</th>\n",
       "      <td>nan</td>\n",
       "      <td>-967.9</td>\n",
       "      <td>-58.7</td>\n",
       "      <td>-39.8</td>\n",
       "      <td>-13.2</td>\n",
       "    </tr>\n",
       "  </tbody>\n",
       "</table>\n",
       "</div>"
      ],
      "text/plain": [
       "               [0]     [1]    [2]    [3]    [4]\n",
       "Pr_training    nan  -595.6  -29.4  -23.3  -11.3\n",
       "Pr_validation  nan  -192.2  -13.6  -12.1    0.4\n",
       "Pr_evaluation  nan  -181.4  -15.3   -3.9   -2.4\n",
       "Pr_all         nan  -967.9  -58.7  -39.8  -13.2"
      ]
     },
     "metadata": {},
     "output_type": "display_data"
    },
    {
     "data": {
      "text/html": [
       "<div>\n",
       "<style scoped>\n",
       "    .dataframe tbody tr th:only-of-type {\n",
       "        vertical-align: middle;\n",
       "    }\n",
       "\n",
       "    .dataframe tbody tr th {\n",
       "        vertical-align: top;\n",
       "    }\n",
       "\n",
       "    .dataframe thead th {\n",
       "        text-align: right;\n",
       "    }\n",
       "</style>\n",
       "<table border=\"1\" class=\"dataframe\">\n",
       "  <thead>\n",
       "    <tr style=\"text-align: right;\">\n",
       "      <th></th>\n",
       "      <th>[0]</th>\n",
       "      <th>[1]</th>\n",
       "      <th>[2]</th>\n",
       "      <th>[3]</th>\n",
       "      <th>[4]</th>\n",
       "    </tr>\n",
       "  </thead>\n",
       "  <tbody>\n",
       "    <tr>\n",
       "      <th>Pl_training</th>\n",
       "      <td>nan</td>\n",
       "      <td>51.4</td>\n",
       "      <td>-0.2</td>\n",
       "      <td>-77.0</td>\n",
       "      <td>37.6</td>\n",
       "    </tr>\n",
       "    <tr>\n",
       "      <th>Pl_validation</th>\n",
       "      <td>nan</td>\n",
       "      <td>-29.9</td>\n",
       "      <td>-2.7</td>\n",
       "      <td>-4.3</td>\n",
       "      <td>0.6</td>\n",
       "    </tr>\n",
       "    <tr>\n",
       "      <th>Pl_evaluation</th>\n",
       "      <td>nan</td>\n",
       "      <td>-31.5</td>\n",
       "      <td>-2.5</td>\n",
       "      <td>-5.1</td>\n",
       "      <td>2.0</td>\n",
       "    </tr>\n",
       "    <tr>\n",
       "      <th>Pl_all</th>\n",
       "      <td>nan</td>\n",
       "      <td>-10.6</td>\n",
       "      <td>-5.7</td>\n",
       "      <td>-86.4</td>\n",
       "      <td>40.1</td>\n",
       "    </tr>\n",
       "  </tbody>\n",
       "</table>\n",
       "</div>"
      ],
      "text/plain": [
       "               [0]    [1]   [2]    [3]   [4]\n",
       "Pl_training    nan   51.4  -0.2  -77.0  37.6\n",
       "Pl_validation  nan  -29.9  -2.7   -4.3   0.6\n",
       "Pl_evaluation  nan  -31.5  -2.5   -5.1   2.0\n",
       "Pl_all         nan  -10.6  -5.7  -86.4  40.1"
      ]
     },
     "metadata": {},
     "output_type": "display_data"
    },
    {
     "data": {
      "text/html": [
       "<div>\n",
       "<style scoped>\n",
       "    .dataframe tbody tr th:only-of-type {\n",
       "        vertical-align: middle;\n",
       "    }\n",
       "\n",
       "    .dataframe tbody tr th {\n",
       "        vertical-align: top;\n",
       "    }\n",
       "\n",
       "    .dataframe thead th {\n",
       "        text-align: right;\n",
       "    }\n",
       "</style>\n",
       "<table border=\"1\" class=\"dataframe\">\n",
       "  <thead>\n",
       "    <tr style=\"text-align: right;\">\n",
       "      <th></th>\n",
       "      <th>[0]</th>\n",
       "      <th>[1]</th>\n",
       "      <th>[2]</th>\n",
       "      <th>[3]</th>\n",
       "      <th>[4]</th>\n",
       "    </tr>\n",
       "  </thead>\n",
       "  <tbody>\n",
       "    <tr>\n",
       "      <th>36N_training</th>\n",
       "      <td>nan</td>\n",
       "      <td>-1013.8</td>\n",
       "      <td>-125.7</td>\n",
       "      <td>-8.0</td>\n",
       "      <td>-28.5</td>\n",
       "    </tr>\n",
       "    <tr>\n",
       "      <th>36N_validation</th>\n",
       "      <td>nan</td>\n",
       "      <td>-353.3</td>\n",
       "      <td>-33.7</td>\n",
       "      <td>-8.9</td>\n",
       "      <td>-5.3</td>\n",
       "    </tr>\n",
       "    <tr>\n",
       "      <th>36N_evaluation</th>\n",
       "      <td>nan</td>\n",
       "      <td>-357.8</td>\n",
       "      <td>-31.2</td>\n",
       "      <td>-7.4</td>\n",
       "      <td>-0.6</td>\n",
       "    </tr>\n",
       "    <tr>\n",
       "      <th>36N_all</th>\n",
       "      <td>nan</td>\n",
       "      <td>-1781.1</td>\n",
       "      <td>-188.3</td>\n",
       "      <td>-24.2</td>\n",
       "      <td>-34.4</td>\n",
       "    </tr>\n",
       "  </tbody>\n",
       "</table>\n",
       "</div>"
      ],
      "text/plain": [
       "                [0]      [1]     [2]    [3]    [4]\n",
       "36N_training    nan  -1013.8  -125.7   -8.0  -28.5\n",
       "36N_validation  nan   -353.3   -33.7   -8.9   -5.3\n",
       "36N_evaluation  nan   -357.8   -31.2   -7.4   -0.6\n",
       "36N_all         nan  -1781.1  -188.3  -24.2  -34.4"
      ]
     },
     "metadata": {},
     "output_type": "display_data"
    },
    {
     "name": "stdout",
     "output_type": "stream",
     "text": [
      "\n",
      " ======================================== fitted on Pr.Pl.36N\n"
     ]
    },
    {
     "data": {
      "text/html": [
       "<div>\n",
       "<style scoped>\n",
       "    .dataframe tbody tr th:only-of-type {\n",
       "        vertical-align: middle;\n",
       "    }\n",
       "\n",
       "    .dataframe tbody tr th {\n",
       "        vertical-align: top;\n",
       "    }\n",
       "\n",
       "    .dataframe thead th {\n",
       "        text-align: right;\n",
       "    }\n",
       "</style>\n",
       "<table border=\"1\" class=\"dataframe\">\n",
       "  <thead>\n",
       "    <tr style=\"text-align: right;\">\n",
       "      <th></th>\n",
       "      <th>[0]</th>\n",
       "      <th>[1]</th>\n",
       "      <th>[2]</th>\n",
       "      <th>[3]</th>\n",
       "      <th>[4]</th>\n",
       "      <th>[5]</th>\n",
       "      <th>[6]</th>\n",
       "    </tr>\n",
       "  </thead>\n",
       "  <tbody>\n",
       "    <tr>\n",
       "      <th>Pr_training</th>\n",
       "      <td>nan</td>\n",
       "      <td>-715.6</td>\n",
       "      <td>-60.1</td>\n",
       "      <td>-32.7</td>\n",
       "      <td>-22.5</td>\n",
       "      <td>-3.2</td>\n",
       "      <td>-69.7</td>\n",
       "    </tr>\n",
       "    <tr>\n",
       "      <th>Pr_validation</th>\n",
       "      <td>nan</td>\n",
       "      <td>-222.2</td>\n",
       "      <td>-26.8</td>\n",
       "      <td>-13.3</td>\n",
       "      <td>-7.8</td>\n",
       "      <td>-0.4</td>\n",
       "      <td>-24.7</td>\n",
       "    </tr>\n",
       "    <tr>\n",
       "      <th>Pr_evaluation</th>\n",
       "      <td>nan</td>\n",
       "      <td>-233.5</td>\n",
       "      <td>-12.7</td>\n",
       "      <td>3.0</td>\n",
       "      <td>-4.8</td>\n",
       "      <td>-0.3</td>\n",
       "      <td>-23.6</td>\n",
       "    </tr>\n",
       "    <tr>\n",
       "      <th>Pr_all</th>\n",
       "      <td>nan</td>\n",
       "      <td>-1170.6</td>\n",
       "      <td>-99.8</td>\n",
       "      <td>-43.5</td>\n",
       "      <td>-35.2</td>\n",
       "      <td>-4.1</td>\n",
       "      <td>-117.8</td>\n",
       "    </tr>\n",
       "  </tbody>\n",
       "</table>\n",
       "</div>"
      ],
      "text/plain": [
       "               [0]      [1]    [2]    [3]    [4]   [5]     [6]\n",
       "Pr_training    nan   -715.6  -60.1  -32.7  -22.5  -3.2   -69.7\n",
       "Pr_validation  nan   -222.2  -26.8  -13.3   -7.8  -0.4   -24.7\n",
       "Pr_evaluation  nan   -233.5  -12.7    3.0   -4.8  -0.3   -23.6\n",
       "Pr_all         nan  -1170.6  -99.8  -43.5  -35.2  -4.1  -117.8"
      ]
     },
     "metadata": {},
     "output_type": "display_data"
    },
    {
     "data": {
      "text/html": [
       "<div>\n",
       "<style scoped>\n",
       "    .dataframe tbody tr th:only-of-type {\n",
       "        vertical-align: middle;\n",
       "    }\n",
       "\n",
       "    .dataframe tbody tr th {\n",
       "        vertical-align: top;\n",
       "    }\n",
       "\n",
       "    .dataframe thead th {\n",
       "        text-align: right;\n",
       "    }\n",
       "</style>\n",
       "<table border=\"1\" class=\"dataframe\">\n",
       "  <thead>\n",
       "    <tr style=\"text-align: right;\">\n",
       "      <th></th>\n",
       "      <th>[0]</th>\n",
       "      <th>[1]</th>\n",
       "      <th>[2]</th>\n",
       "      <th>[3]</th>\n",
       "      <th>[4]</th>\n",
       "      <th>[5]</th>\n",
       "      <th>[6]</th>\n",
       "    </tr>\n",
       "  </thead>\n",
       "  <tbody>\n",
       "    <tr>\n",
       "      <th>Pl_training</th>\n",
       "      <td>nan</td>\n",
       "      <td>-102.7</td>\n",
       "      <td>-5.9</td>\n",
       "      <td>-18.7</td>\n",
       "      <td>10.3</td>\n",
       "      <td>0.5</td>\n",
       "      <td>-13.5</td>\n",
       "    </tr>\n",
       "    <tr>\n",
       "      <th>Pl_validation</th>\n",
       "      <td>nan</td>\n",
       "      <td>-58.8</td>\n",
       "      <td>-2.5</td>\n",
       "      <td>0.4</td>\n",
       "      <td>-2.5</td>\n",
       "      <td>0.4</td>\n",
       "      <td>-4.4</td>\n",
       "    </tr>\n",
       "    <tr>\n",
       "      <th>Pl_evaluation</th>\n",
       "      <td>nan</td>\n",
       "      <td>-57.2</td>\n",
       "      <td>-2.9</td>\n",
       "      <td>0.5</td>\n",
       "      <td>-1.3</td>\n",
       "      <td>0.2</td>\n",
       "      <td>-5.9</td>\n",
       "    </tr>\n",
       "    <tr>\n",
       "      <th>Pl_all</th>\n",
       "      <td>nan</td>\n",
       "      <td>-219.5</td>\n",
       "      <td>-11.3</td>\n",
       "      <td>-17.8</td>\n",
       "      <td>6.4</td>\n",
       "      <td>1.2</td>\n",
       "      <td>-23.6</td>\n",
       "    </tr>\n",
       "  </tbody>\n",
       "</table>\n",
       "</div>"
      ],
      "text/plain": [
       "               [0]     [1]    [2]    [3]   [4]  [5]    [6]\n",
       "Pl_training    nan  -102.7   -5.9  -18.7  10.3  0.5  -13.5\n",
       "Pl_validation  nan   -58.8   -2.5    0.4  -2.5  0.4   -4.4\n",
       "Pl_evaluation  nan   -57.2   -2.9    0.5  -1.3  0.2   -5.9\n",
       "Pl_all         nan  -219.5  -11.3  -17.8   6.4  1.2  -23.6"
      ]
     },
     "metadata": {},
     "output_type": "display_data"
    },
    {
     "data": {
      "text/html": [
       "<div>\n",
       "<style scoped>\n",
       "    .dataframe tbody tr th:only-of-type {\n",
       "        vertical-align: middle;\n",
       "    }\n",
       "\n",
       "    .dataframe tbody tr th {\n",
       "        vertical-align: top;\n",
       "    }\n",
       "\n",
       "    .dataframe thead th {\n",
       "        text-align: right;\n",
       "    }\n",
       "</style>\n",
       "<table border=\"1\" class=\"dataframe\">\n",
       "  <thead>\n",
       "    <tr style=\"text-align: right;\">\n",
       "      <th></th>\n",
       "      <th>[0]</th>\n",
       "      <th>[1]</th>\n",
       "      <th>[2]</th>\n",
       "      <th>[3]</th>\n",
       "      <th>[4]</th>\n",
       "      <th>[5]</th>\n",
       "      <th>[6]</th>\n",
       "    </tr>\n",
       "  </thead>\n",
       "  <tbody>\n",
       "    <tr>\n",
       "      <th>36N_training</th>\n",
       "      <td>nan</td>\n",
       "      <td>-1003.2</td>\n",
       "      <td>-90.1</td>\n",
       "      <td>-8.4</td>\n",
       "      <td>-9.6</td>\n",
       "      <td>-8.1</td>\n",
       "      <td>-131.1</td>\n",
       "    </tr>\n",
       "    <tr>\n",
       "      <th>36N_validation</th>\n",
       "      <td>nan</td>\n",
       "      <td>-327.9</td>\n",
       "      <td>-52.5</td>\n",
       "      <td>-3.2</td>\n",
       "      <td>4.6</td>\n",
       "      <td>-3.4</td>\n",
       "      <td>-35.4</td>\n",
       "    </tr>\n",
       "    <tr>\n",
       "      <th>36N_evaluation</th>\n",
       "      <td>nan</td>\n",
       "      <td>-370.3</td>\n",
       "      <td>-21.4</td>\n",
       "      <td>0.2</td>\n",
       "      <td>5.5</td>\n",
       "      <td>-5.4</td>\n",
       "      <td>-32.1</td>\n",
       "    </tr>\n",
       "    <tr>\n",
       "      <th>36N_all</th>\n",
       "      <td>nan</td>\n",
       "      <td>-1792.1</td>\n",
       "      <td>-159.7</td>\n",
       "      <td>-9.6</td>\n",
       "      <td>3.1</td>\n",
       "      <td>-18.5</td>\n",
       "      <td>-198.4</td>\n",
       "    </tr>\n",
       "  </tbody>\n",
       "</table>\n",
       "</div>"
      ],
      "text/plain": [
       "                [0]      [1]     [2]   [3]   [4]    [5]     [6]\n",
       "36N_training    nan  -1003.2   -90.1  -8.4  -9.6   -8.1  -131.1\n",
       "36N_validation  nan   -327.9   -52.5  -3.2   4.6   -3.4   -35.4\n",
       "36N_evaluation  nan   -370.3   -21.4   0.2   5.5   -5.4   -32.1\n",
       "36N_all         nan  -1792.1  -159.7  -9.6   3.1  -18.5  -198.4"
      ]
     },
     "metadata": {},
     "output_type": "display_data"
    }
   ],
   "source": [
    "for fitID in [\"Pr\",\"Pr.Pl.36N\"]:\n",
    "    print (\"\\n\",\"=\"*40,\"fitted on\", fitID)\n",
    "    for dataID in [\"Pr\",'Pl',\"36N\"]:\n",
    "        df = Results.loc[\n",
    "            [i for i in Results.index if i.split(\"_\")[0]==dataID],\n",
    "            [c for c in Results.columns if f\"[{fitID}]\" in c]\n",
    "                   ].copy()\n",
    "        df = df.rename({c:c.split(\"_\")[0] for c in df.columns}, axis=\"columns\")\n",
    "        showdf(df.diff(axis=1))"
   ]
  },
  {
   "cell_type": "code",
   "execution_count": null,
   "metadata": {
    "hidden": true
   },
   "outputs": [],
   "source": []
  },
  {
   "cell_type": "code",
   "execution_count": null,
   "metadata": {
    "hidden": true
   },
   "outputs": [],
   "source": []
  },
  {
   "cell_type": "code",
   "execution_count": null,
   "metadata": {
    "hidden": true
   },
   "outputs": [],
   "source": []
  },
  {
   "cell_type": "markdown",
   "metadata": {
    "heading_collapsed": true,
    "hidden": true
   },
   "source": [
    "#### `linR2`"
   ]
  },
  {
   "cell_type": "code",
   "execution_count": 66,
   "metadata": {
    "ExecuteTime": {
     "end_time": "2020-04-19T20:45:31.970738Z",
     "start_time": "2020-04-19T20:45:31.964896Z"
    },
    "hidden": true
   },
   "outputs": [],
   "source": [
    "Results = pd.read_csv(\"models/comparison_linR2_refitted_mu.csv\", index_col=0)\n",
    "# Results = pd.read_csv(\"models/comparison_mlogL.csv\", index_col=0)"
   ]
  },
  {
   "cell_type": "code",
   "execution_count": 67,
   "metadata": {
    "ExecuteTime": {
     "end_time": "2020-04-19T20:45:35.477728Z",
     "start_time": "2020-04-19T20:45:35.434865Z"
    },
    "hidden": true
   },
   "outputs": [
    {
     "data": {
      "text/html": [
       "<div>\n",
       "<style scoped>\n",
       "    .dataframe tbody tr th:only-of-type {\n",
       "        vertical-align: middle;\n",
       "    }\n",
       "\n",
       "    .dataframe tbody tr th {\n",
       "        vertical-align: top;\n",
       "    }\n",
       "\n",
       "    .dataframe thead th {\n",
       "        text-align: right;\n",
       "    }\n",
       "</style>\n",
       "<table border=\"1\" class=\"dataframe\">\n",
       "  <thead>\n",
       "    <tr style=\"text-align: right;\">\n",
       "      <th></th>\n",
       "      <th>[0] Pr</th>\n",
       "      <th>[1] Pr</th>\n",
       "      <th>[2] Pr</th>\n",
       "      <th>[3] Pr</th>\n",
       "      <th>[4] Pr</th>\n",
       "      <th>[0] Pr.Pl.36N</th>\n",
       "      <th>[1] Pr.Pl.36N</th>\n",
       "      <th>[2] Pr.Pl.36N</th>\n",
       "      <th>[3] Pr.Pl.36N</th>\n",
       "      <th>[4] Pr.Pl.36N</th>\n",
       "      <th>[5] Pr.Pl.36N</th>\n",
       "      <th>[6] Pr.Pl.36N</th>\n",
       "    </tr>\n",
       "  </thead>\n",
       "  <tbody>\n",
       "    <tr>\n",
       "      <th>Pr_training</th>\n",
       "      <td>73.3</td>\n",
       "      <td>79.0</td>\n",
       "      <td>79.8</td>\n",
       "      <td>79.6</td>\n",
       "      <td>79.5</td>\n",
       "      <td>68.7</td>\n",
       "      <td>76.9</td>\n",
       "      <td>78.1</td>\n",
       "      <td>77.9</td>\n",
       "      <td>77.9</td>\n",
       "      <td>78.0</td>\n",
       "      <td>78.6</td>\n",
       "    </tr>\n",
       "    <tr>\n",
       "      <th>Pr_validation</th>\n",
       "      <td>72.9</td>\n",
       "      <td>79.8</td>\n",
       "      <td>80.6</td>\n",
       "      <td>80.5</td>\n",
       "      <td>80.3</td>\n",
       "      <td>69.2</td>\n",
       "      <td>77.4</td>\n",
       "      <td>78.7</td>\n",
       "      <td>78.7</td>\n",
       "      <td>78.7</td>\n",
       "      <td>78.8</td>\n",
       "      <td>79.5</td>\n",
       "    </tr>\n",
       "    <tr>\n",
       "      <th>Pr_evaluation</th>\n",
       "      <td>74.7</td>\n",
       "      <td>79.9</td>\n",
       "      <td>80.9</td>\n",
       "      <td>80.6</td>\n",
       "      <td>80.5</td>\n",
       "      <td>70.8</td>\n",
       "      <td>78.4</td>\n",
       "      <td>79.3</td>\n",
       "      <td>78.7</td>\n",
       "      <td>78.7</td>\n",
       "      <td>78.7</td>\n",
       "      <td>79.3</td>\n",
       "    </tr>\n",
       "    <tr>\n",
       "      <th>Pr_all</th>\n",
       "      <td>73.5</td>\n",
       "      <td>79.3</td>\n",
       "      <td>80.2</td>\n",
       "      <td>80.0</td>\n",
       "      <td>79.9</td>\n",
       "      <td>69.2</td>\n",
       "      <td>77.3</td>\n",
       "      <td>78.4</td>\n",
       "      <td>78.2</td>\n",
       "      <td>78.2</td>\n",
       "      <td>78.3</td>\n",
       "      <td>79.0</td>\n",
       "    </tr>\n",
       "  </tbody>\n",
       "</table>\n",
       "</div>"
      ],
      "text/plain": [
       "              [0] Pr [1] Pr [2] Pr [3] Pr [4] Pr [0] Pr.Pl.36N [1] Pr.Pl.36N  \\\n",
       "Pr_training     73.3   79.0   79.8   79.6   79.5          68.7          76.9   \n",
       "Pr_validation   72.9   79.8   80.6   80.5   80.3          69.2          77.4   \n",
       "Pr_evaluation   74.7   79.9   80.9   80.6   80.5          70.8          78.4   \n",
       "Pr_all          73.5   79.3   80.2   80.0   79.9          69.2          77.3   \n",
       "\n",
       "              [2] Pr.Pl.36N [3] Pr.Pl.36N [4] Pr.Pl.36N [5] Pr.Pl.36N  \\\n",
       "Pr_training            78.1          77.9          77.9          78.0   \n",
       "Pr_validation          78.7          78.7          78.7          78.8   \n",
       "Pr_evaluation          79.3          78.7          78.7          78.7   \n",
       "Pr_all                 78.4          78.2          78.2          78.3   \n",
       "\n",
       "              [6] Pr.Pl.36N  \n",
       "Pr_training            78.6  \n",
       "Pr_validation          79.5  \n",
       "Pr_evaluation          79.3  \n",
       "Pr_all                 79.0  "
      ]
     },
     "metadata": {},
     "output_type": "display_data"
    },
    {
     "data": {
      "text/html": [
       "<div>\n",
       "<style scoped>\n",
       "    .dataframe tbody tr th:only-of-type {\n",
       "        vertical-align: middle;\n",
       "    }\n",
       "\n",
       "    .dataframe tbody tr th {\n",
       "        vertical-align: top;\n",
       "    }\n",
       "\n",
       "    .dataframe thead th {\n",
       "        text-align: right;\n",
       "    }\n",
       "</style>\n",
       "<table border=\"1\" class=\"dataframe\">\n",
       "  <thead>\n",
       "    <tr style=\"text-align: right;\">\n",
       "      <th></th>\n",
       "      <th>[0] Pr</th>\n",
       "      <th>[1] Pr</th>\n",
       "      <th>[2] Pr</th>\n",
       "      <th>[3] Pr</th>\n",
       "      <th>[4] Pr</th>\n",
       "      <th>[0] Pr.Pl.36N</th>\n",
       "      <th>[1] Pr.Pl.36N</th>\n",
       "      <th>[2] Pr.Pl.36N</th>\n",
       "      <th>[3] Pr.Pl.36N</th>\n",
       "      <th>[4] Pr.Pl.36N</th>\n",
       "      <th>[5] Pr.Pl.36N</th>\n",
       "      <th>[6] Pr.Pl.36N</th>\n",
       "    </tr>\n",
       "  </thead>\n",
       "  <tbody>\n",
       "    <tr>\n",
       "      <th>Pl_training</th>\n",
       "      <td>65.9</td>\n",
       "      <td>69.4</td>\n",
       "      <td>70.6</td>\n",
       "      <td>70.8</td>\n",
       "      <td>70.4</td>\n",
       "      <td>63.2</td>\n",
       "      <td>69.2</td>\n",
       "      <td>70.8</td>\n",
       "      <td>70.5</td>\n",
       "      <td>70.6</td>\n",
       "      <td>70.6</td>\n",
       "      <td>71.0</td>\n",
       "    </tr>\n",
       "    <tr>\n",
       "      <th>Pl_validation</th>\n",
       "      <td>62.9</td>\n",
       "      <td>69.4</td>\n",
       "      <td>70.4</td>\n",
       "      <td>70.3</td>\n",
       "      <td>70.1</td>\n",
       "      <td>61.5</td>\n",
       "      <td>69.3</td>\n",
       "      <td>70.8</td>\n",
       "      <td>70.4</td>\n",
       "      <td>70.6</td>\n",
       "      <td>70.7</td>\n",
       "      <td>71.4</td>\n",
       "    </tr>\n",
       "    <tr>\n",
       "      <th>Pl_evaluation</th>\n",
       "      <td>64.8</td>\n",
       "      <td>69.5</td>\n",
       "      <td>70.5</td>\n",
       "      <td>70.7</td>\n",
       "      <td>70.4</td>\n",
       "      <td>62.5</td>\n",
       "      <td>69.3</td>\n",
       "      <td>70.8</td>\n",
       "      <td>70.7</td>\n",
       "      <td>70.7</td>\n",
       "      <td>70.7</td>\n",
       "      <td>71.3</td>\n",
       "    </tr>\n",
       "    <tr>\n",
       "      <th>Pl_all</th>\n",
       "      <td>65.1</td>\n",
       "      <td>69.4</td>\n",
       "      <td>70.5</td>\n",
       "      <td>70.7</td>\n",
       "      <td>70.3</td>\n",
       "      <td>62.7</td>\n",
       "      <td>69.2</td>\n",
       "      <td>70.8</td>\n",
       "      <td>70.5</td>\n",
       "      <td>70.6</td>\n",
       "      <td>70.6</td>\n",
       "      <td>71.1</td>\n",
       "    </tr>\n",
       "  </tbody>\n",
       "</table>\n",
       "</div>"
      ],
      "text/plain": [
       "              [0] Pr [1] Pr [2] Pr [3] Pr [4] Pr [0] Pr.Pl.36N [1] Pr.Pl.36N  \\\n",
       "Pl_training     65.9   69.4   70.6   70.8   70.4          63.2          69.2   \n",
       "Pl_validation   62.9   69.4   70.4   70.3   70.1          61.5          69.3   \n",
       "Pl_evaluation   64.8   69.5   70.5   70.7   70.4          62.5          69.3   \n",
       "Pl_all          65.1   69.4   70.5   70.7   70.3          62.7          69.2   \n",
       "\n",
       "              [2] Pr.Pl.36N [3] Pr.Pl.36N [4] Pr.Pl.36N [5] Pr.Pl.36N  \\\n",
       "Pl_training            70.8          70.5          70.6          70.6   \n",
       "Pl_validation          70.8          70.4          70.6          70.7   \n",
       "Pl_evaluation          70.8          70.7          70.7          70.7   \n",
       "Pl_all                 70.8          70.5          70.6          70.6   \n",
       "\n",
       "              [6] Pr.Pl.36N  \n",
       "Pl_training            71.0  \n",
       "Pl_validation          71.4  \n",
       "Pl_evaluation          71.3  \n",
       "Pl_all                 71.1  "
      ]
     },
     "metadata": {},
     "output_type": "display_data"
    },
    {
     "data": {
      "text/html": [
       "<div>\n",
       "<style scoped>\n",
       "    .dataframe tbody tr th:only-of-type {\n",
       "        vertical-align: middle;\n",
       "    }\n",
       "\n",
       "    .dataframe tbody tr th {\n",
       "        vertical-align: top;\n",
       "    }\n",
       "\n",
       "    .dataframe thead th {\n",
       "        text-align: right;\n",
       "    }\n",
       "</style>\n",
       "<table border=\"1\" class=\"dataframe\">\n",
       "  <thead>\n",
       "    <tr style=\"text-align: right;\">\n",
       "      <th></th>\n",
       "      <th>[0] Pr</th>\n",
       "      <th>[1] Pr</th>\n",
       "      <th>[2] Pr</th>\n",
       "      <th>[3] Pr</th>\n",
       "      <th>[4] Pr</th>\n",
       "      <th>[0] Pr.Pl.36N</th>\n",
       "      <th>[1] Pr.Pl.36N</th>\n",
       "      <th>[2] Pr.Pl.36N</th>\n",
       "      <th>[3] Pr.Pl.36N</th>\n",
       "      <th>[4] Pr.Pl.36N</th>\n",
       "      <th>[5] Pr.Pl.36N</th>\n",
       "      <th>[6] Pr.Pl.36N</th>\n",
       "    </tr>\n",
       "  </thead>\n",
       "  <tbody>\n",
       "    <tr>\n",
       "      <th>36N_training</th>\n",
       "      <td>34.1</td>\n",
       "      <td>53.8</td>\n",
       "      <td>55.7</td>\n",
       "      <td>55.8</td>\n",
       "      <td>56.2</td>\n",
       "      <td>46.3</td>\n",
       "      <td>64.5</td>\n",
       "      <td>65.7</td>\n",
       "      <td>65.8</td>\n",
       "      <td>66.0</td>\n",
       "      <td>66.0</td>\n",
       "      <td>68.2</td>\n",
       "    </tr>\n",
       "    <tr>\n",
       "      <th>36N_validation</th>\n",
       "      <td>38.1</td>\n",
       "      <td>55.6</td>\n",
       "      <td>56.9</td>\n",
       "      <td>57.4</td>\n",
       "      <td>57.6</td>\n",
       "      <td>47.5</td>\n",
       "      <td>64.7</td>\n",
       "      <td>67.1</td>\n",
       "      <td>67.1</td>\n",
       "      <td>66.9</td>\n",
       "      <td>67.1</td>\n",
       "      <td>68.8</td>\n",
       "    </tr>\n",
       "    <tr>\n",
       "      <th>36N_evaluation</th>\n",
       "      <td>51.0</td>\n",
       "      <td>64.8</td>\n",
       "      <td>65.5</td>\n",
       "      <td>65.8</td>\n",
       "      <td>65.7</td>\n",
       "      <td>61.7</td>\n",
       "      <td>76.8</td>\n",
       "      <td>77.8</td>\n",
       "      <td>77.7</td>\n",
       "      <td>77.5</td>\n",
       "      <td>77.6</td>\n",
       "      <td>78.9</td>\n",
       "    </tr>\n",
       "    <tr>\n",
       "      <th>36N_all</th>\n",
       "      <td>38.5</td>\n",
       "      <td>57.4</td>\n",
       "      <td>58.8</td>\n",
       "      <td>59.0</td>\n",
       "      <td>59.3</td>\n",
       "      <td>49.6</td>\n",
       "      <td>67.9</td>\n",
       "      <td>69.3</td>\n",
       "      <td>69.3</td>\n",
       "      <td>69.3</td>\n",
       "      <td>69.4</td>\n",
       "      <td>71.3</td>\n",
       "    </tr>\n",
       "  </tbody>\n",
       "</table>\n",
       "</div>"
      ],
      "text/plain": [
       "               [0] Pr [1] Pr [2] Pr [3] Pr [4] Pr [0] Pr.Pl.36N [1] Pr.Pl.36N  \\\n",
       "36N_training     34.1   53.8   55.7   55.8   56.2          46.3          64.5   \n",
       "36N_validation   38.1   55.6   56.9   57.4   57.6          47.5          64.7   \n",
       "36N_evaluation   51.0   64.8   65.5   65.8   65.7          61.7          76.8   \n",
       "36N_all          38.5   57.4   58.8   59.0   59.3          49.6          67.9   \n",
       "\n",
       "               [2] Pr.Pl.36N [3] Pr.Pl.36N [4] Pr.Pl.36N [5] Pr.Pl.36N  \\\n",
       "36N_training            65.7          65.8          66.0          66.0   \n",
       "36N_validation          67.1          67.1          66.9          67.1   \n",
       "36N_evaluation          77.8          77.7          77.5          77.6   \n",
       "36N_all                 69.3          69.3          69.3          69.4   \n",
       "\n",
       "               [6] Pr.Pl.36N  \n",
       "36N_training            68.2  \n",
       "36N_validation          68.8  \n",
       "36N_evaluation          78.9  \n",
       "36N_all                 71.3  "
      ]
     },
     "metadata": {},
     "output_type": "display_data"
    }
   ],
   "source": [
    "for dataID in [\"Pr\",'Pl',\"36N\"]:\n",
    "    df = Results.loc[[i for i in Results.index if i.split(\"_\")[0]==dataID]].copy()\n",
    "    df = df.rename({c:c.split(\"_\")[0]+\" \"+c.split(\"[\")[-1][:-1] for c in df.columns}, axis=\"columns\")\n",
    "    showdf(df*100)"
   ]
  },
  {
   "cell_type": "code",
   "execution_count": null,
   "metadata": {
    "hidden": true
   },
   "outputs": [],
   "source": []
  }
 ],
 "metadata": {
  "kernelspec": {
   "display_name": "Python 3",
   "language": "python",
   "name": "python3"
  },
  "language_info": {
   "codemirror_mode": {
    "name": "ipython",
    "version": 3
   },
   "file_extension": ".py",
   "mimetype": "text/x-python",
   "name": "python",
   "nbconvert_exporter": "python",
   "pygments_lexer": "ipython3",
   "version": "3.12.3"
  },
  "toc": {
   "base_numbering": 1,
   "nav_menu": {},
   "number_sections": true,
   "sideBar": true,
   "skip_h1_title": false,
   "title_cell": "Table of Contents",
   "title_sidebar": "Contents",
   "toc_cell": false,
   "toc_position": {},
   "toc_section_display": true,
   "toc_window_display": true
  }
 },
 "nbformat": 4,
 "nbformat_minor": 4
}
