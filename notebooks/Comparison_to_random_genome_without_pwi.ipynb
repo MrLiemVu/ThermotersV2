{
 "cells": [
  {
   "cell_type": "markdown",
   "metadata": {},
   "source": [
    "#### setting up"
   ]
  },
  {
   "cell_type": "code",
   "execution_count": 7,
   "metadata": {
    "ExecuteTime": {
     "end_time": "2020-04-20T12:52:06.833511Z",
     "start_time": "2020-04-20T12:52:06.320793Z"
    }
   },
   "outputs": [],
   "source": [
    "# Python Modules\n",
    "import os\n",
    "from sys import path as syspath\n",
    "syspath.append(\"../\")\n",
    "\n",
    "from collections import OrderedDict\n",
    "from collections.abc import Mapping\n",
    "import pickle as pkl\n",
    "from copy import deepcopy\n",
    "\n",
    "# Data Modules\n",
    "import numpy as np\n",
    "import pandas as pd\n",
    "from scipy.special import logsumexp\n",
    "from scipy.stats import distributions as dst\n",
    "# from sklearn.linear_model import LogisticRegression, LinearRegression\n",
    "\n",
    "# Util Modules\n",
    "from util.td_model import ThermodynamicModel\n",
    "from util.data_functions import *\n",
    "from util.model_functions import *\n",
    "from util.general_functions import tally\n",
    "\n",
    "# Bio Modules\n",
    "from Bio import SeqIO\n",
    "\n",
    "# Plotting Modules\n",
    "import matplotlib.pyplot as plt\n",
    "%config InlineBackend.figure_format = 'retina'"
   ]
  },
  {
   "cell_type": "code",
   "execution_count": 21,
   "metadata": {
    "ExecuteTime": {
     "end_time": "2020-04-20T12:52:09.897803Z",
     "start_time": "2020-04-20T12:52:07.922044Z"
    }
   },
   "outputs": [],
   "source": [
    "genome = SeqIO.read(\"../data/Ecoli/NC_000913.gbk\", \"genbank\")"
   ]
  },
  {
   "cell_type": "code",
   "execution_count": 9,
   "metadata": {
    "ExecuteTime": {
     "end_time": "2020-04-20T12:52:10.978988Z",
     "start_time": "2020-04-20T12:52:09.899572Z"
    }
   },
   "outputs": [],
   "source": [
    "fttypes = set([ft.type for ft in genome.features])\n",
    "genomeFlags = OrderedDict([])\n",
    "take = OrderedDict([])\n",
    "for fttype in fttypes:\n",
    "    # print (fttype)\n",
    "    take[fttype] = [ft for ft in genome.features if ft.type==fttype]\n",
    "    nparts = [len(ft.location.parts) for ft in take[fttype]]\n",
    "    # assert all parts within features are on the same strand\n",
    "    for ft in take[fttype]:\n",
    "        pts = ft.location.parts\n",
    "        assert np.all([pt.strand==pts[0].strand for pt in pts])\n",
    "    locs = [pt for ft in take[fttype] for pt in ft.location.parts]\n",
    "    x = np.zeros((2,len(genome)))\n",
    "    for il,lc in enumerate(locs):\n",
    "        k = int(lc.strand<0)\n",
    "        # assert lc.start == lc.nofuzzy_start\n",
    "        # assert lc.end   == lc.nofuzzy_end\n",
    "        x[k,lc.start:lc.end] = 1\n",
    "    genomeFlags[fttype] = x\n",
    "\n",
    "\n",
    "genFilter = OrderedDict([\n",
    "    ################ intra-genic ################\n",
    "    (\"within\", np.vstack([genomeFlags[k] for k in [\n",
    "                        \"misc_feature\",\n",
    "                        # \"mobile_element\",\n",
    "                        # \"repeat_region\",\n",
    "                        # \"rep_origin\",\n",
    "                        # \"tRNA\",\n",
    "                        # \"STS\",\n",
    "                        # \"tmRNA\",\n",
    "                        # \"source\"\n",
    "                        # \"rRNA\",\n",
    "                        # \"ncRNA\",\n",
    "                        \"CDS\",\n",
    "                        \"gene\",\n",
    "                    ]]).sum(axis=0)>0),\n",
    "    ################ inter-genic ################\n",
    "    (\"outside\", np.vstack([genomeFlags[k] for k in [\n",
    "                        \"misc_feature\",\n",
    "                        \"mobile_element\",\n",
    "                        \"repeat_region\",\n",
    "                        # \"rep_origin\",\n",
    "                        \"tRNA\",\n",
    "                        \"STS\",\n",
    "                        \"tmRNA\",\n",
    "                        # \"source\"\n",
    "                        \"rRNA\",\n",
    "                        \"CDS\",\n",
    "                        \"gene\",\n",
    "                        \"ncRNA\",\n",
    "                    ]]).sum(axis=0)==0),\n",
    "    ])"
   ]
  },
  {
   "cell_type": "code",
   "execution_count": 12,
   "metadata": {
    "ExecuteTime": {
     "end_time": "2020-04-20T12:52:12.599136Z",
     "start_time": "2020-04-20T12:52:11.312784Z"
    }
   },
   "outputs": [],
   "source": [
    "numGen = np.array([lett2idx[l] for l in genome.seq.lower()],dtype=np.int8)"
   ]
  },
  {
   "cell_type": "code",
   "execution_count": 13,
   "metadata": {
    "ExecuteTime": {
     "end_time": "2020-04-20T12:52:12.659285Z",
     "start_time": "2020-04-20T12:52:12.600670Z"
    }
   },
   "outputs": [],
   "source": [
    "baseFrac = {}\n",
    "for fl in genFilter:\n",
    "    a = np.array(tally(numGen[genFilter[fl]], pandas=True))\n",
    "    baseFrac[fl] = a/a.sum()"
   ]
  },
  {
   "cell_type": "code",
   "execution_count": 15,
   "metadata": {
    "ExecuteTime": {
     "end_time": "2020-04-20T12:52:13.650612Z",
     "start_time": "2020-04-20T12:52:13.645450Z"
    }
   },
   "outputs": [
    {
     "data": {
      "text/plain": [
       "{'within': array([[0.00000000e+00, 2.41130207e-01],\n",
       "        [2.40479709e-07, 2.59345583e-01],\n",
       "        [4.80959418e-07, 2.58570276e-01],\n",
       "        [7.21439127e-07, 2.40952492e-01]]),\n",
       " 'outside': array([[0.00000000e+00, 2.95089304e-01],\n",
       "        [2.23762704e-06, 2.04874894e-01],\n",
       "        [4.47525408e-06, 2.06333827e-01],\n",
       "        [6.71288112e-06, 2.93688549e-01]])}"
      ]
     },
     "execution_count": 15,
     "metadata": {},
     "output_type": "execute_result"
    }
   ],
   "source": [
    "baseFrac"
   ]
  },
  {
   "cell_type": "markdown",
   "metadata": {},
   "source": [
    "{'within': array([0.24113055, 0.25934596, 0.25857065, 0.24095284]),\n",
    " 'outside': array([0.29509327, 0.20487764, 0.2063366 , 0.29369249])}"
   ]
  },
  {
   "cell_type": "code",
   "execution_count": 16,
   "metadata": {
    "ExecuteTime": {
     "end_time": "2020-04-20T12:52:23.504023Z",
     "start_time": "2020-04-20T12:52:23.326209Z"
    }
   },
   "outputs": [
    {
     "name": "stderr",
     "output_type": "stream",
     "text": [
      "C:\\Users\\drago\\AppData\\Roaming\\Python\\Python312\\site-packages\\sklearn\\base.py:376: InconsistentVersionWarning: Trying to unpickle estimator LogisticRegression from version 0.22.1 when using version 1.4.2. This might lead to breaking code or invalid results. Use at your own risk. For more info please refer to:\n",
      "https://scikit-learn.org/stable/model_persistence.html#security-maintainability-limitations\n",
      "  warnings.warn(\n"
     ]
    }
   ],
   "source": [
    "with open(\"../models/fitted_on_Pr.Pl.36N/model_[5]_extended\", \"rb\") as f:\n",
    "    theModel = pkl.load(f)"
   ]
  },
  {
   "cell_type": "code",
   "execution_count": 17,
   "metadata": {
    "ExecuteTime": {
     "end_time": "2020-04-20T12:52:24.805765Z",
     "start_time": "2020-04-20T12:52:24.803142Z"
    }
   },
   "outputs": [],
   "source": [
    "# treat sequences as if they come from 36N library\n",
    "# (essentially, only affects which chemical potential is used)\n",
    "treatAs = \"36N\""
   ]
  },
  {
   "cell_type": "code",
   "execution_count": 18,
   "metadata": {
    "ExecuteTime": {
     "end_time": "2020-04-20T12:52:24.999886Z",
     "start_time": "2020-04-20T12:52:24.997502Z"
    }
   },
   "outputs": [],
   "source": [
    "# we are not interested to model how rc binding interferes with frw.\n",
    "# but are using the rc strand as an independent strand.\n",
    "# so, we can turn off the rc flag in the model\n",
    "theModel[\"includeRC\"] = False"
   ]
  },
  {
   "cell_type": "code",
   "execution_count": 19,
   "metadata": {
    "ExecuteTime": {
     "end_time": "2020-04-20T12:52:26.216599Z",
     "start_time": "2020-04-20T12:52:26.194095Z"
    }
   },
   "outputs": [],
   "source": [
    "genOffset = sum(theModel[\"Layout\"]) + theModel[\"spFlex\"] # depends on the Layout and spFlex\n",
    "numSeqs = np.array([\n",
    "    np.hstack([numGen[-genOffset:],numGen      ]),\n",
    "  3-np.hstack([numGen      ,numGen[: genOffset]])[::-1],\n",
    "    \n",
    "], dtype=np.int8)\n",
    "\n",
    "assert np.all(numSeqs>=0)"
   ]
  },
  {
   "cell_type": "code",
   "execution_count": 20,
   "metadata": {
    "ExecuteTime": {
     "end_time": "2020-04-20T12:53:18.479242Z",
     "start_time": "2020-04-20T12:52:32.581533Z"
    }
   },
   "outputs": [],
   "source": [
    "bricks = getBrickDict({treatAs: numSeqs}, theModel)[treatAs]\n",
    "freeEs = -logsumexp(-bricks, axis=-1)"
   ]
  },
  {
   "cell_type": "code",
   "execution_count": 20,
   "metadata": {
    "ExecuteTime": {
     "end_time": "2020-04-20T12:53:18.596771Z",
     "start_time": "2020-04-20T12:53:18.480817Z"
    }
   },
   "outputs": [],
   "source": [
    "FreeEnergy = { fl: freeEs[:,genFilter[fl]].flatten() for fl in genFilter }"
   ]
  },
  {
   "cell_type": "code",
   "execution_count": 23,
   "metadata": {
    "ExecuteTime": {
     "end_time": "2020-04-20T12:56:11.300390Z",
     "start_time": "2020-04-20T12:56:11.297727Z"
    }
   },
   "outputs": [],
   "source": [
    "# %%time  # 1h 10mins\n",
    "# NrndGenome = int(1e8)\n",
    "\n",
    "# rndFreeEs = OrderedDict()\n",
    "# for fl in baseFrac:\n",
    "#     np.random.seed(0)\n",
    "#     rndGenome = np.random.choice(range(4), size=NrndGenome, p=baseFrac[fl])\n",
    "#     rndSeq = np.array([\n",
    "#             np.hstack([rndGenome[-genOffset:],rndGenome      ]),\n",
    "#           3-np.hstack([rndGenome,rndGenome[: genOffset]])[::-1],\n",
    "#         ], dtype=np.int8)\n",
    "#     bricks = getBrickDict({treatAs: rndSeq}, theModel)[treatAs]\n",
    "#     rndFreeEs[fl] = -logsumexp(-bricks, axis=-1).flatten()"
   ]
  },
  {
   "cell_type": "code",
   "execution_count": 21,
   "metadata": {
    "ExecuteTime": {
     "end_time": "2020-04-20T13:06:04.111422Z",
     "start_time": "2020-04-20T13:06:04.106925Z"
    }
   },
   "outputs": [
    {
     "ename": "NameError",
     "evalue": "name 'rndFreeEs' is not defined",
     "output_type": "error",
     "traceback": [
      "\u001b[1;31m---------------------------------------------------------------------------\u001b[0m",
      "\u001b[1;31mNameError\u001b[0m                                 Traceback (most recent call last)",
      "Cell \u001b[1;32mIn[21], line 1\u001b[0m\n\u001b[1;32m----> 1\u001b[0m {fl:\u001b[43mrndFreeEs\u001b[49m[fl]\u001b[38;5;241m.\u001b[39msize\u001b[38;5;241m/\u001b[39mFreeEnergy[fl]\u001b[38;5;241m.\u001b[39msize \u001b[38;5;28;01mfor\u001b[39;00m fl \u001b[38;5;129;01min\u001b[39;00m genFilter}\n",
      "\u001b[1;31mNameError\u001b[0m: name 'rndFreeEs' is not defined"
     ]
    }
   ],
   "source": [
    "{fl:rndFreeEs[fl].size/FreeEnergy[fl].size for fl in genFilter}"
   ]
  },
  {
   "cell_type": "code",
   "execution_count": 124,
   "metadata": {
    "ExecuteTime": {
     "end_time": "2020-04-16T16:28:05.467198Z",
     "start_time": "2020-04-16T16:28:05.464767Z"
    }
   },
   "outputs": [],
   "source": [
    "# with open(\"nbdumps/random_genome_free_energies.dmp\",\"wb\") as f:\n",
    "#     pickle.dump(rndFreeEs,f)"
   ]
  },
  {
   "cell_type": "code",
   "execution_count": 22,
   "metadata": {
    "ExecuteTime": {
     "end_time": "2020-04-20T12:57:16.473518Z",
     "start_time": "2020-04-20T12:57:14.391795Z"
    }
   },
   "outputs": [
    {
     "ename": "FileNotFoundError",
     "evalue": "[Errno 2] No such file or directory: 'nbdumps/random_genome_free_energies.dmp'",
     "output_type": "error",
     "traceback": [
      "\u001b[1;31m---------------------------------------------------------------------------\u001b[0m",
      "\u001b[1;31mFileNotFoundError\u001b[0m                         Traceback (most recent call last)",
      "Cell \u001b[1;32mIn[22], line 1\u001b[0m\n\u001b[1;32m----> 1\u001b[0m \u001b[38;5;28;01mwith\u001b[39;00m \u001b[38;5;28;43mopen\u001b[39;49m\u001b[43m(\u001b[49m\u001b[38;5;124;43m\"\u001b[39;49m\u001b[38;5;124;43mnbdumps/random_genome_free_energies.dmp\u001b[39;49m\u001b[38;5;124;43m\"\u001b[39;49m\u001b[43m,\u001b[49m\u001b[38;5;124;43m\"\u001b[39;49m\u001b[38;5;124;43mrb\u001b[39;49m\u001b[38;5;124;43m\"\u001b[39;49m\u001b[43m)\u001b[49m \u001b[38;5;28;01mas\u001b[39;00m f:\n\u001b[0;32m      2\u001b[0m     rndFreeEs \u001b[38;5;241m=\u001b[39m pickle\u001b[38;5;241m.\u001b[39mload(f)\n",
      "File \u001b[1;32m~\\AppData\\Roaming\\Python\\Python312\\site-packages\\IPython\\core\\interactiveshell.py:324\u001b[0m, in \u001b[0;36m_modified_open\u001b[1;34m(file, *args, **kwargs)\u001b[0m\n\u001b[0;32m    317\u001b[0m \u001b[38;5;28;01mif\u001b[39;00m file \u001b[38;5;129;01min\u001b[39;00m {\u001b[38;5;241m0\u001b[39m, \u001b[38;5;241m1\u001b[39m, \u001b[38;5;241m2\u001b[39m}:\n\u001b[0;32m    318\u001b[0m     \u001b[38;5;28;01mraise\u001b[39;00m \u001b[38;5;167;01mValueError\u001b[39;00m(\n\u001b[0;32m    319\u001b[0m         \u001b[38;5;124mf\u001b[39m\u001b[38;5;124m\"\u001b[39m\u001b[38;5;124mIPython won\u001b[39m\u001b[38;5;124m'\u001b[39m\u001b[38;5;124mt let you open fd=\u001b[39m\u001b[38;5;132;01m{\u001b[39;00mfile\u001b[38;5;132;01m}\u001b[39;00m\u001b[38;5;124m by default \u001b[39m\u001b[38;5;124m\"\u001b[39m\n\u001b[0;32m    320\u001b[0m         \u001b[38;5;124m\"\u001b[39m\u001b[38;5;124mas it is likely to crash IPython. If you know what you are doing, \u001b[39m\u001b[38;5;124m\"\u001b[39m\n\u001b[0;32m    321\u001b[0m         \u001b[38;5;124m\"\u001b[39m\u001b[38;5;124myou can use builtins\u001b[39m\u001b[38;5;124m'\u001b[39m\u001b[38;5;124m open.\u001b[39m\u001b[38;5;124m\"\u001b[39m\n\u001b[0;32m    322\u001b[0m     )\n\u001b[1;32m--> 324\u001b[0m \u001b[38;5;28;01mreturn\u001b[39;00m \u001b[43mio_open\u001b[49m\u001b[43m(\u001b[49m\u001b[43mfile\u001b[49m\u001b[43m,\u001b[49m\u001b[43m \u001b[49m\u001b[38;5;241;43m*\u001b[39;49m\u001b[43margs\u001b[49m\u001b[43m,\u001b[49m\u001b[43m \u001b[49m\u001b[38;5;241;43m*\u001b[39;49m\u001b[38;5;241;43m*\u001b[39;49m\u001b[43mkwargs\u001b[49m\u001b[43m)\u001b[49m\n",
      "\u001b[1;31mFileNotFoundError\u001b[0m: [Errno 2] No such file or directory: 'nbdumps/random_genome_free_energies.dmp'"
     ]
    }
   ],
   "source": [
    "with open(\"../nbdumps/random_genome_free_energies.dmp\",\"rb\") as f:\n",
    "    rndFreeEs = pickle.load(f)"
   ]
  },
  {
   "cell_type": "code",
   "execution_count": 23,
   "metadata": {
    "ExecuteTime": {
     "end_time": "2020-04-20T12:57:17.276537Z",
     "start_time": "2020-04-20T12:57:17.251827Z"
    }
   },
   "outputs": [],
   "source": [
    "db = .2\n",
    "bbs = np.arange(freeEs.min()-1, freeEs.min()+20, db)\n",
    "bbs -= db/2"
   ]
  },
  {
   "cell_type": "code",
   "execution_count": 24,
   "metadata": {
    "ExecuteTime": {
     "end_time": "2020-04-20T12:57:17.902972Z",
     "start_time": "2020-04-20T12:57:17.900180Z"
    }
   },
   "outputs": [],
   "source": [
    "binCenters = (bbs[:-1]+bbs[1:])/2"
   ]
  },
  {
   "cell_type": "code",
   "execution_count": 25,
   "metadata": {
    "ExecuteTime": {
     "end_time": "2020-04-20T12:58:38.802975Z",
     "start_time": "2020-04-20T12:57:18.098508Z"
    }
   },
   "outputs": [
    {
     "ename": "NameError",
     "evalue": "name 'rndFreeEs' is not defined",
     "output_type": "error",
     "traceback": [
      "\u001b[1;31m---------------------------------------------------------------------------\u001b[0m",
      "\u001b[1;31mNameError\u001b[0m                                 Traceback (most recent call last)",
      "Cell \u001b[1;32mIn[25], line 1\u001b[0m\n\u001b[1;32m----> 1\u001b[0m rndCdf \u001b[38;5;241m=\u001b[39m {fl: [(\u001b[43mrndFreeEs\u001b[49m[fl]\u001b[38;5;241m<\u001b[39ml)\u001b[38;5;241m.\u001b[39msum()\u001b[38;5;241m/\u001b[39mrndFreeEs[fl]\u001b[38;5;241m.\u001b[39msize \u001b[38;5;28;01mfor\u001b[39;00m l \u001b[38;5;129;01min\u001b[39;00m bbs[\u001b[38;5;241m1\u001b[39m:]] \u001b[38;5;28;01mfor\u001b[39;00m fl \u001b[38;5;129;01min\u001b[39;00m genFilter}\n",
      "\u001b[1;31mNameError\u001b[0m: name 'rndFreeEs' is not defined"
     ]
    }
   ],
   "source": [
    "rndCdf = {fl: [(rndFreeEs[fl]<l).sum()/rndFreeEs[fl].size for l in bbs[1:]] for fl in genFilter}"
   ]
  },
  {
   "cell_type": "code",
   "execution_count": 26,
   "metadata": {
    "ExecuteTime": {
     "end_time": "2020-04-20T12:58:40.580651Z",
     "start_time": "2020-04-20T12:58:38.804780Z"
    }
   },
   "outputs": [],
   "source": [
    "realCumulHist = {fl: np.array([(FreeEnergy[fl]<l).sum() for l in bbs[1:]]) for fl in genFilter}"
   ]
  },
  {
   "cell_type": "code",
   "execution_count": 27,
   "metadata": {
    "ExecuteTime": {
     "end_time": "2020-04-20T12:58:40.585122Z",
     "start_time": "2020-04-20T12:58:40.582236Z"
    }
   },
   "outputs": [
    {
     "ename": "NameError",
     "evalue": "name 'rndCdf' is not defined",
     "output_type": "error",
     "traceback": [
      "\u001b[1;31m---------------------------------------------------------------------------\u001b[0m",
      "\u001b[1;31mNameError\u001b[0m                                 Traceback (most recent call last)",
      "Cell \u001b[1;32mIn[27], line 1\u001b[0m\n\u001b[1;32m----> 1\u001b[0m rndCumulHist \u001b[38;5;241m=\u001b[39m {fl: np\u001b[38;5;241m.\u001b[39marray(\u001b[43mrndCdf\u001b[49m[fl])\u001b[38;5;241m*\u001b[39mFreeEnergy[fl]\u001b[38;5;241m.\u001b[39msize \u001b[38;5;28;01mfor\u001b[39;00m fl \u001b[38;5;129;01min\u001b[39;00m genFilter}\n",
      "\u001b[1;31mNameError\u001b[0m: name 'rndCdf' is not defined"
     ]
    }
   ],
   "source": [
    "rndCumulHist = {fl: np.array(rndCdf[fl])*FreeEnergy[fl].size for fl in genFilter}"
   ]
  },
  {
   "cell_type": "code",
   "execution_count": 28,
   "metadata": {
    "ExecuteTime": {
     "end_time": "2020-04-20T13:04:41.697874Z",
     "start_time": "2020-04-20T13:04:41.688842Z"
    }
   },
   "outputs": [],
   "source": [
    "offset = freeEs.min()"
   ]
  },
  {
   "cell_type": "code",
   "execution_count": 29,
   "metadata": {
    "ExecuteTime": {
     "end_time": "2020-04-20T13:04:44.185568Z",
     "start_time": "2020-04-20T13:04:44.182933Z"
    }
   },
   "outputs": [],
   "source": [
    "x = binCenters-offset"
   ]
  },
  {
   "cell_type": "code",
   "execution_count": 31,
   "metadata": {
    "ExecuteTime": {
     "end_time": "2020-04-20T13:04:52.124110Z",
     "start_time": "2020-04-20T13:04:52.121673Z"
    }
   },
   "outputs": [],
   "source": [
    "CI = .95"
   ]
  },
  {
   "cell_type": "code",
   "execution_count": 32,
   "metadata": {
    "ExecuteTime": {
     "end_time": "2020-04-20T13:04:58.425964Z",
     "start_time": "2020-04-20T13:04:57.706579Z"
    }
   },
   "outputs": [
    {
     "ename": "NameError",
     "evalue": "name 'rndCumulHist' is not defined",
     "output_type": "error",
     "traceback": [
      "\u001b[1;31m---------------------------------------------------------------------------\u001b[0m",
      "\u001b[1;31mNameError\u001b[0m                                 Traceback (most recent call last)",
      "Cell \u001b[1;32mIn[32], line 7\u001b[0m\n\u001b[0;32m      5\u001b[0m     ax\u001b[38;5;241m.\u001b[39mstep(x, realCumulHist[fl], where\u001b[38;5;241m=\u001b[39m\u001b[38;5;124m\"\u001b[39m\u001b[38;5;124mmid\u001b[39m\u001b[38;5;124m\"\u001b[39m, color\u001b[38;5;241m=\u001b[39m\u001b[38;5;124m\"\u001b[39m\u001b[38;5;124mdarkred\u001b[39m\u001b[38;5;124m\"\u001b[39m)\n\u001b[0;32m      6\u001b[0m \u001b[38;5;66;03m#     ax.step(x, rndCumulHist[fl], where=\"mid\")\u001b[39;00m\n\u001b[1;32m----> 7\u001b[0m     ax\u001b[38;5;241m.\u001b[39mplot(x, \u001b[43mrndCumulHist\u001b[49m[fl], color\u001b[38;5;241m=\u001b[39m\u001b[38;5;124m\"\u001b[39m\u001b[38;5;124mk\u001b[39m\u001b[38;5;124m\"\u001b[39m)\n\u001b[0;32m      8\u001b[0m \u001b[38;5;66;03m#     ax.plot(x, )\u001b[39;00m\n\u001b[0;32m     11\u001b[0m     ax\u001b[38;5;241m.\u001b[39mfill_between(x,\n\u001b[0;32m     12\u001b[0m                     dst\u001b[38;5;241m.\u001b[39mpoisson\u001b[38;5;241m.\u001b[39mppf(\u001b[38;5;241m1\u001b[39m\u001b[38;5;241m-\u001b[39m(\u001b[38;5;241m1\u001b[39m\u001b[38;5;241m-\u001b[39mCI)\u001b[38;5;241m/\u001b[39m\u001b[38;5;241m2\u001b[39m,mu\u001b[38;5;241m=\u001b[39mrndCumulHist[fl]),\n\u001b[0;32m     13\u001b[0m                     dst\u001b[38;5;241m.\u001b[39mpoisson\u001b[38;5;241m.\u001b[39mppf((\u001b[38;5;241m1\u001b[39m\u001b[38;5;241m-\u001b[39mCI)\u001b[38;5;241m/\u001b[39m\u001b[38;5;241m2\u001b[39m,mu\u001b[38;5;241m=\u001b[39mrndCumulHist[fl]), \n\u001b[0;32m     14\u001b[0m                     color\u001b[38;5;241m=\u001b[39m\u001b[38;5;124m\"\u001b[39m\u001b[38;5;124mlightgrey\u001b[39m\u001b[38;5;124m\"\u001b[39m\n\u001b[0;32m     15\u001b[0m                    )\n",
      "\u001b[1;31mNameError\u001b[0m: name 'rndCumulHist' is not defined"
     ]
    },
    {
     "data": {
      "image/png": "[encoded data removed]",
      "text/plain": [
       "<Figure size 1000x400 with 2 Axes>"
      ]
     },
     "metadata": {
      "image/png": {
       "height": 373,
       "width": 868
      }
     },
     "output_type": "display_data"
    }
   ],
   "source": [
    "fig, axs = plt.subplots(1,2,figsize=(10,4), sharey=True)\n",
    "for ax,fl in zip(axs, genFilter):\n",
    "    ax.text(.02,.9, f\"{fl}, [gc]={baseFrac[fl][1:3].sum():.2f}\", transform=ax.transAxes)\n",
    "    ax.set_title(\"intergenic\" if fl==\"outside\" else \"intragenic\")\n",
    "    ax.step(x, realCumulHist[fl], where=\"mid\", color=\"darkred\")\n",
    "#     ax.step(x, rndCumulHist[fl], where=\"mid\")\n",
    "    ax.plot(x, rndCumulHist[fl], color=\"k\")\n",
    "#     ax.plot(x, )\n",
    "    \n",
    "    \n",
    "    ax.fill_between(x,\n",
    "                    dst.poisson.ppf(1-(1-CI)/2,mu=rndCumulHist[fl]),\n",
    "                    dst.poisson.ppf((1-CI)/2,mu=rndCumulHist[fl]), \n",
    "                    color=\"lightgrey\"\n",
    "                   )\n",
    "    ax.set_yscale(\"log\")\n",
    "    ax.set_xlim(-.1,)\n",
    "plt.ylim(.3,)"
   ]
  },
  {
   "cell_type": "code",
   "execution_count": null,
   "metadata": {},
   "outputs": [],
   "source": []
  },
  {
   "cell_type": "code",
   "execution_count": 33,
   "metadata": {
    "code_folding": [
     0
    ]
   },
   "outputs": [
    {
     "name": "stderr",
     "output_type": "stream",
     "text": [
      "<>:52: SyntaxWarning: invalid escape sequence '\\l'\n",
      "<>:55: SyntaxWarning: invalid escape sequence '\\D'\n",
      "<>:52: SyntaxWarning: invalid escape sequence '\\l'\n",
      "<>:55: SyntaxWarning: invalid escape sequence '\\D'\n",
      "C:\\Users\\drago\\AppData\\Local\\Temp\\ipykernel_34956\\1115275757.py:52: SyntaxWarning: invalid escape sequence '\\l'\n",
      "  axs[0,0].set_ylabel(\"number of bindings $\\leq \\Delta E$\")\n",
      "C:\\Users\\drago\\AppData\\Local\\Temp\\ipykernel_34956\\1115275757.py:55: SyntaxWarning: invalid escape sequence '\\D'\n",
      "  ax.set_xlabel(\"b.s. free energy $\\Delta E$\")\n",
      "C:\\Users\\drago\\AppData\\Local\\Temp\\ipykernel_34956\\1115275757.py:52: SyntaxWarning: invalid escape sequence '\\l'\n",
      "  axs[0,0].set_ylabel(\"number of bindings $\\leq \\Delta E$\")\n",
      "C:\\Users\\drago\\AppData\\Local\\Temp\\ipykernel_34956\\1115275757.py:55: SyntaxWarning: invalid escape sequence '\\D'\n",
      "  ax.set_xlabel(\"b.s. free energy $\\Delta E$\")\n"
     ]
    },
    {
     "ename": "NameError",
     "evalue": "name 'freeEbinCenters' is not defined",
     "output_type": "error",
     "traceback": [
      "\u001b[1;31m---------------------------------------------------------------------------\u001b[0m",
      "\u001b[1;31mNameError\u001b[0m                                 Traceback (most recent call last)",
      "Cell \u001b[1;32mIn[33], line 7\u001b[0m\n\u001b[0;32m      5\u001b[0m fitID \u001b[38;5;241m=\u001b[39m \u001b[38;5;124m'\u001b[39m\u001b[38;5;124mfull\u001b[39m\u001b[38;5;124m'\u001b[39m\u001b[38;5;66;03m#'full-CR-rc'\u001b[39;00m\n\u001b[0;32m      6\u001b[0m dinu \u001b[38;5;241m=\u001b[39m \u001b[38;5;241m1\u001b[39m\n\u001b[1;32m----> 7\u001b[0m x \u001b[38;5;241m=\u001b[39m \u001b[43mfreeEbinCenters\u001b[49m[:\u001b[38;5;28mlen\u001b[39m(freeEbinCenters)\u001b[38;5;241m/\u001b[39m\u001b[38;5;241m/\u001b[39mNreBin\u001b[38;5;241m*\u001b[39mNreBin]\u001b[38;5;241m.\u001b[39mreshape((\u001b[38;5;241m-\u001b[39m\u001b[38;5;241m1\u001b[39m,NreBin))\u001b[38;5;241m.\u001b[39mmean(\u001b[38;5;241m1\u001b[39m)\n\u001b[0;32m      8\u001b[0m dx \u001b[38;5;241m=\u001b[39m x[\u001b[38;5;241m1\u001b[39m]\u001b[38;5;241m-\u001b[39mx[\u001b[38;5;241m0\u001b[39m]\n\u001b[0;32m      9\u001b[0m ixmax \u001b[38;5;241m=\u001b[39m np\u001b[38;5;241m.\u001b[39mwhere(x\u001b[38;5;241m>\u001b[39m\u001b[38;5;241m=\u001b[39mfreeE[fitID]\u001b[38;5;241m.\u001b[39mmin())[\u001b[38;5;241m0\u001b[39m][\u001b[38;5;241m0\u001b[39m]\n",
      "\u001b[1;31mNameError\u001b[0m: name 'freeEbinCenters' is not defined"
     ]
    },
    {
     "data": {
      "image/png": "[encoded data removed]",
      "text/plain": [
       "<Figure size 700x450 with 4 Axes>"
      ]
     },
     "metadata": {
      "image/png": {
       "height": 395,
       "width": 614
      }
     },
     "output_type": "display_data"
    }
   ],
   "source": [
    "# full_dn panel with cumm p-value\n",
    "NreBin = 1\n",
    "Nsigma = 2\n",
    "fig,axs = plt.subplots(2,2,figsize=(7,4.5), gridspec_kw={\"height_ratios\":[3,1.8]}, sharex=True, sharey=\"row\")\n",
    "fitID = 'full'#'full-CR-rc'\n",
    "dinu = 1\n",
    "x = freeEbinCenters[:len(freeEbinCenters)//NreBin*NreBin].reshape((-1,NreBin)).mean(1)\n",
    "dx = x[1]-x[0]\n",
    "ixmax = np.where(x>=freeE[fitID].min())[0][0]\n",
    "xoffset = x[ixmax]\n",
    "x = x-xoffset+dx/2\n",
    "for axx,fl in zip([axs.T[0],axs.T[1]],[\"outside\", \"within\"]):\n",
    "    Yshow = pd.DataFrame({\"x\":x})\n",
    "    for yht in [\"YH\", \"YHreal\"]:\n",
    "        Yshow[(\"real\" if \"real\" in yht else \"rnd\")] = eval(yht+\"['\"+fitID+\"_\"+fl+\"_dn\"*dinu+\"']\")\n",
    "    for k in [\"real\",\"rnd\"]:\n",
    "        Yshow[k+\"_p\"] = np.cumsum(Yshow[k])/Yshow[k].sum()\n",
    "        Yshow[k+\"_p_err\"] = (Yshow[k+\"_p\"]*(1-Yshow[k+\"_p\"])/Yshow[k].sum())**.5\n",
    "    yexp = Yshow[\"rnd_p\"]*Yshow[\"real\"].sum()\n",
    "    axx[0].set_title(\"intergenic\" if fl==\"outside\" else \"intragenic\")\n",
    "    axx[0].step(Yshow[\"x\"],yexp.values,where=\"mid\",c=\"k\",\n",
    "                    label=r\"expected ($\\pm %i\\sigma$)\"%Nsigma)\n",
    "    axx[0].fill_between(\n",
    "        np.array([Yshow[\"x\"]-dx/2,Yshow[\"x\"]+dx/2]).T.flatten(),\n",
    "        np.array([yexp.values+Nsigma*yexp**.5]*2).T.flatten(),\n",
    "        np.array([yexp.values-Nsigma*yexp**.5]*2).T.flatten(),\n",
    "        alpha = .3,color=\"grey\"\n",
    "                       )\n",
    "    axx[0].step(Yshow[\"x\"],np.cumsum(Yshow[\"real\"]),where=\"mid\",c=\"darkred\",label=\"observed\")\n",
    "    yexpErr = yexp**.5\n",
    "    zscore = (np.cumsum(Yshow[\"real\"])-yexp)/yexpErr\n",
    "    log10pvs = np.maximum(dst.norm.logcdf(zscore)/np.log(10),-1000)\n",
    "    axx[1].step(Yshow[\"x\"],log10pvs,where=\"mid\",color=c)\n",
    "    for resc in [1]:\n",
    "        tmp = Yshow.query(\"x>%f\"%((measurableFreeE-xoffset)*resc)).iloc[0]\n",
    "        twoNS = np.log(tmp[\"real_p\"]/tmp[\"rnd_p\"])\n",
    "        twoNSerr = np.sqrt(tmp[\"real_p_err\"]**2/tmp[\"real_p\"]**2 + tmp[\"rnd_p_err\"]**2/tmp[\"rnd_p\"]**2)\n",
    "        twoNSz = twoNS/twoNSerr\n",
    "        pv = np.maximum(dst.norm.logcdf(twoNSz)/np.log(10),-100)\n",
    "        print (\"%20s \\t %.5f %.5f %3.1e\"%(fl, twoNS, twoNSerr,10**pv))\n",
    "    print ('='*30)\n",
    "\n",
    "for ax in axs.flat: ax.axvline(measurableFreeE-xoffset,color=\"grey\",ls=\"--\",lw=.7)\n",
    "for ax in axs[0]:\n",
    "    ax.set_yscale(\"log\")\n",
    "    ax.set_xlim(-.02,16)\n",
    "    ax.set_ylim(.8,3e5)\n",
    "for ax in axs[1]:\n",
    "    ax.set_yscale(\"symlog\")\n",
    "    ax.set_ylim(-110,-.2)\n",
    "\n",
    "axs[0,0].set_ylabel(\"number of bindings $\\leq \\Delta E$\")\n",
    "axs[0,0].legend(loc=4)\n",
    "for ax in axs[1]:\n",
    "    ax.set_xlabel(\"b.s. free energy $\\Delta E$\")\n",
    "    ax.yaxis.set_minor_locator(MinorSymLogLocator(1))\n",
    "    ax.grid(which=\"both\",lw=.4,axis=\"y\")\n",
    "ax = plt.subplot(axs[1,0])\n",
    "yt = list(plt.yticks()[0].astype(int))[:-1]\n",
    "plt.yticks(yt,yt)\n",
    "ax.set_ylabel(r\"$\\log _{10}$ p-value\"+\"\\nfor \"+r\"$s<0$\")\n",
    "# ax.set_ylabel(r\"$p$-value\"+\"\\nfor \"+r\"$s<0$\")\n",
    "plt.subplots_adjust(hspace=0.01,wspace=0.1)\n",
    "# fig.tight_layout()\n",
    "# fig.savefig(\"figures/CDF_free_energy.pdf\")\n",
    "# fig.savefig(\"figures/CDF_free_energy.eps\")"
   ]
  },
  {
   "cell_type": "code",
   "execution_count": null,
   "metadata": {},
   "outputs": [],
   "source": []
  }
 ],
 "metadata": {
  "kernelspec": {
   "display_name": "Python 3",
   "language": "python",
   "name": "python3"
  },
  "language_info": {
   "codemirror_mode": {
    "name": "ipython",
    "version": 3
   },
   "file_extension": ".py",
   "mimetype": "text/x-python",
   "name": "python",
   "nbconvert_exporter": "python",
   "pygments_lexer": "ipython3",
   "version": "3.12.3"
  },
  "toc": {
   "base_numbering": 1,
   "nav_menu": {},
   "number_sections": true,
   "sideBar": true,
   "skip_h1_title": false,
   "title_cell": "Table of Contents",
   "title_sidebar": "Contents",
   "toc_cell": false,
   "toc_position": {},
   "toc_section_display": true,
   "toc_window_display": false
  }
 },
 "nbformat": 4,
 "nbformat_minor": 4
}
