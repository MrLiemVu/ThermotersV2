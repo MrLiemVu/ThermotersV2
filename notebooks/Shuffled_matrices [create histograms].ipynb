{
 "cells": [
  {
   "cell_type": "markdown",
   "metadata": {},
   "source": [
    "## Imports and definitions"
   ]
  },
  {
   "cell_type": "code",
   "execution_count": 24,
   "metadata": {
    "ExecuteTime": {
     "end_time": "2020-04-20T12:23:11.145629Z",
     "start_time": "2020-04-20T12:23:08.664070Z"
    }
   },
   "outputs": [],
   "source": [
    "# Python Modules\n",
    "import os\n",
    "from sys import path as syspath\n",
    "syspath.append(\"../\")\n",
    "\n",
    "from collections import OrderedDict\n",
    "from collections.abc import Mapping\n",
    "import pickle as pkl\n",
    "import copy\n",
    "\n",
    "# Data Modules\n",
    "import numpy as np\n",
    "import pandas as pd\n",
    "from scipy.special import logsumexp\n",
    "\n",
    "# Util Modules\n",
    "from util.model_functions import getBrickDict\n",
    "\n",
    "# Bio Modules\n",
    "from Bio import SeqIO\n",
    "\n",
    "# Plotting Modules\n",
    "import matplotlib.pyplot as plt\n",
    "%config InlineBackend.figure_format = 'retina'"
   ]
  },
  {
   "cell_type": "code",
   "execution_count": null,
   "metadata": {},
   "outputs": [],
   "source": [
    "# Definitions\n",
    "genome = SeqIO.read(\"../data/Ecoli/NC_000913.gbk\", \"genbank\")\n",
    "bases = 'acgt'\n",
    "lett_to_index = dict(zip(bases,range(4)))"
   ]
  },
  {
   "cell_type": "code",
   "execution_count": 2,
   "metadata": {
    "ExecuteTime": {
     "end_time": "2020-04-20T12:23:12.221071Z",
     "start_time": "2020-04-20T12:23:11.147221Z"
    },
    "code_folding": [
     0
    ]
   },
   "outputs": [],
   "source": [
    "# assign position identities (inside == intragenic, outside == intergenic)\n",
    "fttypes = set([ft.type for ft in genome.features])\n",
    "genomeFlags = OrderedDict([])\n",
    "take = OrderedDict([])\n",
    "for fttype in fttypes:\n",
    "    # print (fttype)\n",
    "    take[fttype] = [ft for ft in genome.features if ft.type==fttype]\n",
    "    nparts = [len(ft.location.parts) for ft in take[fttype]]\n",
    "    # assert all parts within features are on the same strand\n",
    "    for ft in take[fttype]:\n",
    "        pts = ft.location.parts\n",
    "        assert np.all([pt.strand==pts[0].strand for pt in pts])\n",
    "    locs = [pt for ft in take[fttype] for pt in ft.location.parts]\n",
    "    x = np.zeros((2,len(genome)))\n",
    "    for il,lc in enumerate(locs):\n",
    "        k = int(lc.strand<0)\n",
    "        # assert lc.start == lc.nofuzzy_start\n",
    "        # assert lc.end   == lc.nofuzzy_end\n",
    "        x[k,lc.start:lc.end] = 1\n",
    "    genomeFlags[fttype] = x\n",
    "\n",
    "\n",
    "genFilter = OrderedDict([\n",
    "    (\"within\", np.vstack([genomeFlags[k] for k in [\n",
    "                        \"misc_feature\",\n",
    "                        # \"mobile_element\",\n",
    "                        # \"repeat_region\",\n",
    "                        # \"rep_origin\",\n",
    "                        # \"tRNA\",\n",
    "                        # \"STS\",\n",
    "                        # \"tmRNA\",\n",
    "                        # \"source\"\n",
    "                        # \"rRNA\",\n",
    "                        # \"ncRNA\",\n",
    "                        \"CDS\",\n",
    "                        \"gene\",\n",
    "                    ]]).sum(axis=0)>0),\n",
    "    (\"outside\", np.vstack([genomeFlags[k] for k in [\n",
    "                        \"misc_feature\",\n",
    "                        \"mobile_element\",\n",
    "                        \"repeat_region\",\n",
    "                        # \"rep_origin\",\n",
    "                        \"tRNA\",\n",
    "                        \"STS\",\n",
    "                        \"tmRNA\",\n",
    "                        # \"source\"\n",
    "                        \"rRNA\",\n",
    "                        \"CDS\",\n",
    "                        \"gene\",\n",
    "                        \"ncRNA\",\n",
    "                    ]]).sum(axis=0)==0),\n",
    "    ])\n"
   ]
  },
  {
   "cell_type": "markdown",
   "metadata": {},
   "source": [
    "## import model and transform sequence into numbers"
   ]
  },
  {
   "cell_type": "code",
   "execution_count": 3,
   "metadata": {
    "ExecuteTime": {
     "end_time": "2020-04-20T12:23:12.408158Z",
     "start_time": "2020-04-20T12:23:12.222770Z"
    }
   },
   "outputs": [
    {
     "name": "stderr",
     "output_type": "stream",
     "text": [
      "C:\\Users\\drago\\AppData\\Roaming\\Python\\Python312\\site-packages\\sklearn\\base.py:376: InconsistentVersionWarning: Trying to unpickle estimator LogisticRegression from version 0.22.1 when using version 1.4.2. This might lead to breaking code or invalid results. Use at your own risk. For more info please refer to:\n",
      "https://scikit-learn.org/stable/model_persistence.html#security-maintainability-limitations\n",
      "  warnings.warn(\n"
     ]
    }
   ],
   "source": [
    "# import model\n",
    "with open(\"../models/fitted_on_Pr.Pl.36N/model_[5]_extended\", \"rb\") as f:\n",
    "    theModel = pkl.load(f)"
   ]
  },
  {
   "cell_type": "code",
   "execution_count": 4,
   "metadata": {
    "ExecuteTime": {
     "end_time": "2020-04-20T12:23:12.412099Z",
     "start_time": "2020-04-20T12:23:12.409583Z"
    }
   },
   "outputs": [],
   "source": [
    "# treat sequences as if they come from 36N library\n",
    "# (essentially, only affects which chemical potential is used)\n",
    "treatAs = \"36N\""
   ]
  },
  {
   "cell_type": "code",
   "execution_count": 5,
   "metadata": {
    "ExecuteTime": {
     "end_time": "2020-04-20T12:23:12.456106Z",
     "start_time": "2020-04-20T12:23:12.413340Z"
    }
   },
   "outputs": [],
   "source": [
    "# we are not interested to model how rc binding interferes with frw.\n",
    "# but are using the rc strand as an independent strand.\n",
    "# so, we can turn off the rc flag in the model\n",
    "theModel[\"includeRC\"] = False"
   ]
  },
  {
   "cell_type": "code",
   "execution_count": 11,
   "metadata": {
    "ExecuteTime": {
     "end_time": "2020-04-20T12:23:13.796656Z",
     "start_time": "2020-04-20T12:23:12.457148Z"
    }
   },
   "outputs": [],
   "source": [
    "# transform base pairs into indices\n",
    "# offset is to get the same dimensionality of freeEs like the genome:\n",
    "genOffset = sum(theModel[\"Layout\"]) + theModel[\"spFlex\"] \n",
    "numGen = np.array([lett_to_index[l] for l in genome.seq.lower()], dtype=np.int8)\n",
    "numSeqs = np.array([\n",
    "    np.hstack([numGen[-genOffset:],numGen      ]),\n",
    "  3-np.hstack([numGen      ,numGen[: genOffset]])[::-1],\n",
    "    \n",
    "], dtype=np.int8)\n",
    "\n",
    "assert np.all(numSeqs>=0)"
   ]
  },
  {
   "cell_type": "markdown",
   "metadata": {
    "heading_collapsed": true
   },
   "source": [
    "## without pairwise interactions"
   ]
  },
  {
   "cell_type": "code",
   "execution_count": 7,
   "metadata": {
    "ExecuteTime": {
     "end_time": "2020-04-20T10:03:53.355426Z",
     "start_time": "2020-04-20T10:03:53.353126Z"
    },
    "hidden": true
   },
   "outputs": [],
   "source": [
    "# # without pairwise\n",
    "# bricks = getBrickDict({treatAs: numSeqs}, theModel)[treatAs]\n",
    "# freeEs = -logsumexp(-bricks, axis=-1)\n",
    "# np.save(\"Ecoli/freeE_[5]_without_pwi\",freeEs)\n",
    "# del freeEs, bricks"
   ]
  },
  {
   "cell_type": "code",
   "execution_count": 12,
   "metadata": {
    "ExecuteTime": {
     "end_time": "2020-04-20T10:03:53.553928Z",
     "start_time": "2020-04-20T10:03:53.520308Z"
    },
    "hidden": true
   },
   "outputs": [
    {
     "ename": "FileNotFoundError",
     "evalue": "[Errno 2] No such file or directory: '../data/Ecoli/freeE_[5]_without_pwi.npy'",
     "output_type": "error",
     "traceback": [
      "\u001b[1;31m---------------------------------------------------------------------------\u001b[0m",
      "\u001b[1;31mFileNotFoundError\u001b[0m                         Traceback (most recent call last)",
      "Cell \u001b[1;32mIn[12], line 1\u001b[0m\n\u001b[1;32m----> 1\u001b[0m freeEs \u001b[38;5;241m=\u001b[39m \u001b[43mnp\u001b[49m\u001b[38;5;241;43m.\u001b[39;49m\u001b[43mload\u001b[49m\u001b[43m(\u001b[49m\u001b[38;5;124;43m\"\u001b[39;49m\u001b[38;5;124;43m../data/Ecoli/freeE_[5]_without_pwi.npy\u001b[39;49m\u001b[38;5;124;43m\"\u001b[39;49m\u001b[43m)\u001b[49m\n",
      "File \u001b[1;32mc:\\Python312\\Lib\\site-packages\\numpy\\lib\\npyio.py:427\u001b[0m, in \u001b[0;36mload\u001b[1;34m(file, mmap_mode, allow_pickle, fix_imports, encoding, max_header_size)\u001b[0m\n\u001b[0;32m    425\u001b[0m     own_fid \u001b[38;5;241m=\u001b[39m \u001b[38;5;28;01mFalse\u001b[39;00m\n\u001b[0;32m    426\u001b[0m \u001b[38;5;28;01melse\u001b[39;00m:\n\u001b[1;32m--> 427\u001b[0m     fid \u001b[38;5;241m=\u001b[39m stack\u001b[38;5;241m.\u001b[39menter_context(\u001b[38;5;28;43mopen\u001b[39;49m\u001b[43m(\u001b[49m\u001b[43mos_fspath\u001b[49m\u001b[43m(\u001b[49m\u001b[43mfile\u001b[49m\u001b[43m)\u001b[49m\u001b[43m,\u001b[49m\u001b[43m \u001b[49m\u001b[38;5;124;43m\"\u001b[39;49m\u001b[38;5;124;43mrb\u001b[39;49m\u001b[38;5;124;43m\"\u001b[39;49m\u001b[43m)\u001b[49m)\n\u001b[0;32m    428\u001b[0m     own_fid \u001b[38;5;241m=\u001b[39m \u001b[38;5;28;01mTrue\u001b[39;00m\n\u001b[0;32m    430\u001b[0m \u001b[38;5;66;03m# Code to distinguish from NumPy binary files and pickles.\u001b[39;00m\n",
      "\u001b[1;31mFileNotFoundError\u001b[0m: [Errno 2] No such file or directory: '../data/Ecoli/freeE_[5]_without_pwi.npy'"
     ]
    }
   ],
   "source": [
    "freeEs = np.load(\"../data/Ecoli/freeE_[5]_without_pwi.npy\")"
   ]
  },
  {
   "cell_type": "code",
   "execution_count": 13,
   "metadata": {
    "ExecuteTime": {
     "end_time": "2020-04-20T10:03:55.181496Z",
     "start_time": "2020-04-20T10:03:55.172519Z"
    },
    "hidden": true
   },
   "outputs": [
    {
     "ename": "NameError",
     "evalue": "name 'freeEs' is not defined",
     "output_type": "error",
     "traceback": [
      "\u001b[1;31m---------------------------------------------------------------------------\u001b[0m",
      "\u001b[1;31mNameError\u001b[0m                                 Traceback (most recent call last)",
      "Cell \u001b[1;32mIn[13], line 1\u001b[0m\n\u001b[1;32m----> 1\u001b[0m minimalValue \u001b[38;5;241m=\u001b[39m \u001b[43mfreeEs\u001b[49m\u001b[38;5;241m.\u001b[39mmin() \u001b[38;5;66;03m# different for with and without pwi!\u001b[39;00m\n",
      "\u001b[1;31mNameError\u001b[0m: name 'freeEs' is not defined"
     ]
    }
   ],
   "source": [
    "minimalValue = freeEs.min() # different for with and without pwi!"
   ]
  },
  {
   "cell_type": "code",
   "execution_count": 14,
   "metadata": {
    "ExecuteTime": {
     "end_time": "2020-04-20T10:03:55.342444Z",
     "start_time": "2020-04-20T10:03:55.339381Z"
    },
    "hidden": true
   },
   "outputs": [
    {
     "ename": "NameError",
     "evalue": "name 'minimalValue' is not defined",
     "output_type": "error",
     "traceback": [
      "\u001b[1;31m---------------------------------------------------------------------------\u001b[0m",
      "\u001b[1;31mNameError\u001b[0m                                 Traceback (most recent call last)",
      "Cell \u001b[1;32mIn[14], line 2\u001b[0m\n\u001b[0;32m      1\u001b[0m db \u001b[38;5;241m=\u001b[39m \u001b[38;5;241m.2\u001b[39m\n\u001b[1;32m----> 2\u001b[0m bbs \u001b[38;5;241m=\u001b[39m np\u001b[38;5;241m.\u001b[39marange(\u001b[43mminimalValue\u001b[49m\u001b[38;5;241m-\u001b[39m\u001b[38;5;241m5\u001b[39m, minimalValue\u001b[38;5;241m+\u001b[39m\u001b[38;5;241m30\u001b[39m, db)\n\u001b[0;32m      3\u001b[0m bbs \u001b[38;5;241m-\u001b[39m\u001b[38;5;241m=\u001b[39m db\u001b[38;5;241m/\u001b[39m\u001b[38;5;241m2\u001b[39m\n\u001b[0;32m      5\u001b[0m binCenters \u001b[38;5;241m=\u001b[39m (bbs[:\u001b[38;5;241m-\u001b[39m\u001b[38;5;241m1\u001b[39m]\u001b[38;5;241m+\u001b[39mbbs[\u001b[38;5;241m1\u001b[39m:])\u001b[38;5;241m/\u001b[39m\u001b[38;5;241m2\u001b[39m\n",
      "\u001b[1;31mNameError\u001b[0m: name 'minimalValue' is not defined"
     ]
    }
   ],
   "source": [
    "db = .2\n",
    "bbs = np.arange(minimalValue-5, minimalValue+30, db)\n",
    "bbs -= db/2\n",
    "\n",
    "binCenters = (bbs[:-1]+bbs[1:])/2"
   ]
  },
  {
   "cell_type": "code",
   "execution_count": 15,
   "metadata": {
    "ExecuteTime": {
     "end_time": "2020-04-20T10:03:58.042133Z",
     "start_time": "2020-04-20T10:03:58.038154Z"
    },
    "hidden": true
   },
   "outputs": [],
   "source": [
    "def permuteMatrices(ms_, rndSeed = 1):\n",
    "    leftm, rightm = ms_\n",
    "    n1 = len(leftm)\n",
    "    joined = np.vstack([leftm, rightm])\n",
    "    np.random.seed(rndSeed)\n",
    "    permIndex = np.random.permutation(np.arange(joined.shape[0]))\n",
    "    permM = joined[permIndex]\n",
    "    return permM[:n1], permM[n1:]"
   ]
  },
  {
   "cell_type": "code",
   "execution_count": 20,
   "metadata": {
    "ExecuteTime": {
     "end_time": "2020-04-20T10:03:58.751283Z",
     "start_time": "2020-04-20T10:03:58.748040Z"
    },
    "hidden": true
   },
   "outputs": [
    {
     "ename": "NameError",
     "evalue": "name 'genFilter' is not defined",
     "output_type": "error",
     "traceback": [
      "\u001b[1;31m---------------------------------------------------------------------------\u001b[0m",
      "\u001b[1;31mNameError\u001b[0m                                 Traceback (most recent call last)",
      "Cell \u001b[1;32mIn[20], line 2\u001b[0m\n\u001b[0;32m      1\u001b[0m NrndShuffles \u001b[38;5;241m=\u001b[39m \u001b[38;5;241m100\u001b[39m\n\u001b[1;32m----> 2\u001b[0m rndCumulHist \u001b[38;5;241m=\u001b[39m {fl: np\u001b[38;5;241m.\u001b[39mnan\u001b[38;5;241m*\u001b[39mnp\u001b[38;5;241m.\u001b[39mones((NrndShuffles, \u001b[38;5;28mlen\u001b[39m(binCenters))) \u001b[38;5;28;01mfor\u001b[39;00m fl \u001b[38;5;129;01min\u001b[39;00m \u001b[43mgenFilter\u001b[49m}\n",
      "\u001b[1;31mNameError\u001b[0m: name 'genFilter' is not defined"
     ]
    }
   ],
   "source": [
    "NrndShuffles = 100\n",
    "rndCumulHist = {fl: np.nan*np.ones((NrndShuffles, len(binCenters))) for fl in genFilter}"
   ]
  },
  {
   "cell_type": "code",
   "execution_count": 25,
   "metadata": {
    "ExecuteTime": {
     "end_time": "2020-04-20T11:27:01.808057Z",
     "start_time": "2020-04-20T10:04:01.142458Z"
    },
    "hidden": true
   },
   "outputs": [
    {
     "ename": "NameError",
     "evalue": "name 'bbs' is not defined",
     "output_type": "error",
     "traceback": [
      "\u001b[1;31m---------------------------------------------------------------------------\u001b[0m",
      "\u001b[1;31mNameError\u001b[0m                                 Traceback (most recent call last)",
      "Cell \u001b[1;32mIn[25], line 11\u001b[0m\n\u001b[0;32m      9\u001b[0m rndFreeEnergy \u001b[38;5;241m=\u001b[39m { fl: freeEs[:,genFilter[fl]]\u001b[38;5;241m.\u001b[39mflatten() \u001b[38;5;28;01mfor\u001b[39;00m fl \u001b[38;5;129;01min\u001b[39;00m genFilter }\n\u001b[0;32m     10\u001b[0m \u001b[38;5;28;01mfor\u001b[39;00m fl \u001b[38;5;129;01min\u001b[39;00m genFilter:\n\u001b[1;32m---> 11\u001b[0m     rndCumulHist[fl][iRnd] \u001b[38;5;241m=\u001b[39m [(rndFreeEnergy[fl]\u001b[38;5;241m<\u001b[39ml)\u001b[38;5;241m.\u001b[39msum() \u001b[38;5;28;01mfor\u001b[39;00m l \u001b[38;5;129;01min\u001b[39;00m \u001b[43mbbs\u001b[49m[\u001b[38;5;241m1\u001b[39m:]]\n\u001b[0;32m     12\u001b[0m \u001b[38;5;28;01mif\u001b[39;00m os\u001b[38;5;241m.\u001b[39mpath\u001b[38;5;241m.\u001b[39misfile(\u001b[38;5;124m\"\u001b[39m\u001b[38;5;124mstop.log\u001b[39m\u001b[38;5;124m\"\u001b[39m): \n\u001b[0;32m     13\u001b[0m     \u001b[38;5;28;01mbreak\u001b[39;00m\n",
      "\u001b[1;31mNameError\u001b[0m: name 'bbs' is not defined"
     ]
    }
   ],
   "source": [
    "for iRnd in range(100):\n",
    "    tmpModel = copy.deepcopy(theModel)\n",
    "    tmpModel[\"matrices\"] = permuteMatrices(theModel[\"matrices\"], iRnd)\n",
    "    bricks = getBrickDict({treatAs: numSeqs}, tmpModel,\n",
    "#                           dinucl=True,\n",
    "#                           dinuCoordsAndValues=(dinuDF[\"interaction\"].values, dinuDF[\"value\"].values)\n",
    "                         )[treatAs]\n",
    "    freeEs = -logsumexp(-bricks, axis=-1)\n",
    "    rndFreeEnergy = { fl: freeEs[:,genFilter[fl]].flatten() for fl in genFilter }\n",
    "    for fl in genFilter:\n",
    "        rndCumulHist[fl][iRnd] = [(rndFreeEnergy[fl]<l).sum() for l in bbs[1:]]\n",
    "    if os.path.isfile(\"stop.log\"): \n",
    "        break"
   ]
  },
  {
   "cell_type": "code",
   "execution_count": 18,
   "metadata": {
    "ExecuteTime": {
     "end_time": "2020-04-20T11:27:01.814526Z",
     "start_time": "2020-04-20T11:27:01.810126Z"
    },
    "hidden": true
   },
   "outputs": [
    {
     "ename": "FileNotFoundError",
     "evalue": "[Errno 2] No such file or directory: 'nbdumps/shuffled_matrix_genome_free_energies_without_pw.dmp'",
     "output_type": "error",
     "traceback": [
      "\u001b[1;31m---------------------------------------------------------------------------\u001b[0m",
      "\u001b[1;31mFileNotFoundError\u001b[0m                         Traceback (most recent call last)",
      "Cell \u001b[1;32mIn[18], line 1\u001b[0m\n\u001b[1;32m----> 1\u001b[0m \u001b[38;5;28;01mwith\u001b[39;00m \u001b[38;5;28;43mopen\u001b[39;49m\u001b[43m(\u001b[49m\u001b[38;5;124;43m\"\u001b[39;49m\u001b[38;5;124;43mnbdumps/shuffled_matrix_genome_free_energies_without_pw.dmp\u001b[39;49m\u001b[38;5;124;43m\"\u001b[39;49m\u001b[43m,\u001b[49m\u001b[38;5;124;43m\"\u001b[39;49m\u001b[38;5;124;43mwb\u001b[39;49m\u001b[38;5;124;43m\"\u001b[39;49m\u001b[43m)\u001b[49m \u001b[38;5;28;01mas\u001b[39;00m f:\n\u001b[0;32m      2\u001b[0m     pickle\u001b[38;5;241m.\u001b[39mdump(rndCumulHist,f)\n",
      "File \u001b[1;32m~\\AppData\\Roaming\\Python\\Python312\\site-packages\\IPython\\core\\interactiveshell.py:324\u001b[0m, in \u001b[0;36m_modified_open\u001b[1;34m(file, *args, **kwargs)\u001b[0m\n\u001b[0;32m    317\u001b[0m \u001b[38;5;28;01mif\u001b[39;00m file \u001b[38;5;129;01min\u001b[39;00m {\u001b[38;5;241m0\u001b[39m, \u001b[38;5;241m1\u001b[39m, \u001b[38;5;241m2\u001b[39m}:\n\u001b[0;32m    318\u001b[0m     \u001b[38;5;28;01mraise\u001b[39;00m \u001b[38;5;167;01mValueError\u001b[39;00m(\n\u001b[0;32m    319\u001b[0m         \u001b[38;5;124mf\u001b[39m\u001b[38;5;124m\"\u001b[39m\u001b[38;5;124mIPython won\u001b[39m\u001b[38;5;124m'\u001b[39m\u001b[38;5;124mt let you open fd=\u001b[39m\u001b[38;5;132;01m{\u001b[39;00mfile\u001b[38;5;132;01m}\u001b[39;00m\u001b[38;5;124m by default \u001b[39m\u001b[38;5;124m\"\u001b[39m\n\u001b[0;32m    320\u001b[0m         \u001b[38;5;124m\"\u001b[39m\u001b[38;5;124mas it is likely to crash IPython. If you know what you are doing, \u001b[39m\u001b[38;5;124m\"\u001b[39m\n\u001b[0;32m    321\u001b[0m         \u001b[38;5;124m\"\u001b[39m\u001b[38;5;124myou can use builtins\u001b[39m\u001b[38;5;124m'\u001b[39m\u001b[38;5;124m open.\u001b[39m\u001b[38;5;124m\"\u001b[39m\n\u001b[0;32m    322\u001b[0m     )\n\u001b[1;32m--> 324\u001b[0m \u001b[38;5;28;01mreturn\u001b[39;00m \u001b[43mio_open\u001b[49m\u001b[43m(\u001b[49m\u001b[43mfile\u001b[49m\u001b[43m,\u001b[49m\u001b[43m \u001b[49m\u001b[38;5;241;43m*\u001b[39;49m\u001b[43margs\u001b[49m\u001b[43m,\u001b[49m\u001b[43m \u001b[49m\u001b[38;5;241;43m*\u001b[39;49m\u001b[38;5;241;43m*\u001b[39;49m\u001b[43mkwargs\u001b[49m\u001b[43m)\u001b[49m\n",
      "\u001b[1;31mFileNotFoundError\u001b[0m: [Errno 2] No such file or directory: 'nbdumps/shuffled_matrix_genome_free_energies_without_pw.dmp'"
     ]
    }
   ],
   "source": [
    "with open(\"nbdumps/shuffled_matrix_genome_free_energies_without_pw.dmp\",\"wb\") as f:\n",
    "    pkl.dump(rndCumulHist,f)"
   ]
  },
  {
   "cell_type": "code",
   "execution_count": 30,
   "metadata": {
    "ExecuteTime": {
     "end_time": "2020-04-20T11:34:42.973808Z",
     "start_time": "2020-04-20T11:34:42.971482Z"
    },
    "hidden": true
   },
   "outputs": [],
   "source": [
    "# with open(\"nbdumps/shuffled_matrix_genome_free_energies_without_pw.dmp\",\"rb\") as f:\n",
    "#     saved = pickle.load(f)"
   ]
  },
  {
   "cell_type": "code",
   "execution_count": 31,
   "metadata": {
    "ExecuteTime": {
     "end_time": "2020-04-20T11:34:44.166027Z",
     "start_time": "2020-04-20T11:34:44.163682Z"
    },
    "hidden": true
   },
   "outputs": [],
   "source": [
    "# assert np.abs(saved[fl][iRnd]- rndCumulHist[fl][iRnd]).max()<1e-5"
   ]
  },
  {
   "cell_type": "markdown",
   "metadata": {},
   "source": [
    "## with pairwise interactions"
   ]
  },
  {
   "cell_type": "code",
   "execution_count": 28,
   "metadata": {
    "ExecuteTime": {
     "end_time": "2020-04-20T12:23:20.485336Z",
     "start_time": "2020-04-20T12:23:20.477315Z"
    }
   },
   "outputs": [],
   "source": [
    "dinuDF = pd.read_csv(\"pairwise_interactions.csv\", index_col=0)\n",
    "dinuDF[\"interaction\"] = list(map(eval, dinuDF[\"interaction\"]))"
   ]
  },
  {
   "cell_type": "code",
   "execution_count": 8,
   "metadata": {
    "ExecuteTime": {
     "end_time": "2020-04-20T12:23:20.681515Z",
     "start_time": "2020-04-20T12:23:20.679473Z"
    }
   },
   "outputs": [],
   "source": [
    "# # with pairwise\n",
    "# bricks = getBrickDict({treatAs: numSeqs}, theModel,\n",
    "#                       dinucl=True,\n",
    "#                       dinuCoordsAndValues=(dinuDF[\"interaction\"].values, dinuDF[\"value\"].values)\n",
    "#                      )[treatAs]\n",
    "# freeEs = -logsumexp(-bricks, axis=-1)\n",
    "# # np.save(\"Ecoli/freeE_[5]_with_pwi\",freeEs)\n",
    "# # to free up memory\n",
    "# # del freeEs, bricks"
   ]
  },
  {
   "cell_type": "code",
   "execution_count": 9,
   "metadata": {
    "ExecuteTime": {
     "end_time": "2020-04-20T12:23:23.117351Z",
     "start_time": "2020-04-20T12:23:23.084055Z"
    }
   },
   "outputs": [],
   "source": [
    "freeEs = np.load(\"Ecoli/freeE_[5]_with_pwi.npy\")"
   ]
  },
  {
   "cell_type": "code",
   "execution_count": 10,
   "metadata": {
    "ExecuteTime": {
     "end_time": "2020-04-20T12:23:23.427108Z",
     "start_time": "2020-04-20T12:23:23.418549Z"
    }
   },
   "outputs": [],
   "source": [
    "minimalValue = freeEs.min() # different for with and without pwi!"
   ]
  },
  {
   "cell_type": "code",
   "execution_count": 11,
   "metadata": {
    "ExecuteTime": {
     "end_time": "2020-04-20T12:23:23.903056Z",
     "start_time": "2020-04-20T12:23:23.899893Z"
    }
   },
   "outputs": [],
   "source": [
    "db = .2\n",
    "bbs = np.arange(minimalValue-5, minimalValue+30, db)\n",
    "bbs -= db/2\n",
    "\n",
    "binCenters = (bbs[:-1]+bbs[1:])/2"
   ]
  },
  {
   "cell_type": "markdown",
   "metadata": {
    "ExecuteTime": {
     "end_time": "2020-04-20T12:29:48.132325Z",
     "start_time": "2020-04-20T12:29:48.106092Z"
    }
   },
   "source": [
    "### (reindexed)"
   ]
  },
  {
   "cell_type": "code",
   "execution_count": 12,
   "metadata": {
    "ExecuteTime": {
     "end_time": "2020-04-20T12:23:25.775820Z",
     "start_time": "2020-04-20T12:23:25.768225Z"
    }
   },
   "outputs": [],
   "source": [
    "def permuteMatricesAndInteractions(ms_, interactions_, \n",
    "                                   rndSeed=1, \n",
    "                                   defaultSpacer=8,\n",
    "                                   test=False):\n",
    "    leftm, rightm = ms_\n",
    "    n1 = len(leftm)\n",
    "    n2 = len(rightm)\n",
    "    joined = np.vstack([leftm, rightm])\n",
    "    np.random.seed(rndSeed)\n",
    "    if test:\n",
    "        permIndex = np.arange(joined.shape[0])\n",
    "    else:\n",
    "        permIndex = np.random.permutation(np.arange(joined.shape[0]))\n",
    "    permM = joined[permIndex]\n",
    "    \n",
    "    permIndex[permIndex>=n1]  = permIndex[permIndex>=n1]+defaultSpacer\n",
    "    if test: print (permIndex)\n",
    "    \n",
    "#     interactionPos = np.array(interactions_)[:,[0,2]]\n",
    "    \n",
    "    reindexDict = dict(zip(\n",
    "        list(range(n1))+list(range(n1+defaultSpacer, defaultSpacer+len(joined))),\n",
    "        permIndex\n",
    "                          ))\n",
    "    permInteractions = np.vstack(interactions_)\n",
    "    permInteractions[:,0] = [reindexDict[j] for j in permInteractions[:,0]]\n",
    "    permInteractions[:,2] = [reindexDict[j] for j in permInteractions[:,2]]\n",
    "    return permM[:n1], permM[n1:], permInteractions"
   ]
  },
  {
   "cell_type": "code",
   "execution_count": 14,
   "metadata": {
    "ExecuteTime": {
     "end_time": "2020-04-20T12:23:42.971068Z",
     "start_time": "2020-04-20T12:23:42.968636Z"
    }
   },
   "outputs": [],
   "source": [
    "NrndShuffles = 100"
   ]
  },
  {
   "cell_type": "code",
   "execution_count": 15,
   "metadata": {
    "ExecuteTime": {
     "end_time": "2020-04-20T12:23:43.576636Z",
     "start_time": "2020-04-20T12:23:43.573656Z"
    }
   },
   "outputs": [],
   "source": [
    "rndCumulHist = {fl: np.nan*np.ones((NrndShuffles, len(binCenters))) for fl in genFilter}"
   ]
  },
  {
   "cell_type": "code",
   "execution_count": 16,
   "metadata": {
    "ExecuteTime": {
     "end_time": "2020-04-20T12:23:45.820266Z",
     "start_time": "2020-04-20T12:23:45.817274Z"
    }
   },
   "outputs": [],
   "source": [
    "interactions = np.vstack(dinuDF[\"interaction\"].values)"
   ]
  },
  {
   "cell_type": "code",
   "execution_count": 17,
   "metadata": {
    "ExecuteTime": {
     "end_time": "2020-04-20T12:29:48.065017Z",
     "start_time": "2020-04-20T12:23:53.084793Z"
    }
   },
   "outputs": [],
   "source": [
    "for iRnd in range(NrndShuffles):\n",
    "    tmpModel = copy.deepcopy(theModel)\n",
    "    m1, m2, pi = permuteMatricesAndInteractions(theModel[\"matrices\"], interactions, rndSeed=iRnd)\n",
    "    tmpModel[\"matrices\"] = [m1,m2]\n",
    "    bricks = getBrickDict({treatAs: numSeqs}, tmpModel,\n",
    "                          dinucl=True,\n",
    "                          dinuCoordsAndValues=(pi, dinuDF[\"value\"].values)\n",
    "                         )[treatAs]\n",
    "    freeEs = -logsumexp(-bricks, axis=-1)\n",
    "    rndFreeEnergy = { fl: freeEs[:,genFilter[fl]].flatten() for fl in genFilter }\n",
    "    for fl in genFilter:\n",
    "        rndCumulHist[fl][iRnd] = [(rndFreeEnergy[fl]<l).sum() for l in bbs[1:]]\n",
    "    if os.path.isfile(\"stop.log\"): break\n",
    "    break"
   ]
  },
  {
   "cell_type": "code",
   "execution_count": 18,
   "metadata": {
    "ExecuteTime": {
     "end_time": "2020-04-20T12:29:48.069441Z",
     "start_time": "2020-04-20T12:29:48.066890Z"
    }
   },
   "outputs": [],
   "source": [
    "# with open(\"nbdumps/shuffled_matrix_genome_free_energies_with_pwi_reindexed.dmp\",\"wb\") as f:\n",
    "#     pickle.dump(rndCumulHist,f)"
   ]
  },
  {
   "cell_type": "code",
   "execution_count": 26,
   "metadata": {
    "ExecuteTime": {
     "end_time": "2020-04-20T12:29:48.104908Z",
     "start_time": "2020-04-20T12:29:48.070829Z"
    }
   },
   "outputs": [
    {
     "ename": "FileNotFoundError",
     "evalue": "[Errno 2] No such file or directory: 'nbdumps/shuffled_matrix_genome_free_energies_with_pwi_reindexed.dmp'",
     "output_type": "error",
     "traceback": [
      "\u001b[1;31m---------------------------------------------------------------------------\u001b[0m",
      "\u001b[1;31mFileNotFoundError\u001b[0m                         Traceback (most recent call last)",
      "Cell \u001b[1;32mIn[26], line 1\u001b[0m\n\u001b[1;32m----> 1\u001b[0m \u001b[38;5;28;01mwith\u001b[39;00m \u001b[38;5;28;43mopen\u001b[39;49m\u001b[43m(\u001b[49m\u001b[38;5;124;43m\"\u001b[39;49m\u001b[38;5;124;43mnbdumps/shuffled_matrix_genome_free_energies_with_pwi_reindexed.dmp\u001b[39;49m\u001b[38;5;124;43m\"\u001b[39;49m\u001b[43m,\u001b[49m\u001b[38;5;124;43m\"\u001b[39;49m\u001b[38;5;124;43mrb\u001b[39;49m\u001b[38;5;124;43m\"\u001b[39;49m\u001b[43m)\u001b[49m \u001b[38;5;28;01mas\u001b[39;00m f:\n\u001b[0;32m      2\u001b[0m     saved \u001b[38;5;241m=\u001b[39m pkl\u001b[38;5;241m.\u001b[39mload(f)\n",
      "File \u001b[1;32m~\\AppData\\Roaming\\Python\\Python312\\site-packages\\IPython\\core\\interactiveshell.py:324\u001b[0m, in \u001b[0;36m_modified_open\u001b[1;34m(file, *args, **kwargs)\u001b[0m\n\u001b[0;32m    317\u001b[0m \u001b[38;5;28;01mif\u001b[39;00m file \u001b[38;5;129;01min\u001b[39;00m {\u001b[38;5;241m0\u001b[39m, \u001b[38;5;241m1\u001b[39m, \u001b[38;5;241m2\u001b[39m}:\n\u001b[0;32m    318\u001b[0m     \u001b[38;5;28;01mraise\u001b[39;00m \u001b[38;5;167;01mValueError\u001b[39;00m(\n\u001b[0;32m    319\u001b[0m         \u001b[38;5;124mf\u001b[39m\u001b[38;5;124m\"\u001b[39m\u001b[38;5;124mIPython won\u001b[39m\u001b[38;5;124m'\u001b[39m\u001b[38;5;124mt let you open fd=\u001b[39m\u001b[38;5;132;01m{\u001b[39;00mfile\u001b[38;5;132;01m}\u001b[39;00m\u001b[38;5;124m by default \u001b[39m\u001b[38;5;124m\"\u001b[39m\n\u001b[0;32m    320\u001b[0m         \u001b[38;5;124m\"\u001b[39m\u001b[38;5;124mas it is likely to crash IPython. If you know what you are doing, \u001b[39m\u001b[38;5;124m\"\u001b[39m\n\u001b[0;32m    321\u001b[0m         \u001b[38;5;124m\"\u001b[39m\u001b[38;5;124myou can use builtins\u001b[39m\u001b[38;5;124m'\u001b[39m\u001b[38;5;124m open.\u001b[39m\u001b[38;5;124m\"\u001b[39m\n\u001b[0;32m    322\u001b[0m     )\n\u001b[1;32m--> 324\u001b[0m \u001b[38;5;28;01mreturn\u001b[39;00m \u001b[43mio_open\u001b[49m\u001b[43m(\u001b[49m\u001b[43mfile\u001b[49m\u001b[43m,\u001b[49m\u001b[43m \u001b[49m\u001b[38;5;241;43m*\u001b[39;49m\u001b[43margs\u001b[49m\u001b[43m,\u001b[49m\u001b[43m \u001b[49m\u001b[38;5;241;43m*\u001b[39;49m\u001b[38;5;241;43m*\u001b[39;49m\u001b[43mkwargs\u001b[49m\u001b[43m)\u001b[49m\n",
      "\u001b[1;31mFileNotFoundError\u001b[0m: [Errno 2] No such file or directory: 'nbdumps/shuffled_matrix_genome_free_energies_with_pwi_reindexed.dmp'"
     ]
    }
   ],
   "source": [
    "with open(\"nbdumps/shuffled_matrix_genome_free_energies_with_pwi_reindexed.dmp\",\"rb\") as f:\n",
    "    saved = pkl.load(f)"
   ]
  },
  {
   "cell_type": "code",
   "execution_count": 20,
   "metadata": {
    "ExecuteTime": {
     "end_time": "2020-04-20T12:29:48.132325Z",
     "start_time": "2020-04-20T12:29:48.106092Z"
    }
   },
   "outputs": [],
   "source": [
    "assert np.abs(saved[fl][iRnd]- rndCumulHist[fl][iRnd]).max()<1e-5"
   ]
  },
  {
   "cell_type": "code",
   "execution_count": null,
   "metadata": {},
   "outputs": [],
   "source": []
  },
  {
   "cell_type": "markdown",
   "metadata": {
    "ExecuteTime": {
     "end_time": "2020-04-20T12:29:48.132325Z",
     "start_time": "2020-04-20T12:29:48.106092Z"
    }
   },
   "source": [
    "###  not reindexed"
   ]
  },
  {
   "cell_type": "code",
   "execution_count": 21,
   "metadata": {
    "ExecuteTime": {
     "end_time": "2020-04-20T12:36:08.231605Z",
     "start_time": "2020-04-20T12:36:08.226827Z"
    }
   },
   "outputs": [],
   "source": [
    "def permuteMatricesAndInteractions(ms_, interactions_, \n",
    "                                   rndSeed=1, \n",
    "                                   defaultSpacer=8,\n",
    "                                   test=False):\n",
    "    leftm, rightm = ms_\n",
    "    n1 = len(leftm)\n",
    "    n2 = len(rightm)\n",
    "    joined = np.vstack([leftm, rightm])\n",
    "    np.random.seed(rndSeed)\n",
    "    if test:\n",
    "        permIndex = np.arange(joined.shape[0])\n",
    "    else:\n",
    "        permIndex = np.random.permutation(np.arange(joined.shape[0]))\n",
    "    permM = joined[permIndex]\n",
    "    \n",
    "#     permIndex[permIndex>=n1]  = permIndex[permIndex>=n1]+defaultSpacer\n",
    "#     if test: print (permIndex)\n",
    "    \n",
    "# #     interactionPos = np.array(interactions_)[:,[0,2]]\n",
    "    \n",
    "#     reindexDict = dict(zip(\n",
    "#         list(range(n1))+list(range(n1+defaultSpacer, defaultSpacer+len(joined))),\n",
    "#         permIndex\n",
    "#                           ))\n",
    "#     permInteractions = np.vstack(interactions_)\n",
    "#     permInteractions[:,0] = [reindexDict[j] for j in permInteractions[:,0]]\n",
    "#     permInteractions[:,2] = [reindexDict[j] for j in permInteractions[:,2]]\n",
    "    return permM[:n1], permM[n1:], interactions_"
   ]
  },
  {
   "cell_type": "code",
   "execution_count": 22,
   "metadata": {
    "ExecuteTime": {
     "end_time": "2020-04-20T12:36:11.270389Z",
     "start_time": "2020-04-20T12:36:11.267923Z"
    }
   },
   "outputs": [],
   "source": [
    "NrndShuffles = 100"
   ]
  },
  {
   "cell_type": "code",
   "execution_count": 23,
   "metadata": {
    "ExecuteTime": {
     "end_time": "2020-04-20T12:36:14.620806Z",
     "start_time": "2020-04-20T12:36:14.617705Z"
    }
   },
   "outputs": [],
   "source": [
    "rndCumulHist = {fl: np.nan*np.ones((NrndShuffles, len(binCenters))) for fl in genFilter}"
   ]
  },
  {
   "cell_type": "code",
   "execution_count": 24,
   "metadata": {
    "ExecuteTime": {
     "end_time": "2020-04-20T12:36:15.435476Z",
     "start_time": "2020-04-20T12:36:15.432683Z"
    }
   },
   "outputs": [],
   "source": [
    "interactions = np.vstack(dinuDF[\"interaction\"].values)"
   ]
  },
  {
   "cell_type": "code",
   "execution_count": 25,
   "metadata": {
    "ExecuteTime": {
     "end_time": "2020-04-20T12:42:05.248428Z",
     "start_time": "2020-04-20T12:36:17.483913Z"
    }
   },
   "outputs": [],
   "source": [
    "for iRnd in range(NrndShuffles):\n",
    "    tmpModel = copy.deepcopy(theModel)\n",
    "    m1, m2, pi = permuteMatricesAndInteractions(theModel[\"matrices\"], interactions, rndSeed=iRnd)\n",
    "    tmpModel[\"matrices\"] = [m1,m2]\n",
    "    bricks = getBrickDict({treatAs: numSeqs}, tmpModel,\n",
    "                          dinucl=True,\n",
    "                          dinuCoordsAndValues=(pi, dinuDF[\"value\"].values)\n",
    "                         )[treatAs]\n",
    "    freeEs = -logsumexp(-bricks, axis=-1)\n",
    "    rndFreeEnergy = { fl: freeEs[:,genFilter[fl]].flatten() for fl in genFilter }\n",
    "    for fl in genFilter:\n",
    "        rndCumulHist[fl][iRnd] = [(rndFreeEnergy[fl]<l).sum() for l in bbs[1:]]\n",
    "    if os.path.isfile(\"stop.log\"): break\n",
    "    break"
   ]
  },
  {
   "cell_type": "code",
   "execution_count": 26,
   "metadata": {
    "ExecuteTime": {
     "end_time": "2020-04-20T12:42:05.252611Z",
     "start_time": "2020-04-20T12:42:05.250377Z"
    }
   },
   "outputs": [],
   "source": [
    "# with open(\"nbdumps/shuffled_matrix_genome_free_energies_with_pwi.dmp\",\"wb\") as f:\n",
    "#     pickle.dump(rndCumulHist,f)"
   ]
  },
  {
   "cell_type": "code",
   "execution_count": 27,
   "metadata": {
    "ExecuteTime": {
     "end_time": "2020-04-20T12:42:05.284660Z",
     "start_time": "2020-04-20T12:42:05.253964Z"
    }
   },
   "outputs": [],
   "source": [
    "with open(\"nbdumps/shuffled_matrix_genome_free_energies_with_pwi.dmp\",\"rb\") as f:\n",
    "    saved = pkl.load(f)"
   ]
  },
  {
   "cell_type": "code",
   "execution_count": 28,
   "metadata": {
    "ExecuteTime": {
     "end_time": "2020-04-20T12:42:05.329395Z",
     "start_time": "2020-04-20T12:42:05.285798Z"
    }
   },
   "outputs": [],
   "source": [
    "assert np.abs(saved[fl][iRnd]- rndCumulHist[fl][iRnd]).max()<1e-5"
   ]
  },
  {
   "cell_type": "code",
   "execution_count": null,
   "metadata": {},
   "outputs": [],
   "source": []
  }
 ],
 "metadata": {
  "kernelspec": {
   "display_name": "Python 3",
   "language": "python",
   "name": "python3"
  },
  "language_info": {
   "codemirror_mode": {
    "name": "ipython",
    "version": 3
   },
   "file_extension": ".py",
   "mimetype": "text/x-python",
   "name": "python",
   "nbconvert_exporter": "python",
   "pygments_lexer": "ipython3",
   "version": "3.12.3"
  },
  "toc": {
   "base_numbering": 1,
   "nav_menu": {},
   "number_sections": true,
   "sideBar": true,
   "skip_h1_title": false,
   "title_cell": "Table of Contents",
   "title_sidebar": "Contents",
   "toc_cell": false,
   "toc_position": {},
   "toc_section_display": true,
   "toc_window_display": true
  }
 },
 "nbformat": 4,
 "nbformat_minor": 4
}
